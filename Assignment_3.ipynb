{
  "nbformat": 4,
  "nbformat_minor": 0,
  "metadata": {
    "colab": {
      "name": "Assignment_3.ipynb",
      "provenance": [],
      "toc_visible": true,
      "authorship_tag": "ABX9TyPgoa3KS3KnYOE+xB0gQaLp",
      "include_colab_link": true
    },
    "kernelspec": {
      "name": "python3",
      "display_name": "Python 3"
    },
    "language_info": {
      "name": "python"
    },
    "accelerator": "GPU"
  },
  "cells": [
    {
      "cell_type": "markdown",
      "metadata": {
        "id": "view-in-github",
        "colab_type": "text"
      },
      "source": [
        "<a href=\"https://colab.research.google.com/github/erinmcmahon26/NLP-MovieReviews/blob/main/Assignment_3.ipynb\" target=\"_parent\"><img src=\"https://colab.research.google.com/assets/colab-badge.svg\" alt=\"Open In Colab\"/></a>"
      ]
    },
    {
      "cell_type": "markdown",
      "source": [
        "### Import Libraries and Ingest Data"
      ],
      "metadata": {
        "id": "klqvKFungMQw"
      }
    },
    {
      "cell_type": "code",
      "execution_count": 102,
      "metadata": {
        "id": "yBiNvik-Y-uM"
      },
      "outputs": [],
      "source": [
        "import re\n",
        "import string\n",
        "import nltk\n",
        "import gensim\n",
        "import spacy\n",
        "\n",
        "import pandas as pd\n",
        "import numpy as np\n",
        "\n",
        "import networkx as nx\n",
        "\n",
        "import seaborn as sns\n",
        "import matplotlib.pyplot as plt\n",
        "\n",
        "from collections import Counter\n",
        "from dataclasses import dataclass\n",
        "from timeit import default_timer as timer\n",
        "\n",
        "from nltk.corpus import stopwords\n",
        "from nltk.stem.wordnet import WordNetLemmatizer\n",
        "from nltk.tokenize import word_tokenize \n",
        "\n",
        "from gensim.models import Word2Vec\n",
        "\n",
        "from spacy import displacy\n",
        "from spacy.matcher import Matcher \n",
        "from spacy.tokens import Span \n",
        "\n",
        "from tqdm import tqdm\n",
        "\n",
        "from sklearn.feature_extraction.text import TfidfVectorizer\n",
        "from sklearn.feature_extraction.text import CountVectorizer\n",
        "from sklearn.metrics.pairwise import cosine_similarity\n",
        "from sklearn.svm import SVC\n",
        "from sklearn.metrics import accuracy_score, f1_score\n",
        "from sklearn.model_selection import train_test_split\n",
        "\n",
        "from IPython.display import display, HTML\n",
        "\n",
        "from sklearn.metrics import confusion_matrix, classification_report\n",
        "from sklearn.metrics import accuracy_score, f1_score\n",
        "\n",
        "import tensorflow as tf\n",
        "import tensorflow_datasets as tfds\n",
        "from tensorflow import keras\n",
        "\n",
        "from typing import List, Callable, Dict, Tuple, Set"
      ]
    },
    {
      "cell_type": "code",
      "source": [
        "tf.random.set_seed(2022)"
      ],
      "metadata": {
        "id": "Q8U-9z27ZGgr"
      },
      "execution_count": 103,
      "outputs": []
    },
    {
      "cell_type": "code",
      "source": [
        "import spacy.cli\n",
        "\n",
        "spacy.cli.download(\"en_core_web_lg\")"
      ],
      "metadata": {
        "colab": {
          "base_uri": "https://localhost:8080/"
        },
        "id": "HxshehvHZHo5",
        "outputId": "328d7e15-d34a-41f5-8a79-f49191d0bb8c"
      },
      "execution_count": 104,
      "outputs": [
        {
          "output_type": "stream",
          "name": "stdout",
          "text": [
            "\u001b[38;5;2m✔ Download and installation successful\u001b[0m\n",
            "You can now load the model via spacy.load('en_core_web_lg')\n"
          ]
        }
      ]
    },
    {
      "cell_type": "code",
      "source": [
        "nlp = spacy.load('en_core_web_lg')"
      ],
      "metadata": {
        "id": "82RAgJnuZLSf"
      },
      "execution_count": 105,
      "outputs": []
    },
    {
      "cell_type": "code",
      "source": [
        "nltk.download('stopwords',quiet=True)\n",
        "nltk.download('wordnet',quiet=True)\n",
        "nltk.download('punkt',quiet=True)\n",
        "nltk.download('omw-1.4',quiet=True)"
      ],
      "metadata": {
        "colab": {
          "base_uri": "https://localhost:8080/"
        },
        "id": "FGOrn-z7ZNov",
        "outputId": "b06748a3-62b4-4587-98ff-10b4fb21d60d"
      },
      "execution_count": 106,
      "outputs": [
        {
          "output_type": "execute_result",
          "data": {
            "text/plain": [
              "True"
            ]
          },
          "metadata": {},
          "execution_count": 106
        }
      ]
    },
    {
      "cell_type": "code",
      "source": [
        "corpus=pd.read_csv(r'https://raw.githubusercontent.com/djp840/MSDS_453_Public/main/MSDS453_ClassCorpus/MSDS453_Sec57_2202_ClassCorpus_v2.csv')"
      ],
      "metadata": {
        "id": "CuZ0URVCZTvA"
      },
      "execution_count": 107,
      "outputs": []
    },
    {
      "cell_type": "code",
      "source": [
        "corpus.head()"
      ],
      "metadata": {
        "colab": {
          "base_uri": "https://localhost:8080/",
          "height": 206
        },
        "id": "Iyh2dIYWsa59",
        "outputId": "02823ea6-e36b-440f-dbfa-7af162bd2705"
      },
      "execution_count": 108,
      "outputs": [
        {
          "output_type": "execute_result",
          "data": {
            "text/plain": [
              "   Doc_ID               DSI_Title Student Name Genre of Movie  \\\n",
              "0       1  EMU_Doc1_TheConjuring3          EMU         Horror   \n",
              "1       2  EMU_Doc2_TheConjuring3          EMU         Horror   \n",
              "2       3  EMU_Doc3_TheConjuring3          EMU         Horror   \n",
              "3       4  EMU_Doc4_TheConjuring3          EMU         Horror   \n",
              "4       5  EMU_Doc5_TheConjuring3          EMU         Horror   \n",
              "\n",
              "  Review Type (pos or neg)      Movie Title  \\\n",
              "0                 Negative  The Conjuring 3   \n",
              "1                 Positive  The Conjuring 3   \n",
              "2                 Positive  The Conjuring 3   \n",
              "3                 Positive  The Conjuring 3   \n",
              "4                 Positive  The Conjuring 3   \n",
              "\n",
              "                                                Text  \n",
              "0  I must admit that when I sat down to watch the...  \n",
              "1  While The Conjuring franchise has stood as one...  \n",
              "2  We’re well into the world and the lore of the ...  \n",
              "3  James Wan's 2013 feature The Conjuring was som...  \n",
              "4  Two Conjuring films and several spinoffs estab...  "
            ],
            "text/html": [
              "\n",
              "  <div id=\"df-03a48e97-e030-4e5d-803e-1a801d88d8b3\">\n",
              "    <div class=\"colab-df-container\">\n",
              "      <div>\n",
              "<style scoped>\n",
              "    .dataframe tbody tr th:only-of-type {\n",
              "        vertical-align: middle;\n",
              "    }\n",
              "\n",
              "    .dataframe tbody tr th {\n",
              "        vertical-align: top;\n",
              "    }\n",
              "\n",
              "    .dataframe thead th {\n",
              "        text-align: right;\n",
              "    }\n",
              "</style>\n",
              "<table border=\"1\" class=\"dataframe\">\n",
              "  <thead>\n",
              "    <tr style=\"text-align: right;\">\n",
              "      <th></th>\n",
              "      <th>Doc_ID</th>\n",
              "      <th>DSI_Title</th>\n",
              "      <th>Student Name</th>\n",
              "      <th>Genre of Movie</th>\n",
              "      <th>Review Type (pos or neg)</th>\n",
              "      <th>Movie Title</th>\n",
              "      <th>Text</th>\n",
              "    </tr>\n",
              "  </thead>\n",
              "  <tbody>\n",
              "    <tr>\n",
              "      <th>0</th>\n",
              "      <td>1</td>\n",
              "      <td>EMU_Doc1_TheConjuring3</td>\n",
              "      <td>EMU</td>\n",
              "      <td>Horror</td>\n",
              "      <td>Negative</td>\n",
              "      <td>The Conjuring 3</td>\n",
              "      <td>I must admit that when I sat down to watch the...</td>\n",
              "    </tr>\n",
              "    <tr>\n",
              "      <th>1</th>\n",
              "      <td>2</td>\n",
              "      <td>EMU_Doc2_TheConjuring3</td>\n",
              "      <td>EMU</td>\n",
              "      <td>Horror</td>\n",
              "      <td>Positive</td>\n",
              "      <td>The Conjuring 3</td>\n",
              "      <td>While The Conjuring franchise has stood as one...</td>\n",
              "    </tr>\n",
              "    <tr>\n",
              "      <th>2</th>\n",
              "      <td>3</td>\n",
              "      <td>EMU_Doc3_TheConjuring3</td>\n",
              "      <td>EMU</td>\n",
              "      <td>Horror</td>\n",
              "      <td>Positive</td>\n",
              "      <td>The Conjuring 3</td>\n",
              "      <td>We’re well into the world and the lore of the ...</td>\n",
              "    </tr>\n",
              "    <tr>\n",
              "      <th>3</th>\n",
              "      <td>4</td>\n",
              "      <td>EMU_Doc4_TheConjuring3</td>\n",
              "      <td>EMU</td>\n",
              "      <td>Horror</td>\n",
              "      <td>Positive</td>\n",
              "      <td>The Conjuring 3</td>\n",
              "      <td>James Wan's 2013 feature The Conjuring was som...</td>\n",
              "    </tr>\n",
              "    <tr>\n",
              "      <th>4</th>\n",
              "      <td>5</td>\n",
              "      <td>EMU_Doc5_TheConjuring3</td>\n",
              "      <td>EMU</td>\n",
              "      <td>Horror</td>\n",
              "      <td>Positive</td>\n",
              "      <td>The Conjuring 3</td>\n",
              "      <td>Two Conjuring films and several spinoffs estab...</td>\n",
              "    </tr>\n",
              "  </tbody>\n",
              "</table>\n",
              "</div>\n",
              "      <button class=\"colab-df-convert\" onclick=\"convertToInteractive('df-03a48e97-e030-4e5d-803e-1a801d88d8b3')\"\n",
              "              title=\"Convert this dataframe to an interactive table.\"\n",
              "              style=\"display:none;\">\n",
              "        \n",
              "  <svg xmlns=\"http://www.w3.org/2000/svg\" height=\"24px\"viewBox=\"0 0 24 24\"\n",
              "       width=\"24px\">\n",
              "    <path d=\"M0 0h24v24H0V0z\" fill=\"none\"/>\n",
              "    <path d=\"M18.56 5.44l.94 2.06.94-2.06 2.06-.94-2.06-.94-.94-2.06-.94 2.06-2.06.94zm-11 1L8.5 8.5l.94-2.06 2.06-.94-2.06-.94L8.5 2.5l-.94 2.06-2.06.94zm10 10l.94 2.06.94-2.06 2.06-.94-2.06-.94-.94-2.06-.94 2.06-2.06.94z\"/><path d=\"M17.41 7.96l-1.37-1.37c-.4-.4-.92-.59-1.43-.59-.52 0-1.04.2-1.43.59L10.3 9.45l-7.72 7.72c-.78.78-.78 2.05 0 2.83L4 21.41c.39.39.9.59 1.41.59.51 0 1.02-.2 1.41-.59l7.78-7.78 2.81-2.81c.8-.78.8-2.07 0-2.86zM5.41 20L4 18.59l7.72-7.72 1.47 1.35L5.41 20z\"/>\n",
              "  </svg>\n",
              "      </button>\n",
              "      \n",
              "  <style>\n",
              "    .colab-df-container {\n",
              "      display:flex;\n",
              "      flex-wrap:wrap;\n",
              "      gap: 12px;\n",
              "    }\n",
              "\n",
              "    .colab-df-convert {\n",
              "      background-color: #E8F0FE;\n",
              "      border: none;\n",
              "      border-radius: 50%;\n",
              "      cursor: pointer;\n",
              "      display: none;\n",
              "      fill: #1967D2;\n",
              "      height: 32px;\n",
              "      padding: 0 0 0 0;\n",
              "      width: 32px;\n",
              "    }\n",
              "\n",
              "    .colab-df-convert:hover {\n",
              "      background-color: #E2EBFA;\n",
              "      box-shadow: 0px 1px 2px rgba(60, 64, 67, 0.3), 0px 1px 3px 1px rgba(60, 64, 67, 0.15);\n",
              "      fill: #174EA6;\n",
              "    }\n",
              "\n",
              "    [theme=dark] .colab-df-convert {\n",
              "      background-color: #3B4455;\n",
              "      fill: #D2E3FC;\n",
              "    }\n",
              "\n",
              "    [theme=dark] .colab-df-convert:hover {\n",
              "      background-color: #434B5C;\n",
              "      box-shadow: 0px 1px 3px 1px rgba(0, 0, 0, 0.15);\n",
              "      filter: drop-shadow(0px 1px 2px rgba(0, 0, 0, 0.3));\n",
              "      fill: #FFFFFF;\n",
              "    }\n",
              "  </style>\n",
              "\n",
              "      <script>\n",
              "        const buttonEl =\n",
              "          document.querySelector('#df-03a48e97-e030-4e5d-803e-1a801d88d8b3 button.colab-df-convert');\n",
              "        buttonEl.style.display =\n",
              "          google.colab.kernel.accessAllowed ? 'block' : 'none';\n",
              "\n",
              "        async function convertToInteractive(key) {\n",
              "          const element = document.querySelector('#df-03a48e97-e030-4e5d-803e-1a801d88d8b3');\n",
              "          const dataTable =\n",
              "            await google.colab.kernel.invokeFunction('convertToInteractive',\n",
              "                                                     [key], {});\n",
              "          if (!dataTable) return;\n",
              "\n",
              "          const docLinkHtml = 'Like what you see? Visit the ' +\n",
              "            '<a target=\"_blank\" href=https://colab.research.google.com/notebooks/data_table.ipynb>data table notebook</a>'\n",
              "            + ' to learn more about interactive tables.';\n",
              "          element.innerHTML = '';\n",
              "          dataTable['output_type'] = 'display_data';\n",
              "          await google.colab.output.renderOutput(dataTable, element);\n",
              "          const docLink = document.createElement('div');\n",
              "          docLink.innerHTML = docLinkHtml;\n",
              "          element.appendChild(docLink);\n",
              "        }\n",
              "      </script>\n",
              "    </div>\n",
              "  </div>\n",
              "  "
            ]
          },
          "metadata": {},
          "execution_count": 108
        }
      ]
    },
    {
      "cell_type": "markdown",
      "source": [
        "### EDA"
      ],
      "metadata": {
        "id": "E-Mfe0sfgUuI"
      }
    },
    {
      "cell_type": "code",
      "source": [
        "def remove_punctuation(text):\n",
        "    return re.sub('[^a-zA-Z]', ' ', str(text))\n",
        "\n",
        "def remove_tags(text):    \n",
        "    return re.sub(\"&lt;/?.*?&gt;\",\" &lt;&gt; \", text)\n",
        "    \n",
        "def remove_special_chars_and_digits(text):\n",
        "    return re.sub(\"(\\\\d|\\\\W)+\",\" \", text)\n",
        "\n",
        "def get_sentences(text: str) -> List[str]:\n",
        "    return [str(x) for x in nlp(text).sents]\n",
        "\n",
        "def get_lemmas(text: str, stopwords: Set[str]) -> List[str]:\n",
        "    initial = [remove_tags(remove_special_chars_and_digits(remove_punctuation(x.lemma_.lower()))) for x in nlp(text)]\n",
        "    return [x for x in initial if x not in stopwords]\n",
        "\n",
        "def lemmatize_sentence(text: str, stopwords: Set[str]) -> str:\n",
        "    return ' '.join(get_lemmas(text, stopwords))\n",
        "\n",
        "def remove_stop_words(in_text):\n",
        "    stop_words = set(stopwords.words('english')) \n",
        "    word_tokens = word_tokenize(in_text)  \n",
        "    filtered_sentence = [w for w in word_tokens if not w in stop_words] \n",
        "    return filtered_sentence\n",
        "\n",
        "def apply_lemmatization(in_text):\n",
        "    # Lemmatization\n",
        "    lem = WordNetLemmatizer()\n",
        "    word_list = nltk.word_tokenize(in_text)\n",
        "    output = ' '.join([lem.lemmatize(w) for w in word_list])\n",
        "    return output\n",
        "\n",
        "def clean_doc(doc): \n",
        "    #doc = remove_punctuation(doc)\n",
        "    doc= ' '.join(remove_stop_words(doc))\n",
        "    doc = apply_lemmatization(doc)\n",
        "    return doc\n",
        "\n",
        "def get_dataset_partitions_pd(df, train_split=0.8, val_split=0.10, test_split=0.10):\n",
        "       # Specify seed to always have the same split distribution between runs\n",
        "    df_sample = df.sample(frac=1, random_state=12)\n",
        "    indices_or_sections = [int(.8*len(df)), int(.9*len(df))]\n",
        "    train_ds, val_ds, test_ds = np.split(df_sample, indices_or_sections)\n",
        "    return train_ds, val_ds, test_ds"
      ],
      "metadata": {
        "id": "9WSo9eFne3eM"
      },
      "execution_count": 109,
      "outputs": []
    },
    {
      "cell_type": "code",
      "source": [
        "corpus['raw_sentences'] = corpus.Text.apply(get_sentences)"
      ],
      "metadata": {
        "id": "UEZrd_AjsRVB"
      },
      "execution_count": 110,
      "outputs": []
    },
    {
      "cell_type": "code",
      "source": [
        "corpus.head()"
      ],
      "metadata": {
        "colab": {
          "base_uri": "https://localhost:8080/",
          "height": 206
        },
        "id": "LANvVYrgscH4",
        "outputId": "e27edbe6-840b-4aeb-a456-cf7730765e0e"
      },
      "execution_count": 111,
      "outputs": [
        {
          "output_type": "execute_result",
          "data": {
            "text/plain": [
              "   Doc_ID               DSI_Title Student Name Genre of Movie  \\\n",
              "0       1  EMU_Doc1_TheConjuring3          EMU         Horror   \n",
              "1       2  EMU_Doc2_TheConjuring3          EMU         Horror   \n",
              "2       3  EMU_Doc3_TheConjuring3          EMU         Horror   \n",
              "3       4  EMU_Doc4_TheConjuring3          EMU         Horror   \n",
              "4       5  EMU_Doc5_TheConjuring3          EMU         Horror   \n",
              "\n",
              "  Review Type (pos or neg)      Movie Title  \\\n",
              "0                 Negative  The Conjuring 3   \n",
              "1                 Positive  The Conjuring 3   \n",
              "2                 Positive  The Conjuring 3   \n",
              "3                 Positive  The Conjuring 3   \n",
              "4                 Positive  The Conjuring 3   \n",
              "\n",
              "                                                Text  \\\n",
              "0  I must admit that when I sat down to watch the...   \n",
              "1  While The Conjuring franchise has stood as one...   \n",
              "2  We’re well into the world and the lore of the ...   \n",
              "3  James Wan's 2013 feature The Conjuring was som...   \n",
              "4  Two Conjuring films and several spinoffs estab...   \n",
              "\n",
              "                                       raw_sentences  \n",
              "0  [I must admit that when I sat down to watch th...  \n",
              "1  [While The Conjuring franchise has stood as on...  \n",
              "2  [We’re well into the world and the lore of the...  \n",
              "3  [James Wan's 2013 feature , The Conjuring was ...  \n",
              "4  [Two Conjuring films and several spinoffs esta...  "
            ],
            "text/html": [
              "\n",
              "  <div id=\"df-882ac471-a7ae-4bd0-8b8f-f927a79fc8fb\">\n",
              "    <div class=\"colab-df-container\">\n",
              "      <div>\n",
              "<style scoped>\n",
              "    .dataframe tbody tr th:only-of-type {\n",
              "        vertical-align: middle;\n",
              "    }\n",
              "\n",
              "    .dataframe tbody tr th {\n",
              "        vertical-align: top;\n",
              "    }\n",
              "\n",
              "    .dataframe thead th {\n",
              "        text-align: right;\n",
              "    }\n",
              "</style>\n",
              "<table border=\"1\" class=\"dataframe\">\n",
              "  <thead>\n",
              "    <tr style=\"text-align: right;\">\n",
              "      <th></th>\n",
              "      <th>Doc_ID</th>\n",
              "      <th>DSI_Title</th>\n",
              "      <th>Student Name</th>\n",
              "      <th>Genre of Movie</th>\n",
              "      <th>Review Type (pos or neg)</th>\n",
              "      <th>Movie Title</th>\n",
              "      <th>Text</th>\n",
              "      <th>raw_sentences</th>\n",
              "    </tr>\n",
              "  </thead>\n",
              "  <tbody>\n",
              "    <tr>\n",
              "      <th>0</th>\n",
              "      <td>1</td>\n",
              "      <td>EMU_Doc1_TheConjuring3</td>\n",
              "      <td>EMU</td>\n",
              "      <td>Horror</td>\n",
              "      <td>Negative</td>\n",
              "      <td>The Conjuring 3</td>\n",
              "      <td>I must admit that when I sat down to watch the...</td>\n",
              "      <td>[I must admit that when I sat down to watch th...</td>\n",
              "    </tr>\n",
              "    <tr>\n",
              "      <th>1</th>\n",
              "      <td>2</td>\n",
              "      <td>EMU_Doc2_TheConjuring3</td>\n",
              "      <td>EMU</td>\n",
              "      <td>Horror</td>\n",
              "      <td>Positive</td>\n",
              "      <td>The Conjuring 3</td>\n",
              "      <td>While The Conjuring franchise has stood as one...</td>\n",
              "      <td>[While The Conjuring franchise has stood as on...</td>\n",
              "    </tr>\n",
              "    <tr>\n",
              "      <th>2</th>\n",
              "      <td>3</td>\n",
              "      <td>EMU_Doc3_TheConjuring3</td>\n",
              "      <td>EMU</td>\n",
              "      <td>Horror</td>\n",
              "      <td>Positive</td>\n",
              "      <td>The Conjuring 3</td>\n",
              "      <td>We’re well into the world and the lore of the ...</td>\n",
              "      <td>[We’re well into the world and the lore of the...</td>\n",
              "    </tr>\n",
              "    <tr>\n",
              "      <th>3</th>\n",
              "      <td>4</td>\n",
              "      <td>EMU_Doc4_TheConjuring3</td>\n",
              "      <td>EMU</td>\n",
              "      <td>Horror</td>\n",
              "      <td>Positive</td>\n",
              "      <td>The Conjuring 3</td>\n",
              "      <td>James Wan's 2013 feature The Conjuring was som...</td>\n",
              "      <td>[James Wan's 2013 feature , The Conjuring was ...</td>\n",
              "    </tr>\n",
              "    <tr>\n",
              "      <th>4</th>\n",
              "      <td>5</td>\n",
              "      <td>EMU_Doc5_TheConjuring3</td>\n",
              "      <td>EMU</td>\n",
              "      <td>Horror</td>\n",
              "      <td>Positive</td>\n",
              "      <td>The Conjuring 3</td>\n",
              "      <td>Two Conjuring films and several spinoffs estab...</td>\n",
              "      <td>[Two Conjuring films and several spinoffs esta...</td>\n",
              "    </tr>\n",
              "  </tbody>\n",
              "</table>\n",
              "</div>\n",
              "      <button class=\"colab-df-convert\" onclick=\"convertToInteractive('df-882ac471-a7ae-4bd0-8b8f-f927a79fc8fb')\"\n",
              "              title=\"Convert this dataframe to an interactive table.\"\n",
              "              style=\"display:none;\">\n",
              "        \n",
              "  <svg xmlns=\"http://www.w3.org/2000/svg\" height=\"24px\"viewBox=\"0 0 24 24\"\n",
              "       width=\"24px\">\n",
              "    <path d=\"M0 0h24v24H0V0z\" fill=\"none\"/>\n",
              "    <path d=\"M18.56 5.44l.94 2.06.94-2.06 2.06-.94-2.06-.94-.94-2.06-.94 2.06-2.06.94zm-11 1L8.5 8.5l.94-2.06 2.06-.94-2.06-.94L8.5 2.5l-.94 2.06-2.06.94zm10 10l.94 2.06.94-2.06 2.06-.94-2.06-.94-.94-2.06-.94 2.06-2.06.94z\"/><path d=\"M17.41 7.96l-1.37-1.37c-.4-.4-.92-.59-1.43-.59-.52 0-1.04.2-1.43.59L10.3 9.45l-7.72 7.72c-.78.78-.78 2.05 0 2.83L4 21.41c.39.39.9.59 1.41.59.51 0 1.02-.2 1.41-.59l7.78-7.78 2.81-2.81c.8-.78.8-2.07 0-2.86zM5.41 20L4 18.59l7.72-7.72 1.47 1.35L5.41 20z\"/>\n",
              "  </svg>\n",
              "      </button>\n",
              "      \n",
              "  <style>\n",
              "    .colab-df-container {\n",
              "      display:flex;\n",
              "      flex-wrap:wrap;\n",
              "      gap: 12px;\n",
              "    }\n",
              "\n",
              "    .colab-df-convert {\n",
              "      background-color: #E8F0FE;\n",
              "      border: none;\n",
              "      border-radius: 50%;\n",
              "      cursor: pointer;\n",
              "      display: none;\n",
              "      fill: #1967D2;\n",
              "      height: 32px;\n",
              "      padding: 0 0 0 0;\n",
              "      width: 32px;\n",
              "    }\n",
              "\n",
              "    .colab-df-convert:hover {\n",
              "      background-color: #E2EBFA;\n",
              "      box-shadow: 0px 1px 2px rgba(60, 64, 67, 0.3), 0px 1px 3px 1px rgba(60, 64, 67, 0.15);\n",
              "      fill: #174EA6;\n",
              "    }\n",
              "\n",
              "    [theme=dark] .colab-df-convert {\n",
              "      background-color: #3B4455;\n",
              "      fill: #D2E3FC;\n",
              "    }\n",
              "\n",
              "    [theme=dark] .colab-df-convert:hover {\n",
              "      background-color: #434B5C;\n",
              "      box-shadow: 0px 1px 3px 1px rgba(0, 0, 0, 0.15);\n",
              "      filter: drop-shadow(0px 1px 2px rgba(0, 0, 0, 0.3));\n",
              "      fill: #FFFFFF;\n",
              "    }\n",
              "  </style>\n",
              "\n",
              "      <script>\n",
              "        const buttonEl =\n",
              "          document.querySelector('#df-882ac471-a7ae-4bd0-8b8f-f927a79fc8fb button.colab-df-convert');\n",
              "        buttonEl.style.display =\n",
              "          google.colab.kernel.accessAllowed ? 'block' : 'none';\n",
              "\n",
              "        async function convertToInteractive(key) {\n",
              "          const element = document.querySelector('#df-882ac471-a7ae-4bd0-8b8f-f927a79fc8fb');\n",
              "          const dataTable =\n",
              "            await google.colab.kernel.invokeFunction('convertToInteractive',\n",
              "                                                     [key], {});\n",
              "          if (!dataTable) return;\n",
              "\n",
              "          const docLinkHtml = 'Like what you see? Visit the ' +\n",
              "            '<a target=\"_blank\" href=https://colab.research.google.com/notebooks/data_table.ipynb>data table notebook</a>'\n",
              "            + ' to learn more about interactive tables.';\n",
              "          element.innerHTML = '';\n",
              "          dataTable['output_type'] = 'display_data';\n",
              "          await google.colab.output.renderOutput(dataTable, element);\n",
              "          const docLink = document.createElement('div');\n",
              "          docLink.innerHTML = docLinkHtml;\n",
              "          element.appendChild(docLink);\n",
              "        }\n",
              "      </script>\n",
              "    </div>\n",
              "  </div>\n",
              "  "
            ]
          },
          "metadata": {},
          "execution_count": 111
        }
      ]
    },
    {
      "cell_type": "code",
      "source": [
        "corpus['Movie Title'].value_counts()"
      ],
      "metadata": {
        "colab": {
          "base_uri": "https://localhost:8080/"
        },
        "id": "58OwYjH5se3k",
        "outputId": "872bcab9-faef-467f-d5bf-c96e7356d0d3"
      },
      "execution_count": 112,
      "outputs": [
        {
          "output_type": "execute_result",
          "data": {
            "text/plain": [
              "The Conjuring 3                                           10\n",
              "Mission Impossible Fallout                                10\n",
              "Encanto                                                   10\n",
              "Guardians of the Galaxy                                   10\n",
              "Frozen II                                                 10\n",
              "Red Notice                                                10\n",
              "The Ring                                                  10\n",
              "Arrival                                                   10\n",
              "Us                                                        10\n",
              "Spider Man 3                                              10\n",
              "Hereditary                                                10\n",
              "The Grand Budapest Hotel                                  10\n",
              "Pirates of the Caribbean: The Curse of the Black Pearl    10\n",
              "The Matrix Resurrections                                  10\n",
              "Cruella                                                   10\n",
              "Speed Racer                                               10\n",
              "Lamb                                                      10\n",
              "Interstellar                                              10\n",
              "The Martian                                               10\n",
              "James Bond, Casino Royale                                 10\n",
              "Name: Movie Title, dtype: int64"
            ]
          },
          "metadata": {},
          "execution_count": 112
        }
      ]
    },
    {
      "cell_type": "code",
      "source": [
        "# drop duplicates found from last notebook\n",
        "corpus = corpus.drop(24)\n",
        "corpus = corpus.drop(42)"
      ],
      "metadata": {
        "id": "Dkecu0k2f6pD"
      },
      "execution_count": 113,
      "outputs": []
    },
    {
      "cell_type": "code",
      "source": [
        "fulldata = corpus.copy()"
      ],
      "metadata": {
        "id": "xEjWj47wZUFX"
      },
      "execution_count": 114,
      "outputs": []
    },
    {
      "cell_type": "code",
      "source": [
        "fulldata.head()"
      ],
      "metadata": {
        "colab": {
          "base_uri": "https://localhost:8080/",
          "height": 206
        },
        "id": "a1Ks2PdofAX3",
        "outputId": "7dccfcda-4c2b-4a53-976f-6f02d74da8d1"
      },
      "execution_count": 115,
      "outputs": [
        {
          "output_type": "execute_result",
          "data": {
            "text/plain": [
              "   Doc_ID               DSI_Title Student Name Genre of Movie  \\\n",
              "0       1  EMU_Doc1_TheConjuring3          EMU         Horror   \n",
              "1       2  EMU_Doc2_TheConjuring3          EMU         Horror   \n",
              "2       3  EMU_Doc3_TheConjuring3          EMU         Horror   \n",
              "3       4  EMU_Doc4_TheConjuring3          EMU         Horror   \n",
              "4       5  EMU_Doc5_TheConjuring3          EMU         Horror   \n",
              "\n",
              "  Review Type (pos or neg)      Movie Title  \\\n",
              "0                 Negative  The Conjuring 3   \n",
              "1                 Positive  The Conjuring 3   \n",
              "2                 Positive  The Conjuring 3   \n",
              "3                 Positive  The Conjuring 3   \n",
              "4                 Positive  The Conjuring 3   \n",
              "\n",
              "                                                Text  \\\n",
              "0  I must admit that when I sat down to watch the...   \n",
              "1  While The Conjuring franchise has stood as one...   \n",
              "2  We’re well into the world and the lore of the ...   \n",
              "3  James Wan's 2013 feature The Conjuring was som...   \n",
              "4  Two Conjuring films and several spinoffs estab...   \n",
              "\n",
              "                                       raw_sentences  \n",
              "0  [I must admit that when I sat down to watch th...  \n",
              "1  [While The Conjuring franchise has stood as on...  \n",
              "2  [We’re well into the world and the lore of the...  \n",
              "3  [James Wan's 2013 feature , The Conjuring was ...  \n",
              "4  [Two Conjuring films and several spinoffs esta...  "
            ],
            "text/html": [
              "\n",
              "  <div id=\"df-2b6940eb-b31f-4aaa-9dbf-76bb5736aa91\">\n",
              "    <div class=\"colab-df-container\">\n",
              "      <div>\n",
              "<style scoped>\n",
              "    .dataframe tbody tr th:only-of-type {\n",
              "        vertical-align: middle;\n",
              "    }\n",
              "\n",
              "    .dataframe tbody tr th {\n",
              "        vertical-align: top;\n",
              "    }\n",
              "\n",
              "    .dataframe thead th {\n",
              "        text-align: right;\n",
              "    }\n",
              "</style>\n",
              "<table border=\"1\" class=\"dataframe\">\n",
              "  <thead>\n",
              "    <tr style=\"text-align: right;\">\n",
              "      <th></th>\n",
              "      <th>Doc_ID</th>\n",
              "      <th>DSI_Title</th>\n",
              "      <th>Student Name</th>\n",
              "      <th>Genre of Movie</th>\n",
              "      <th>Review Type (pos or neg)</th>\n",
              "      <th>Movie Title</th>\n",
              "      <th>Text</th>\n",
              "      <th>raw_sentences</th>\n",
              "    </tr>\n",
              "  </thead>\n",
              "  <tbody>\n",
              "    <tr>\n",
              "      <th>0</th>\n",
              "      <td>1</td>\n",
              "      <td>EMU_Doc1_TheConjuring3</td>\n",
              "      <td>EMU</td>\n",
              "      <td>Horror</td>\n",
              "      <td>Negative</td>\n",
              "      <td>The Conjuring 3</td>\n",
              "      <td>I must admit that when I sat down to watch the...</td>\n",
              "      <td>[I must admit that when I sat down to watch th...</td>\n",
              "    </tr>\n",
              "    <tr>\n",
              "      <th>1</th>\n",
              "      <td>2</td>\n",
              "      <td>EMU_Doc2_TheConjuring3</td>\n",
              "      <td>EMU</td>\n",
              "      <td>Horror</td>\n",
              "      <td>Positive</td>\n",
              "      <td>The Conjuring 3</td>\n",
              "      <td>While The Conjuring franchise has stood as one...</td>\n",
              "      <td>[While The Conjuring franchise has stood as on...</td>\n",
              "    </tr>\n",
              "    <tr>\n",
              "      <th>2</th>\n",
              "      <td>3</td>\n",
              "      <td>EMU_Doc3_TheConjuring3</td>\n",
              "      <td>EMU</td>\n",
              "      <td>Horror</td>\n",
              "      <td>Positive</td>\n",
              "      <td>The Conjuring 3</td>\n",
              "      <td>We’re well into the world and the lore of the ...</td>\n",
              "      <td>[We’re well into the world and the lore of the...</td>\n",
              "    </tr>\n",
              "    <tr>\n",
              "      <th>3</th>\n",
              "      <td>4</td>\n",
              "      <td>EMU_Doc4_TheConjuring3</td>\n",
              "      <td>EMU</td>\n",
              "      <td>Horror</td>\n",
              "      <td>Positive</td>\n",
              "      <td>The Conjuring 3</td>\n",
              "      <td>James Wan's 2013 feature The Conjuring was som...</td>\n",
              "      <td>[James Wan's 2013 feature , The Conjuring was ...</td>\n",
              "    </tr>\n",
              "    <tr>\n",
              "      <th>4</th>\n",
              "      <td>5</td>\n",
              "      <td>EMU_Doc5_TheConjuring3</td>\n",
              "      <td>EMU</td>\n",
              "      <td>Horror</td>\n",
              "      <td>Positive</td>\n",
              "      <td>The Conjuring 3</td>\n",
              "      <td>Two Conjuring films and several spinoffs estab...</td>\n",
              "      <td>[Two Conjuring films and several spinoffs esta...</td>\n",
              "    </tr>\n",
              "  </tbody>\n",
              "</table>\n",
              "</div>\n",
              "      <button class=\"colab-df-convert\" onclick=\"convertToInteractive('df-2b6940eb-b31f-4aaa-9dbf-76bb5736aa91')\"\n",
              "              title=\"Convert this dataframe to an interactive table.\"\n",
              "              style=\"display:none;\">\n",
              "        \n",
              "  <svg xmlns=\"http://www.w3.org/2000/svg\" height=\"24px\"viewBox=\"0 0 24 24\"\n",
              "       width=\"24px\">\n",
              "    <path d=\"M0 0h24v24H0V0z\" fill=\"none\"/>\n",
              "    <path d=\"M18.56 5.44l.94 2.06.94-2.06 2.06-.94-2.06-.94-.94-2.06-.94 2.06-2.06.94zm-11 1L8.5 8.5l.94-2.06 2.06-.94-2.06-.94L8.5 2.5l-.94 2.06-2.06.94zm10 10l.94 2.06.94-2.06 2.06-.94-2.06-.94-.94-2.06-.94 2.06-2.06.94z\"/><path d=\"M17.41 7.96l-1.37-1.37c-.4-.4-.92-.59-1.43-.59-.52 0-1.04.2-1.43.59L10.3 9.45l-7.72 7.72c-.78.78-.78 2.05 0 2.83L4 21.41c.39.39.9.59 1.41.59.51 0 1.02-.2 1.41-.59l7.78-7.78 2.81-2.81c.8-.78.8-2.07 0-2.86zM5.41 20L4 18.59l7.72-7.72 1.47 1.35L5.41 20z\"/>\n",
              "  </svg>\n",
              "      </button>\n",
              "      \n",
              "  <style>\n",
              "    .colab-df-container {\n",
              "      display:flex;\n",
              "      flex-wrap:wrap;\n",
              "      gap: 12px;\n",
              "    }\n",
              "\n",
              "    .colab-df-convert {\n",
              "      background-color: #E8F0FE;\n",
              "      border: none;\n",
              "      border-radius: 50%;\n",
              "      cursor: pointer;\n",
              "      display: none;\n",
              "      fill: #1967D2;\n",
              "      height: 32px;\n",
              "      padding: 0 0 0 0;\n",
              "      width: 32px;\n",
              "    }\n",
              "\n",
              "    .colab-df-convert:hover {\n",
              "      background-color: #E2EBFA;\n",
              "      box-shadow: 0px 1px 2px rgba(60, 64, 67, 0.3), 0px 1px 3px 1px rgba(60, 64, 67, 0.15);\n",
              "      fill: #174EA6;\n",
              "    }\n",
              "\n",
              "    [theme=dark] .colab-df-convert {\n",
              "      background-color: #3B4455;\n",
              "      fill: #D2E3FC;\n",
              "    }\n",
              "\n",
              "    [theme=dark] .colab-df-convert:hover {\n",
              "      background-color: #434B5C;\n",
              "      box-shadow: 0px 1px 3px 1px rgba(0, 0, 0, 0.15);\n",
              "      filter: drop-shadow(0px 1px 2px rgba(0, 0, 0, 0.3));\n",
              "      fill: #FFFFFF;\n",
              "    }\n",
              "  </style>\n",
              "\n",
              "      <script>\n",
              "        const buttonEl =\n",
              "          document.querySelector('#df-2b6940eb-b31f-4aaa-9dbf-76bb5736aa91 button.colab-df-convert');\n",
              "        buttonEl.style.display =\n",
              "          google.colab.kernel.accessAllowed ? 'block' : 'none';\n",
              "\n",
              "        async function convertToInteractive(key) {\n",
              "          const element = document.querySelector('#df-2b6940eb-b31f-4aaa-9dbf-76bb5736aa91');\n",
              "          const dataTable =\n",
              "            await google.colab.kernel.invokeFunction('convertToInteractive',\n",
              "                                                     [key], {});\n",
              "          if (!dataTable) return;\n",
              "\n",
              "          const docLinkHtml = 'Like what you see? Visit the ' +\n",
              "            '<a target=\"_blank\" href=https://colab.research.google.com/notebooks/data_table.ipynb>data table notebook</a>'\n",
              "            + ' to learn more about interactive tables.';\n",
              "          element.innerHTML = '';\n",
              "          dataTable['output_type'] = 'display_data';\n",
              "          await google.colab.output.renderOutput(dataTable, element);\n",
              "          const docLink = document.createElement('div');\n",
              "          docLink.innerHTML = docLinkHtml;\n",
              "          element.appendChild(docLink);\n",
              "        }\n",
              "      </script>\n",
              "    </div>\n",
              "  </div>\n",
              "  "
            ]
          },
          "metadata": {},
          "execution_count": 115
        }
      ]
    },
    {
      "cell_type": "code",
      "source": [
        "fulldata['clean_text'] = fulldata['Text'].apply(lambda x : clean_doc(x))\n"
      ],
      "metadata": {
        "id": "6DcOEe2sfEHt"
      },
      "execution_count": 116,
      "outputs": []
    },
    {
      "cell_type": "code",
      "source": [
        "fulldata['clean_text'][0]"
      ],
      "metadata": {
        "colab": {
          "base_uri": "https://localhost:8080/",
          "height": 105
        },
        "id": "U5Ekzr56re9W",
        "outputId": "932c7360-5b7a-4545-c283-a953471de365"
      },
      "execution_count": 117,
      "outputs": [
        {
          "output_type": "execute_result",
          "data": {
            "text/plain": [
              "\"I must admit I sat watch 2021 addition `` The Conjuring '' franchise , I harboring much overly great expectation hope , since first movie steady downward slope . Still , I chance sit watch `` The Conjuring : The Devil Made Me Do It '' writer David Leslie Johnson-McGoldrick James Wan . So course I . And I say director Michael Chaves managed deliver movie slightly entertaining . `` The Conjuring : The Devil Made Me Do It '' whole lot nothing going , essentially watch beginning last 25 minute movie skip everything . The storyline written `` The Conjuring : The Devil Made Me Do It '' bland slow paced , little much excitement interest happening start end movie . And ultimately led le mediocre movie experience . And yeah , I horror veteran , `` The Conjuring : The Devil Made Me Do It '' walk park . There jump scare moment , could seen coming mile away . And storyline n't particularly dark , brooding scary . So impressive foray horror genre . I say special effect `` The Conjuring : The Devil Made Me Do It '' good , definitely added something worthwhile movie . And `` The Conjuring : The Devil Made Me Do It '' movie make break experience special effect , add good element overall experience movie . The acting movie good , course talking actor Patrick Wilson actress Vera Farmiga , singlehandedly carrying franchise performance . And true formula , one making watchable 2021 `` The Conjuring : The Devil Made Me Do It '' . It also noted casting Eugenie Bondurant occultist spot choice , genuinely creepy performance . As I entered movie expectation I ca n't say I disappointed end result . But take heed , mean milestone horror cinema . `` The Conjuring : The Devil Made Me Do It '' came went without leaving lasting impression , numerous movie franchise - spin-off movie - done . I ca n't tell apart ask second movie , instance . My rating 2021 `` The Conjuring : The Devil Made Me Do It '' land le mediocre four ten star . Sure , watchable movie , new horror genre , something good I suppose . But expect bit movie sit watch `` The Conjuring : The Devil Made Me Do It '' n't cut .\""
            ],
            "application/vnd.google.colaboratory.intrinsic+json": {
              "type": "string"
            }
          },
          "metadata": {},
          "execution_count": 117
        }
      ]
    },
    {
      "cell_type": "markdown",
      "source": [
        "#### Genre EDA"
      ],
      "metadata": {
        "id": "0NYBqsLCk9Zg"
      }
    },
    {
      "cell_type": "code",
      "source": [
        "genre_data = fulldata[['Text', 'Genre of Movie']]"
      ],
      "metadata": {
        "id": "4-aYdV64fR_M"
      },
      "execution_count": 118,
      "outputs": []
    },
    {
      "cell_type": "code",
      "source": [
        "genre_data.head()"
      ],
      "metadata": {
        "colab": {
          "base_uri": "https://localhost:8080/",
          "height": 206
        },
        "id": "r5iZfw6xfn_V",
        "outputId": "8e28621e-e05b-44dc-e914-dcd6551bf78e"
      },
      "execution_count": 119,
      "outputs": [
        {
          "output_type": "execute_result",
          "data": {
            "text/plain": [
              "                                                Text Genre of Movie\n",
              "0  I must admit that when I sat down to watch the...         Horror\n",
              "1  While The Conjuring franchise has stood as one...         Horror\n",
              "2  We’re well into the world and the lore of the ...         Horror\n",
              "3  James Wan's 2013 feature The Conjuring was som...         Horror\n",
              "4  Two Conjuring films and several spinoffs estab...         Horror"
            ],
            "text/html": [
              "\n",
              "  <div id=\"df-9f6874b9-94d0-427d-b82d-57697fc9a856\">\n",
              "    <div class=\"colab-df-container\">\n",
              "      <div>\n",
              "<style scoped>\n",
              "    .dataframe tbody tr th:only-of-type {\n",
              "        vertical-align: middle;\n",
              "    }\n",
              "\n",
              "    .dataframe tbody tr th {\n",
              "        vertical-align: top;\n",
              "    }\n",
              "\n",
              "    .dataframe thead th {\n",
              "        text-align: right;\n",
              "    }\n",
              "</style>\n",
              "<table border=\"1\" class=\"dataframe\">\n",
              "  <thead>\n",
              "    <tr style=\"text-align: right;\">\n",
              "      <th></th>\n",
              "      <th>Text</th>\n",
              "      <th>Genre of Movie</th>\n",
              "    </tr>\n",
              "  </thead>\n",
              "  <tbody>\n",
              "    <tr>\n",
              "      <th>0</th>\n",
              "      <td>I must admit that when I sat down to watch the...</td>\n",
              "      <td>Horror</td>\n",
              "    </tr>\n",
              "    <tr>\n",
              "      <th>1</th>\n",
              "      <td>While The Conjuring franchise has stood as one...</td>\n",
              "      <td>Horror</td>\n",
              "    </tr>\n",
              "    <tr>\n",
              "      <th>2</th>\n",
              "      <td>We’re well into the world and the lore of the ...</td>\n",
              "      <td>Horror</td>\n",
              "    </tr>\n",
              "    <tr>\n",
              "      <th>3</th>\n",
              "      <td>James Wan's 2013 feature The Conjuring was som...</td>\n",
              "      <td>Horror</td>\n",
              "    </tr>\n",
              "    <tr>\n",
              "      <th>4</th>\n",
              "      <td>Two Conjuring films and several spinoffs estab...</td>\n",
              "      <td>Horror</td>\n",
              "    </tr>\n",
              "  </tbody>\n",
              "</table>\n",
              "</div>\n",
              "      <button class=\"colab-df-convert\" onclick=\"convertToInteractive('df-9f6874b9-94d0-427d-b82d-57697fc9a856')\"\n",
              "              title=\"Convert this dataframe to an interactive table.\"\n",
              "              style=\"display:none;\">\n",
              "        \n",
              "  <svg xmlns=\"http://www.w3.org/2000/svg\" height=\"24px\"viewBox=\"0 0 24 24\"\n",
              "       width=\"24px\">\n",
              "    <path d=\"M0 0h24v24H0V0z\" fill=\"none\"/>\n",
              "    <path d=\"M18.56 5.44l.94 2.06.94-2.06 2.06-.94-2.06-.94-.94-2.06-.94 2.06-2.06.94zm-11 1L8.5 8.5l.94-2.06 2.06-.94-2.06-.94L8.5 2.5l-.94 2.06-2.06.94zm10 10l.94 2.06.94-2.06 2.06-.94-2.06-.94-.94-2.06-.94 2.06-2.06.94z\"/><path d=\"M17.41 7.96l-1.37-1.37c-.4-.4-.92-.59-1.43-.59-.52 0-1.04.2-1.43.59L10.3 9.45l-7.72 7.72c-.78.78-.78 2.05 0 2.83L4 21.41c.39.39.9.59 1.41.59.51 0 1.02-.2 1.41-.59l7.78-7.78 2.81-2.81c.8-.78.8-2.07 0-2.86zM5.41 20L4 18.59l7.72-7.72 1.47 1.35L5.41 20z\"/>\n",
              "  </svg>\n",
              "      </button>\n",
              "      \n",
              "  <style>\n",
              "    .colab-df-container {\n",
              "      display:flex;\n",
              "      flex-wrap:wrap;\n",
              "      gap: 12px;\n",
              "    }\n",
              "\n",
              "    .colab-df-convert {\n",
              "      background-color: #E8F0FE;\n",
              "      border: none;\n",
              "      border-radius: 50%;\n",
              "      cursor: pointer;\n",
              "      display: none;\n",
              "      fill: #1967D2;\n",
              "      height: 32px;\n",
              "      padding: 0 0 0 0;\n",
              "      width: 32px;\n",
              "    }\n",
              "\n",
              "    .colab-df-convert:hover {\n",
              "      background-color: #E2EBFA;\n",
              "      box-shadow: 0px 1px 2px rgba(60, 64, 67, 0.3), 0px 1px 3px 1px rgba(60, 64, 67, 0.15);\n",
              "      fill: #174EA6;\n",
              "    }\n",
              "\n",
              "    [theme=dark] .colab-df-convert {\n",
              "      background-color: #3B4455;\n",
              "      fill: #D2E3FC;\n",
              "    }\n",
              "\n",
              "    [theme=dark] .colab-df-convert:hover {\n",
              "      background-color: #434B5C;\n",
              "      box-shadow: 0px 1px 3px 1px rgba(0, 0, 0, 0.15);\n",
              "      filter: drop-shadow(0px 1px 2px rgba(0, 0, 0, 0.3));\n",
              "      fill: #FFFFFF;\n",
              "    }\n",
              "  </style>\n",
              "\n",
              "      <script>\n",
              "        const buttonEl =\n",
              "          document.querySelector('#df-9f6874b9-94d0-427d-b82d-57697fc9a856 button.colab-df-convert');\n",
              "        buttonEl.style.display =\n",
              "          google.colab.kernel.accessAllowed ? 'block' : 'none';\n",
              "\n",
              "        async function convertToInteractive(key) {\n",
              "          const element = document.querySelector('#df-9f6874b9-94d0-427d-b82d-57697fc9a856');\n",
              "          const dataTable =\n",
              "            await google.colab.kernel.invokeFunction('convertToInteractive',\n",
              "                                                     [key], {});\n",
              "          if (!dataTable) return;\n",
              "\n",
              "          const docLinkHtml = 'Like what you see? Visit the ' +\n",
              "            '<a target=\"_blank\" href=https://colab.research.google.com/notebooks/data_table.ipynb>data table notebook</a>'\n",
              "            + ' to learn more about interactive tables.';\n",
              "          element.innerHTML = '';\n",
              "          dataTable['output_type'] = 'display_data';\n",
              "          await google.colab.output.renderOutput(dataTable, element);\n",
              "          const docLink = document.createElement('div');\n",
              "          docLink.innerHTML = docLinkHtml;\n",
              "          element.appendChild(docLink);\n",
              "        }\n",
              "      </script>\n",
              "    </div>\n",
              "  </div>\n",
              "  "
            ]
          },
          "metadata": {},
          "execution_count": 119
        }
      ]
    },
    {
      "cell_type": "code",
      "source": [
        "genre_data['Genre of Movie'] = genre_data['Genre of Movie'].astype(\"category\")\n",
        "genre_data['genre_code'] = genre_data['Genre of Movie'].cat.codes\n",
        "genre_data.head()"
      ],
      "metadata": {
        "colab": {
          "base_uri": "https://localhost:8080/",
          "height": 414
        },
        "id": "7ddRJphMftdu",
        "outputId": "7ef3f5db-f8e8-4c45-cd85-df30768f71a0"
      },
      "execution_count": 120,
      "outputs": [
        {
          "output_type": "stream",
          "name": "stderr",
          "text": [
            "/usr/local/lib/python3.7/dist-packages/ipykernel_launcher.py:1: SettingWithCopyWarning: \n",
            "A value is trying to be set on a copy of a slice from a DataFrame.\n",
            "Try using .loc[row_indexer,col_indexer] = value instead\n",
            "\n",
            "See the caveats in the documentation: https://pandas.pydata.org/pandas-docs/stable/user_guide/indexing.html#returning-a-view-versus-a-copy\n",
            "  \"\"\"Entry point for launching an IPython kernel.\n",
            "/usr/local/lib/python3.7/dist-packages/ipykernel_launcher.py:2: SettingWithCopyWarning: \n",
            "A value is trying to be set on a copy of a slice from a DataFrame.\n",
            "Try using .loc[row_indexer,col_indexer] = value instead\n",
            "\n",
            "See the caveats in the documentation: https://pandas.pydata.org/pandas-docs/stable/user_guide/indexing.html#returning-a-view-versus-a-copy\n",
            "  \n"
          ]
        },
        {
          "output_type": "execute_result",
          "data": {
            "text/plain": [
              "                                                Text Genre of Movie  \\\n",
              "0  I must admit that when I sat down to watch the...         Horror   \n",
              "1  While The Conjuring franchise has stood as one...         Horror   \n",
              "2  We’re well into the world and the lore of the ...         Horror   \n",
              "3  James Wan's 2013 feature The Conjuring was som...         Horror   \n",
              "4  Two Conjuring films and several spinoffs estab...         Horror   \n",
              "\n",
              "   genre_code  \n",
              "0           2  \n",
              "1           2  \n",
              "2           2  \n",
              "3           2  \n",
              "4           2  "
            ],
            "text/html": [
              "\n",
              "  <div id=\"df-76abf1bc-7a76-4e38-81bb-eb7980db6b30\">\n",
              "    <div class=\"colab-df-container\">\n",
              "      <div>\n",
              "<style scoped>\n",
              "    .dataframe tbody tr th:only-of-type {\n",
              "        vertical-align: middle;\n",
              "    }\n",
              "\n",
              "    .dataframe tbody tr th {\n",
              "        vertical-align: top;\n",
              "    }\n",
              "\n",
              "    .dataframe thead th {\n",
              "        text-align: right;\n",
              "    }\n",
              "</style>\n",
              "<table border=\"1\" class=\"dataframe\">\n",
              "  <thead>\n",
              "    <tr style=\"text-align: right;\">\n",
              "      <th></th>\n",
              "      <th>Text</th>\n",
              "      <th>Genre of Movie</th>\n",
              "      <th>genre_code</th>\n",
              "    </tr>\n",
              "  </thead>\n",
              "  <tbody>\n",
              "    <tr>\n",
              "      <th>0</th>\n",
              "      <td>I must admit that when I sat down to watch the...</td>\n",
              "      <td>Horror</td>\n",
              "      <td>2</td>\n",
              "    </tr>\n",
              "    <tr>\n",
              "      <th>1</th>\n",
              "      <td>While The Conjuring franchise has stood as one...</td>\n",
              "      <td>Horror</td>\n",
              "      <td>2</td>\n",
              "    </tr>\n",
              "    <tr>\n",
              "      <th>2</th>\n",
              "      <td>We’re well into the world and the lore of the ...</td>\n",
              "      <td>Horror</td>\n",
              "      <td>2</td>\n",
              "    </tr>\n",
              "    <tr>\n",
              "      <th>3</th>\n",
              "      <td>James Wan's 2013 feature The Conjuring was som...</td>\n",
              "      <td>Horror</td>\n",
              "      <td>2</td>\n",
              "    </tr>\n",
              "    <tr>\n",
              "      <th>4</th>\n",
              "      <td>Two Conjuring films and several spinoffs estab...</td>\n",
              "      <td>Horror</td>\n",
              "      <td>2</td>\n",
              "    </tr>\n",
              "  </tbody>\n",
              "</table>\n",
              "</div>\n",
              "      <button class=\"colab-df-convert\" onclick=\"convertToInteractive('df-76abf1bc-7a76-4e38-81bb-eb7980db6b30')\"\n",
              "              title=\"Convert this dataframe to an interactive table.\"\n",
              "              style=\"display:none;\">\n",
              "        \n",
              "  <svg xmlns=\"http://www.w3.org/2000/svg\" height=\"24px\"viewBox=\"0 0 24 24\"\n",
              "       width=\"24px\">\n",
              "    <path d=\"M0 0h24v24H0V0z\" fill=\"none\"/>\n",
              "    <path d=\"M18.56 5.44l.94 2.06.94-2.06 2.06-.94-2.06-.94-.94-2.06-.94 2.06-2.06.94zm-11 1L8.5 8.5l.94-2.06 2.06-.94-2.06-.94L8.5 2.5l-.94 2.06-2.06.94zm10 10l.94 2.06.94-2.06 2.06-.94-2.06-.94-.94-2.06-.94 2.06-2.06.94z\"/><path d=\"M17.41 7.96l-1.37-1.37c-.4-.4-.92-.59-1.43-.59-.52 0-1.04.2-1.43.59L10.3 9.45l-7.72 7.72c-.78.78-.78 2.05 0 2.83L4 21.41c.39.39.9.59 1.41.59.51 0 1.02-.2 1.41-.59l7.78-7.78 2.81-2.81c.8-.78.8-2.07 0-2.86zM5.41 20L4 18.59l7.72-7.72 1.47 1.35L5.41 20z\"/>\n",
              "  </svg>\n",
              "      </button>\n",
              "      \n",
              "  <style>\n",
              "    .colab-df-container {\n",
              "      display:flex;\n",
              "      flex-wrap:wrap;\n",
              "      gap: 12px;\n",
              "    }\n",
              "\n",
              "    .colab-df-convert {\n",
              "      background-color: #E8F0FE;\n",
              "      border: none;\n",
              "      border-radius: 50%;\n",
              "      cursor: pointer;\n",
              "      display: none;\n",
              "      fill: #1967D2;\n",
              "      height: 32px;\n",
              "      padding: 0 0 0 0;\n",
              "      width: 32px;\n",
              "    }\n",
              "\n",
              "    .colab-df-convert:hover {\n",
              "      background-color: #E2EBFA;\n",
              "      box-shadow: 0px 1px 2px rgba(60, 64, 67, 0.3), 0px 1px 3px 1px rgba(60, 64, 67, 0.15);\n",
              "      fill: #174EA6;\n",
              "    }\n",
              "\n",
              "    [theme=dark] .colab-df-convert {\n",
              "      background-color: #3B4455;\n",
              "      fill: #D2E3FC;\n",
              "    }\n",
              "\n",
              "    [theme=dark] .colab-df-convert:hover {\n",
              "      background-color: #434B5C;\n",
              "      box-shadow: 0px 1px 3px 1px rgba(0, 0, 0, 0.15);\n",
              "      filter: drop-shadow(0px 1px 2px rgba(0, 0, 0, 0.3));\n",
              "      fill: #FFFFFF;\n",
              "    }\n",
              "  </style>\n",
              "\n",
              "      <script>\n",
              "        const buttonEl =\n",
              "          document.querySelector('#df-76abf1bc-7a76-4e38-81bb-eb7980db6b30 button.colab-df-convert');\n",
              "        buttonEl.style.display =\n",
              "          google.colab.kernel.accessAllowed ? 'block' : 'none';\n",
              "\n",
              "        async function convertToInteractive(key) {\n",
              "          const element = document.querySelector('#df-76abf1bc-7a76-4e38-81bb-eb7980db6b30');\n",
              "          const dataTable =\n",
              "            await google.colab.kernel.invokeFunction('convertToInteractive',\n",
              "                                                     [key], {});\n",
              "          if (!dataTable) return;\n",
              "\n",
              "          const docLinkHtml = 'Like what you see? Visit the ' +\n",
              "            '<a target=\"_blank\" href=https://colab.research.google.com/notebooks/data_table.ipynb>data table notebook</a>'\n",
              "            + ' to learn more about interactive tables.';\n",
              "          element.innerHTML = '';\n",
              "          dataTable['output_type'] = 'display_data';\n",
              "          await google.colab.output.renderOutput(dataTable, element);\n",
              "          const docLink = document.createElement('div');\n",
              "          docLink.innerHTML = docLinkHtml;\n",
              "          element.appendChild(docLink);\n",
              "        }\n",
              "      </script>\n",
              "    </div>\n",
              "  </div>\n",
              "  "
            ]
          },
          "metadata": {},
          "execution_count": 120
        }
      ]
    },
    {
      "cell_type": "code",
      "source": [
        "genre_data[['Genre of Movie', 'genre_code']].value_counts()"
      ],
      "metadata": {
        "colab": {
          "base_uri": "https://localhost:8080/"
        },
        "id": "WVAxBku-pMC3",
        "outputId": "155186dd-cd42-4ae7-b4f0-1a5bf791c758"
      },
      "execution_count": 121,
      "outputs": [
        {
          "output_type": "execute_result",
          "data": {
            "text/plain": [
              "Genre of Movie  genre_code\n",
              "Comedy          1             60\n",
              "Horror          2             49\n",
              "Sci-Fi          3             49\n",
              "Action          0             40\n",
              "dtype: int64"
            ]
          },
          "metadata": {},
          "execution_count": 121
        }
      ]
    },
    {
      "cell_type": "code",
      "source": [
        "features, targets = genre_data['Text'], genre_data['genre_code']"
      ],
      "metadata": {
        "id": "BOeSUR4_f_ER"
      },
      "execution_count": 122,
      "outputs": []
    },
    {
      "cell_type": "code",
      "source": [
        "train_features, test_features, train_targets, test_targets = train_test_split(features, \n",
        "                                                                              targets , \n",
        "                                                                              test_size=0.20, \n",
        "                                                                              random_state=42, \n",
        "                                                                              shuffle=True,\n",
        "                                                                              stratify=targets)"
      ],
      "metadata": {
        "id": "fOcC8wZ_pEMu"
      },
      "execution_count": 123,
      "outputs": []
    },
    {
      "cell_type": "code",
      "source": [
        "trainds, valds, testds = get_dataset_partitions_pd(genre_data[['Text','genre_code']])\n",
        "trainds.shape, valds.shape, testds.shape"
      ],
      "metadata": {
        "colab": {
          "base_uri": "https://localhost:8080/"
        },
        "id": "BKPY-kXBpIjX",
        "outputId": "a032cccc-949a-4d88-e1c6-29ecbe81134f"
      },
      "execution_count": 124,
      "outputs": [
        {
          "output_type": "execute_result",
          "data": {
            "text/plain": [
              "((158, 2), (20, 2), (20, 2))"
            ]
          },
          "metadata": {},
          "execution_count": 124
        }
      ]
    },
    {
      "cell_type": "code",
      "source": [
        "# train X & y\n",
        "train_text_ds_raw = tf.data.Dataset.from_tensor_slices(\n",
        "            tf.cast(trainds['Text'].values, tf.string)\n",
        ") \n",
        "train_cat_ds_raw = tf.data.Dataset.from_tensor_slices(\n",
        "            tf.cast(trainds['genre_code'].values, tf.int64),\n",
        "  ) \n",
        "# test X & y\n",
        "test_text_ds_raw = tf.data.Dataset.from_tensor_slices(\n",
        "            tf.cast(testds['Text'].values, tf.string)\n",
        ") \n",
        "test_cat_ds_raw = tf.data.Dataset.from_tensor_slices(\n",
        "            tf.cast(testds['genre_code'].values, tf.int64),\n",
        ")\n",
        "#val X & Y\n",
        "val_text_ds_raw = tf.data.Dataset.from_tensor_slices(\n",
        "            tf.cast(valds['Text'].values, tf.string)\n",
        ") \n",
        "val_cat_ds_raw = tf.data.Dataset.from_tensor_slices(\n",
        "            tf.cast(valds['genre_code'].values, tf.int64),\n",
        ")"
      ],
      "metadata": {
        "id": "5eKNsoA42CxL"
      },
      "execution_count": 125,
      "outputs": []
    },
    {
      "cell_type": "code",
      "source": [
        "train_ds = tf.data.Dataset.zip(\n",
        "    (\n",
        "            train_text_ds_raw,\n",
        "            train_cat_ds_raw\n",
        "     )\n",
        ")\n",
        "test_ds = tf.data.Dataset.zip(\n",
        "    (\n",
        "            test_text_ds_raw,\n",
        "            test_cat_ds_raw\n",
        "     )\n",
        ")\n",
        "val_ds = tf.data.Dataset.zip(\n",
        "    (\n",
        "            val_text_ds_raw,\n",
        "            val_cat_ds_raw\n",
        "     )\n",
        ")"
      ],
      "metadata": {
        "id": "hbnxMqW02xAj"
      },
      "execution_count": 126,
      "outputs": []
    },
    {
      "cell_type": "code",
      "source": [
        "batch_size = 3\n",
        "AUTOTUNE = tf.data.experimental.AUTOTUNE\n",
        "buffer_size = train_ds.cardinality().numpy()\n",
        "\n",
        "train_ds = (train_ds.shuffle(buffer_size=buffer_size)\n",
        "                    .batch(batch_size=batch_size,drop_remainder=True)\n",
        "                    .cache()\n",
        "                    .prefetch(AUTOTUNE))\n",
        "\n",
        "test_ds = (test_ds.shuffle(buffer_size=buffer_size)\n",
        "                  .batch(batch_size=batch_size,drop_remainder=True)\n",
        "                  .cache()\n",
        "                  .prefetch(AUTOTUNE))\n",
        "\n",
        "val_ds = (val_ds.shuffle(buffer_size=buffer_size)\n",
        "                .batch(batch_size=batch_size,drop_remainder=True)\n",
        "                .cache()\n",
        "                .prefetch(AUTOTUNE))"
      ],
      "metadata": {
        "id": "EBYM3v8624je"
      },
      "execution_count": 127,
      "outputs": []
    },
    {
      "cell_type": "code",
      "source": [
        "x_train = train_features.to_numpy()\n",
        "y_train = train_targets.to_numpy()\n",
        "x_test = test_features.to_numpy()\n",
        "y_test = test_targets.to_numpy()"
      ],
      "metadata": {
        "id": "_STP7YUp1X3k"
      },
      "execution_count": 128,
      "outputs": []
    },
    {
      "cell_type": "code",
      "source": [
        "VOCAB_SIZE = 5000\n",
        "encoder = tf.keras.layers.experimental.preprocessing.TextVectorization(\n",
        "    max_tokens=VOCAB_SIZE, standardize=\"lower_and_strip_punctuation\", pad_to_max_tokens= True)\n",
        "encoder.adapt(train_ds.map(lambda text, label: text), batch_size= None)"
      ],
      "metadata": {
        "id": "SVurupz11X0l"
      },
      "execution_count": 129,
      "outputs": []
    },
    {
      "cell_type": "markdown",
      "source": [
        "#### Sentiment (positive and negative reviews) EDA"
      ],
      "metadata": {
        "id": "3exVkl01lIhn"
      }
    },
    {
      "cell_type": "code",
      "source": [
        "sentiment_data = fulldata[['Review Type (pos or neg)', 'Text']]"
      ],
      "metadata": {
        "id": "mwV368k1i8Cz"
      },
      "execution_count": 130,
      "outputs": []
    },
    {
      "cell_type": "code",
      "source": [
        "sentiment_data['Review Type (pos or neg)'] = sentiment_data['Review Type (pos or neg)'].str.lower()"
      ],
      "metadata": {
        "colab": {
          "base_uri": "https://localhost:8080/"
        },
        "id": "Jjst_ongjXML",
        "outputId": "ca73993c-df38-4ca3-80bd-8163df5a1acc"
      },
      "execution_count": 131,
      "outputs": [
        {
          "output_type": "stream",
          "name": "stderr",
          "text": [
            "/usr/local/lib/python3.7/dist-packages/ipykernel_launcher.py:1: SettingWithCopyWarning: \n",
            "A value is trying to be set on a copy of a slice from a DataFrame.\n",
            "Try using .loc[row_indexer,col_indexer] = value instead\n",
            "\n",
            "See the caveats in the documentation: https://pandas.pydata.org/pandas-docs/stable/user_guide/indexing.html#returning-a-view-versus-a-copy\n",
            "  \"\"\"Entry point for launching an IPython kernel.\n"
          ]
        }
      ]
    },
    {
      "cell_type": "code",
      "source": [
        "sentiment_data['Review Type (pos or neg)'].value_counts()"
      ],
      "metadata": {
        "colab": {
          "base_uri": "https://localhost:8080/"
        },
        "id": "F0tv32y4jnr4",
        "outputId": "ddda1149-0d3f-469d-ece6-dab2c6100b45"
      },
      "execution_count": 132,
      "outputs": [
        {
          "output_type": "execute_result",
          "data": {
            "text/plain": [
              "negative    100\n",
              "positive     98\n",
              "Name: Review Type (pos or neg), dtype: int64"
            ]
          },
          "metadata": {},
          "execution_count": 132
        }
      ]
    },
    {
      "cell_type": "code",
      "source": [
        "sentiment_data['Review Type (pos or neg)'] = sentiment_data['Review Type (pos or neg)'].astype(\"category\")\n",
        "sentiment_data['sentiment_code'] = sentiment_data['Review Type (pos or neg)'].cat.codes\n",
        "sentiment_data.head()"
      ],
      "metadata": {
        "colab": {
          "base_uri": "https://localhost:8080/",
          "height": 414
        },
        "id": "ZDKaEdX3lVFV",
        "outputId": "290e267d-4406-47ac-8879-62d3a12cdff1"
      },
      "execution_count": 133,
      "outputs": [
        {
          "output_type": "stream",
          "name": "stderr",
          "text": [
            "/usr/local/lib/python3.7/dist-packages/ipykernel_launcher.py:1: SettingWithCopyWarning: \n",
            "A value is trying to be set on a copy of a slice from a DataFrame.\n",
            "Try using .loc[row_indexer,col_indexer] = value instead\n",
            "\n",
            "See the caveats in the documentation: https://pandas.pydata.org/pandas-docs/stable/user_guide/indexing.html#returning-a-view-versus-a-copy\n",
            "  \"\"\"Entry point for launching an IPython kernel.\n",
            "/usr/local/lib/python3.7/dist-packages/ipykernel_launcher.py:2: SettingWithCopyWarning: \n",
            "A value is trying to be set on a copy of a slice from a DataFrame.\n",
            "Try using .loc[row_indexer,col_indexer] = value instead\n",
            "\n",
            "See the caveats in the documentation: https://pandas.pydata.org/pandas-docs/stable/user_guide/indexing.html#returning-a-view-versus-a-copy\n",
            "  \n"
          ]
        },
        {
          "output_type": "execute_result",
          "data": {
            "text/plain": [
              "  Review Type (pos or neg)                                               Text  \\\n",
              "0                 negative  I must admit that when I sat down to watch the...   \n",
              "1                 positive  While The Conjuring franchise has stood as one...   \n",
              "2                 positive  We’re well into the world and the lore of the ...   \n",
              "3                 positive  James Wan's 2013 feature The Conjuring was som...   \n",
              "4                 positive  Two Conjuring films and several spinoffs estab...   \n",
              "\n",
              "   sentiment_code  \n",
              "0               0  \n",
              "1               1  \n",
              "2               1  \n",
              "3               1  \n",
              "4               1  "
            ],
            "text/html": [
              "\n",
              "  <div id=\"df-87710b24-0609-4028-b2cf-2edc91de08b0\">\n",
              "    <div class=\"colab-df-container\">\n",
              "      <div>\n",
              "<style scoped>\n",
              "    .dataframe tbody tr th:only-of-type {\n",
              "        vertical-align: middle;\n",
              "    }\n",
              "\n",
              "    .dataframe tbody tr th {\n",
              "        vertical-align: top;\n",
              "    }\n",
              "\n",
              "    .dataframe thead th {\n",
              "        text-align: right;\n",
              "    }\n",
              "</style>\n",
              "<table border=\"1\" class=\"dataframe\">\n",
              "  <thead>\n",
              "    <tr style=\"text-align: right;\">\n",
              "      <th></th>\n",
              "      <th>Review Type (pos or neg)</th>\n",
              "      <th>Text</th>\n",
              "      <th>sentiment_code</th>\n",
              "    </tr>\n",
              "  </thead>\n",
              "  <tbody>\n",
              "    <tr>\n",
              "      <th>0</th>\n",
              "      <td>negative</td>\n",
              "      <td>I must admit that when I sat down to watch the...</td>\n",
              "      <td>0</td>\n",
              "    </tr>\n",
              "    <tr>\n",
              "      <th>1</th>\n",
              "      <td>positive</td>\n",
              "      <td>While The Conjuring franchise has stood as one...</td>\n",
              "      <td>1</td>\n",
              "    </tr>\n",
              "    <tr>\n",
              "      <th>2</th>\n",
              "      <td>positive</td>\n",
              "      <td>We’re well into the world and the lore of the ...</td>\n",
              "      <td>1</td>\n",
              "    </tr>\n",
              "    <tr>\n",
              "      <th>3</th>\n",
              "      <td>positive</td>\n",
              "      <td>James Wan's 2013 feature The Conjuring was som...</td>\n",
              "      <td>1</td>\n",
              "    </tr>\n",
              "    <tr>\n",
              "      <th>4</th>\n",
              "      <td>positive</td>\n",
              "      <td>Two Conjuring films and several spinoffs estab...</td>\n",
              "      <td>1</td>\n",
              "    </tr>\n",
              "  </tbody>\n",
              "</table>\n",
              "</div>\n",
              "      <button class=\"colab-df-convert\" onclick=\"convertToInteractive('df-87710b24-0609-4028-b2cf-2edc91de08b0')\"\n",
              "              title=\"Convert this dataframe to an interactive table.\"\n",
              "              style=\"display:none;\">\n",
              "        \n",
              "  <svg xmlns=\"http://www.w3.org/2000/svg\" height=\"24px\"viewBox=\"0 0 24 24\"\n",
              "       width=\"24px\">\n",
              "    <path d=\"M0 0h24v24H0V0z\" fill=\"none\"/>\n",
              "    <path d=\"M18.56 5.44l.94 2.06.94-2.06 2.06-.94-2.06-.94-.94-2.06-.94 2.06-2.06.94zm-11 1L8.5 8.5l.94-2.06 2.06-.94-2.06-.94L8.5 2.5l-.94 2.06-2.06.94zm10 10l.94 2.06.94-2.06 2.06-.94-2.06-.94-.94-2.06-.94 2.06-2.06.94z\"/><path d=\"M17.41 7.96l-1.37-1.37c-.4-.4-.92-.59-1.43-.59-.52 0-1.04.2-1.43.59L10.3 9.45l-7.72 7.72c-.78.78-.78 2.05 0 2.83L4 21.41c.39.39.9.59 1.41.59.51 0 1.02-.2 1.41-.59l7.78-7.78 2.81-2.81c.8-.78.8-2.07 0-2.86zM5.41 20L4 18.59l7.72-7.72 1.47 1.35L5.41 20z\"/>\n",
              "  </svg>\n",
              "      </button>\n",
              "      \n",
              "  <style>\n",
              "    .colab-df-container {\n",
              "      display:flex;\n",
              "      flex-wrap:wrap;\n",
              "      gap: 12px;\n",
              "    }\n",
              "\n",
              "    .colab-df-convert {\n",
              "      background-color: #E8F0FE;\n",
              "      border: none;\n",
              "      border-radius: 50%;\n",
              "      cursor: pointer;\n",
              "      display: none;\n",
              "      fill: #1967D2;\n",
              "      height: 32px;\n",
              "      padding: 0 0 0 0;\n",
              "      width: 32px;\n",
              "    }\n",
              "\n",
              "    .colab-df-convert:hover {\n",
              "      background-color: #E2EBFA;\n",
              "      box-shadow: 0px 1px 2px rgba(60, 64, 67, 0.3), 0px 1px 3px 1px rgba(60, 64, 67, 0.15);\n",
              "      fill: #174EA6;\n",
              "    }\n",
              "\n",
              "    [theme=dark] .colab-df-convert {\n",
              "      background-color: #3B4455;\n",
              "      fill: #D2E3FC;\n",
              "    }\n",
              "\n",
              "    [theme=dark] .colab-df-convert:hover {\n",
              "      background-color: #434B5C;\n",
              "      box-shadow: 0px 1px 3px 1px rgba(0, 0, 0, 0.15);\n",
              "      filter: drop-shadow(0px 1px 2px rgba(0, 0, 0, 0.3));\n",
              "      fill: #FFFFFF;\n",
              "    }\n",
              "  </style>\n",
              "\n",
              "      <script>\n",
              "        const buttonEl =\n",
              "          document.querySelector('#df-87710b24-0609-4028-b2cf-2edc91de08b0 button.colab-df-convert');\n",
              "        buttonEl.style.display =\n",
              "          google.colab.kernel.accessAllowed ? 'block' : 'none';\n",
              "\n",
              "        async function convertToInteractive(key) {\n",
              "          const element = document.querySelector('#df-87710b24-0609-4028-b2cf-2edc91de08b0');\n",
              "          const dataTable =\n",
              "            await google.colab.kernel.invokeFunction('convertToInteractive',\n",
              "                                                     [key], {});\n",
              "          if (!dataTable) return;\n",
              "\n",
              "          const docLinkHtml = 'Like what you see? Visit the ' +\n",
              "            '<a target=\"_blank\" href=https://colab.research.google.com/notebooks/data_table.ipynb>data table notebook</a>'\n",
              "            + ' to learn more about interactive tables.';\n",
              "          element.innerHTML = '';\n",
              "          dataTable['output_type'] = 'display_data';\n",
              "          await google.colab.output.renderOutput(dataTable, element);\n",
              "          const docLink = document.createElement('div');\n",
              "          docLink.innerHTML = docLinkHtml;\n",
              "          element.appendChild(docLink);\n",
              "        }\n",
              "      </script>\n",
              "    </div>\n",
              "  </div>\n",
              "  "
            ]
          },
          "metadata": {},
          "execution_count": 133
        }
      ]
    },
    {
      "cell_type": "code",
      "source": [
        "sentiment_data['sentiment_code'].value_counts()"
      ],
      "metadata": {
        "colab": {
          "base_uri": "https://localhost:8080/"
        },
        "id": "VVL7TtY-l-Se",
        "outputId": "18f54453-5d4c-4e18-b457-5f1197545cdd"
      },
      "execution_count": 134,
      "outputs": [
        {
          "output_type": "execute_result",
          "data": {
            "text/plain": [
              "0    100\n",
              "1     98\n",
              "Name: sentiment_code, dtype: int64"
            ]
          },
          "metadata": {},
          "execution_count": 134
        }
      ]
    },
    {
      "cell_type": "code",
      "source": [
        "sfeatures, stargets = sentiment_data['Text'], sentiment_data['sentiment_code']"
      ],
      "metadata": {
        "id": "CL4P6HFlmo87"
      },
      "execution_count": 135,
      "outputs": []
    },
    {
      "cell_type": "code",
      "source": [
        "strain_features, stest_features, strain_targets, stest_targets = train_test_split(sfeatures, \n",
        "                                                                              stargets , \n",
        "                                                                              test_size=0.20, \n",
        "                                                                              random_state=42, \n",
        "                                                                              shuffle=True,\n",
        "                                                                              stratify=stargets)"
      ],
      "metadata": {
        "id": "IsmWWsednhed"
      },
      "execution_count": 136,
      "outputs": []
    },
    {
      "cell_type": "code",
      "source": [
        "strainds, svalds, stestds = get_dataset_partitions_pd(sentiment_data[['Text','sentiment_code']])\n",
        "strainds.shape, svalds.shape, stestds.shape"
      ],
      "metadata": {
        "colab": {
          "base_uri": "https://localhost:8080/"
        },
        "id": "LiMbdVRxnqat",
        "outputId": "37f0d92f-7c6d-4e89-a90b-4032d1fbf3f9"
      },
      "execution_count": 137,
      "outputs": [
        {
          "output_type": "execute_result",
          "data": {
            "text/plain": [
              "((158, 2), (20, 2), (20, 2))"
            ]
          },
          "metadata": {},
          "execution_count": 137
        }
      ]
    },
    {
      "cell_type": "code",
      "source": [
        "# train X & y\n",
        "strain_text_ds_raw = tf.data.Dataset.from_tensor_slices(\n",
        "            tf.cast(strainds['Text'].values, tf.string)\n",
        ") \n",
        "strain_cat_ds_raw = tf.data.Dataset.from_tensor_slices(\n",
        "            tf.cast(strainds['sentiment_code'].values, tf.int64),\n",
        "  ) \n",
        "# test X & y\n",
        "stest_text_ds_raw = tf.data.Dataset.from_tensor_slices(\n",
        "            tf.cast(stestds['Text'].values, tf.string)\n",
        ") \n",
        "stest_cat_ds_raw = tf.data.Dataset.from_tensor_slices(\n",
        "            tf.cast(stestds['sentiment_code'].values, tf.int64),\n",
        ")\n",
        "#val X & Y\n",
        "sval_text_ds_raw = tf.data.Dataset.from_tensor_slices(\n",
        "            tf.cast(svalds['Text'].values, tf.string)\n",
        ") \n",
        "sval_cat_ds_raw = tf.data.Dataset.from_tensor_slices(\n",
        "            tf.cast(svalds['sentiment_code'].values, tf.int64),\n",
        ")"
      ],
      "metadata": {
        "id": "kJTC1Ml5n3-m"
      },
      "execution_count": 138,
      "outputs": []
    },
    {
      "cell_type": "code",
      "source": [
        "strain_ds = tf.data.Dataset.zip(\n",
        "    (\n",
        "            strain_text_ds_raw,\n",
        "            strain_cat_ds_raw\n",
        "     )\n",
        ")\n",
        "stest_ds = tf.data.Dataset.zip(\n",
        "    (\n",
        "            stest_text_ds_raw,\n",
        "            stest_cat_ds_raw\n",
        "     )\n",
        ")\n",
        "sval_ds = tf.data.Dataset.zip(\n",
        "    (\n",
        "            sval_text_ds_raw,\n",
        "            sval_cat_ds_raw\n",
        "     )\n",
        ")"
      ],
      "metadata": {
        "id": "nIfCQ7MdoS3J"
      },
      "execution_count": 139,
      "outputs": []
    },
    {
      "cell_type": "code",
      "source": [
        "batch_size = 3\n",
        "AUTOTUNE = tf.data.experimental.AUTOTUNE\n",
        "sbuffer_size = strain_ds.cardinality().numpy()\n",
        "\n",
        "strain_ds = (strain_ds.shuffle(buffer_size=sbuffer_size)\n",
        "                    .batch(batch_size=batch_size,drop_remainder=True)\n",
        "                    .cache()\n",
        "                    .prefetch(AUTOTUNE))\n",
        "\n",
        "stest_ds = (stest_ds.shuffle(buffer_size=sbuffer_size)\n",
        "                  .batch(batch_size=batch_size,drop_remainder=True)\n",
        "                  .cache()\n",
        "                  .prefetch(AUTOTUNE))\n",
        "\n",
        "sval_ds = (sval_ds.shuffle(buffer_size=sbuffer_size)\n",
        "                .batch(batch_size=batch_size,drop_remainder=True)\n",
        "                .cache()\n",
        "                .prefetch(AUTOTUNE))"
      ],
      "metadata": {
        "id": "hlcGbY9zob4u"
      },
      "execution_count": 140,
      "outputs": []
    },
    {
      "cell_type": "code",
      "source": [
        "sx_train = strain_features.to_numpy()\n",
        "sy_train = strain_targets.to_numpy()\n",
        "sx_test = stest_features.to_numpy()\n",
        "sy_test = stest_targets.to_numpy()"
      ],
      "metadata": {
        "id": "7xR3sEBeosJH"
      },
      "execution_count": 141,
      "outputs": []
    },
    {
      "cell_type": "code",
      "source": [
        "VOCAB_SIZE = 5000\n",
        "sencoder = tf.keras.layers.experimental.preprocessing.TextVectorization(\n",
        "    max_tokens=VOCAB_SIZE, standardize=\"lower_and_strip_punctuation\", pad_to_max_tokens= True)\n",
        "sencoder.adapt(strain_ds.map(lambda text, label: text), batch_size= None)"
      ],
      "metadata": {
        "id": "IomJXwukqWf7"
      },
      "execution_count": 142,
      "outputs": []
    },
    {
      "cell_type": "markdown",
      "source": [
        "### Modeling to select genre"
      ],
      "metadata": {
        "id": "q-hKadjNggcJ"
      }
    },
    {
      "cell_type": "markdown",
      "source": [
        "#### LSTM 1"
      ],
      "metadata": {
        "id": "1doRY8o7giq2"
      }
    },
    {
      "cell_type": "code",
      "source": [
        "num_classes = 4"
      ],
      "metadata": {
        "id": "P3ytmQqyp7yV"
      },
      "execution_count": 143,
      "outputs": []
    },
    {
      "cell_type": "code",
      "source": [
        "model_1 = tf.keras.Sequential([encoder,\n",
        "                             tf.keras.layers.Embedding(len(encoder.get_vocabulary()), 128, mask_zero=True),\n",
        "                             tf.keras.layers.Bidirectional(tf.keras.layers.LSTM(64,  return_sequences=True, dropout=0.3)),\n",
        "                             tf.keras.layers.Bidirectional(tf.keras.layers.LSTM(32, dropout=0.3)),\n",
        "                             tf.keras.layers.Dense(64, activation='relu'),\n",
        "                             tf.keras.layers.Dense(num_classes, activation='softmax')])"
      ],
      "metadata": {
        "id": "tUa_Ai4G05Gz"
      },
      "execution_count": 144,
      "outputs": []
    },
    {
      "cell_type": "code",
      "source": [
        "model_1.summary()"
      ],
      "metadata": {
        "colab": {
          "base_uri": "https://localhost:8080/"
        },
        "id": "cOWaQq6y30P0",
        "outputId": "c869aa32-6c7e-4fe5-e4de-57bc853d432a"
      },
      "execution_count": 145,
      "outputs": [
        {
          "output_type": "stream",
          "name": "stdout",
          "text": [
            "Model: \"sequential_7\"\n",
            "_________________________________________________________________\n",
            " Layer (type)                Output Shape              Param #   \n",
            "=================================================================\n",
            " text_vectorization_2 (TextV  (None, None)             0         \n",
            " ectorization)                                                   \n",
            "                                                                 \n",
            " embedding_7 (Embedding)     (None, None, 128)         640000    \n",
            "                                                                 \n",
            " bidirectional_14 (Bidirecti  (None, None, 128)        98816     \n",
            " onal)                                                           \n",
            "                                                                 \n",
            " bidirectional_15 (Bidirecti  (None, 64)               41216     \n",
            " onal)                                                           \n",
            "                                                                 \n",
            " dense_14 (Dense)            (None, 64)                4160      \n",
            "                                                                 \n",
            " dense_15 (Dense)            (None, 4)                 260       \n",
            "                                                                 \n",
            "=================================================================\n",
            "Total params: 784,452\n",
            "Trainable params: 784,452\n",
            "Non-trainable params: 0\n",
            "_________________________________________________________________\n"
          ]
        }
      ]
    },
    {
      "cell_type": "code",
      "source": [
        "model_1.compile(optimizer= tf.keras.optimizers.Adam(),\n",
        "              loss=tf.keras.losses.SparseCategoricalCrossentropy(),\n",
        "              metrics=['accuracy'])"
      ],
      "metadata": {
        "id": "7PtmHp_K05EF"
      },
      "execution_count": 146,
      "outputs": []
    },
    {
      "cell_type": "code",
      "source": [
        "%%time\n",
        "history = model_1.fit(train_ds\n",
        "         ,epochs=20\n",
        "         ,validation_data=val_ds\n",
        "         ,validation_steps=3\n",
        "         ,callbacks=[tf.keras.callbacks.EarlyStopping(monitor='val_accuracy', patience=2)])"
      ],
      "metadata": {
        "colab": {
          "base_uri": "https://localhost:8080/"
        },
        "id": "FZVd4XQD05BW",
        "outputId": "5c316fd1-b8a5-4e28-d510-3a3900328945"
      },
      "execution_count": 147,
      "outputs": [
        {
          "output_type": "stream",
          "name": "stdout",
          "text": [
            "Epoch 1/20\n",
            "52/52 [==============================] - 28s 239ms/step - loss: 1.3912 - accuracy: 0.2692 - val_loss: 1.3754 - val_accuracy: 0.3333\n",
            "Epoch 2/20\n",
            "52/52 [==============================] - 7s 136ms/step - loss: 1.2775 - accuracy: 0.4423 - val_loss: 1.4395 - val_accuracy: 0.3333\n",
            "Epoch 3/20\n",
            "52/52 [==============================] - 7s 135ms/step - loss: 0.7883 - accuracy: 0.6859 - val_loss: 1.0714 - val_accuracy: 0.4444\n",
            "Epoch 4/20\n",
            "52/52 [==============================] - 7s 135ms/step - loss: 0.7718 - accuracy: 0.7756 - val_loss: 1.4104 - val_accuracy: 0.6667\n",
            "Epoch 5/20\n",
            "52/52 [==============================] - 8s 155ms/step - loss: 0.2980 - accuracy: 0.8910 - val_loss: 1.2971 - val_accuracy: 0.5556\n",
            "Epoch 6/20\n",
            "52/52 [==============================] - 7s 138ms/step - loss: 0.0502 - accuracy: 1.0000 - val_loss: 2.1108 - val_accuracy: 0.3333\n",
            "CPU times: user 1min 6s, sys: 1.9 s, total: 1min 8s\n",
            "Wall time: 1min 13s\n"
          ]
        }
      ]
    },
    {
      "cell_type": "code",
      "source": [
        "test_loss, test_acc = model_1.evaluate(val_ds)\n",
        "\n",
        "print('Test Loss: {}'.format(test_loss))\n",
        "print('Test Accuracy: {}'.format(test_acc))"
      ],
      "metadata": {
        "colab": {
          "base_uri": "https://localhost:8080/"
        },
        "id": "0trh0k6Y0_i-",
        "outputId": "e74e4385-b928-4ba6-b0ce-4213ae6b87a5"
      },
      "execution_count": 148,
      "outputs": [
        {
          "output_type": "stream",
          "name": "stdout",
          "text": [
            "6/6 [==============================] - 0s 71ms/step - loss: 1.4930 - accuracy: 0.6111\n",
            "Test Loss: 1.4929779767990112\n",
            "Test Accuracy: 0.6111111044883728\n"
          ]
        }
      ]
    },
    {
      "cell_type": "code",
      "source": [
        "history_dict = history.history\n",
        "history_dict.keys()"
      ],
      "metadata": {
        "colab": {
          "base_uri": "https://localhost:8080/"
        },
        "id": "ABT_I3Nf3j_8",
        "outputId": "4c93a92d-fd25-4d3c-e822-fe03a94a36e9"
      },
      "execution_count": 149,
      "outputs": [
        {
          "output_type": "execute_result",
          "data": {
            "text/plain": [
              "dict_keys(['loss', 'accuracy', 'val_loss', 'val_accuracy'])"
            ]
          },
          "metadata": {},
          "execution_count": 149
        }
      ]
    },
    {
      "cell_type": "code",
      "source": [
        "history_df=pd.DataFrame(history_dict)\n",
        "history_df.tail().round(3)"
      ],
      "metadata": {
        "colab": {
          "base_uri": "https://localhost:8080/",
          "height": 206
        },
        "id": "QvvjQ24H3j82",
        "outputId": "8cbaaddb-4d2c-4a9d-d510-be67cabae08c"
      },
      "execution_count": 150,
      "outputs": [
        {
          "output_type": "execute_result",
          "data": {
            "text/plain": [
              "    loss  accuracy  val_loss  val_accuracy\n",
              "1  1.278     0.442     1.440         0.333\n",
              "2  0.788     0.686     1.071         0.444\n",
              "3  0.772     0.776     1.410         0.667\n",
              "4  0.298     0.891     1.297         0.556\n",
              "5  0.050     1.000     2.111         0.333"
            ],
            "text/html": [
              "\n",
              "  <div id=\"df-19d6c3c3-83be-4cb1-bd38-4b00144a2962\">\n",
              "    <div class=\"colab-df-container\">\n",
              "      <div>\n",
              "<style scoped>\n",
              "    .dataframe tbody tr th:only-of-type {\n",
              "        vertical-align: middle;\n",
              "    }\n",
              "\n",
              "    .dataframe tbody tr th {\n",
              "        vertical-align: top;\n",
              "    }\n",
              "\n",
              "    .dataframe thead th {\n",
              "        text-align: right;\n",
              "    }\n",
              "</style>\n",
              "<table border=\"1\" class=\"dataframe\">\n",
              "  <thead>\n",
              "    <tr style=\"text-align: right;\">\n",
              "      <th></th>\n",
              "      <th>loss</th>\n",
              "      <th>accuracy</th>\n",
              "      <th>val_loss</th>\n",
              "      <th>val_accuracy</th>\n",
              "    </tr>\n",
              "  </thead>\n",
              "  <tbody>\n",
              "    <tr>\n",
              "      <th>1</th>\n",
              "      <td>1.278</td>\n",
              "      <td>0.442</td>\n",
              "      <td>1.440</td>\n",
              "      <td>0.333</td>\n",
              "    </tr>\n",
              "    <tr>\n",
              "      <th>2</th>\n",
              "      <td>0.788</td>\n",
              "      <td>0.686</td>\n",
              "      <td>1.071</td>\n",
              "      <td>0.444</td>\n",
              "    </tr>\n",
              "    <tr>\n",
              "      <th>3</th>\n",
              "      <td>0.772</td>\n",
              "      <td>0.776</td>\n",
              "      <td>1.410</td>\n",
              "      <td>0.667</td>\n",
              "    </tr>\n",
              "    <tr>\n",
              "      <th>4</th>\n",
              "      <td>0.298</td>\n",
              "      <td>0.891</td>\n",
              "      <td>1.297</td>\n",
              "      <td>0.556</td>\n",
              "    </tr>\n",
              "    <tr>\n",
              "      <th>5</th>\n",
              "      <td>0.050</td>\n",
              "      <td>1.000</td>\n",
              "      <td>2.111</td>\n",
              "      <td>0.333</td>\n",
              "    </tr>\n",
              "  </tbody>\n",
              "</table>\n",
              "</div>\n",
              "      <button class=\"colab-df-convert\" onclick=\"convertToInteractive('df-19d6c3c3-83be-4cb1-bd38-4b00144a2962')\"\n",
              "              title=\"Convert this dataframe to an interactive table.\"\n",
              "              style=\"display:none;\">\n",
              "        \n",
              "  <svg xmlns=\"http://www.w3.org/2000/svg\" height=\"24px\"viewBox=\"0 0 24 24\"\n",
              "       width=\"24px\">\n",
              "    <path d=\"M0 0h24v24H0V0z\" fill=\"none\"/>\n",
              "    <path d=\"M18.56 5.44l.94 2.06.94-2.06 2.06-.94-2.06-.94-.94-2.06-.94 2.06-2.06.94zm-11 1L8.5 8.5l.94-2.06 2.06-.94-2.06-.94L8.5 2.5l-.94 2.06-2.06.94zm10 10l.94 2.06.94-2.06 2.06-.94-2.06-.94-.94-2.06-.94 2.06-2.06.94z\"/><path d=\"M17.41 7.96l-1.37-1.37c-.4-.4-.92-.59-1.43-.59-.52 0-1.04.2-1.43.59L10.3 9.45l-7.72 7.72c-.78.78-.78 2.05 0 2.83L4 21.41c.39.39.9.59 1.41.59.51 0 1.02-.2 1.41-.59l7.78-7.78 2.81-2.81c.8-.78.8-2.07 0-2.86zM5.41 20L4 18.59l7.72-7.72 1.47 1.35L5.41 20z\"/>\n",
              "  </svg>\n",
              "      </button>\n",
              "      \n",
              "  <style>\n",
              "    .colab-df-container {\n",
              "      display:flex;\n",
              "      flex-wrap:wrap;\n",
              "      gap: 12px;\n",
              "    }\n",
              "\n",
              "    .colab-df-convert {\n",
              "      background-color: #E8F0FE;\n",
              "      border: none;\n",
              "      border-radius: 50%;\n",
              "      cursor: pointer;\n",
              "      display: none;\n",
              "      fill: #1967D2;\n",
              "      height: 32px;\n",
              "      padding: 0 0 0 0;\n",
              "      width: 32px;\n",
              "    }\n",
              "\n",
              "    .colab-df-convert:hover {\n",
              "      background-color: #E2EBFA;\n",
              "      box-shadow: 0px 1px 2px rgba(60, 64, 67, 0.3), 0px 1px 3px 1px rgba(60, 64, 67, 0.15);\n",
              "      fill: #174EA6;\n",
              "    }\n",
              "\n",
              "    [theme=dark] .colab-df-convert {\n",
              "      background-color: #3B4455;\n",
              "      fill: #D2E3FC;\n",
              "    }\n",
              "\n",
              "    [theme=dark] .colab-df-convert:hover {\n",
              "      background-color: #434B5C;\n",
              "      box-shadow: 0px 1px 3px 1px rgba(0, 0, 0, 0.15);\n",
              "      filter: drop-shadow(0px 1px 2px rgba(0, 0, 0, 0.3));\n",
              "      fill: #FFFFFF;\n",
              "    }\n",
              "  </style>\n",
              "\n",
              "      <script>\n",
              "        const buttonEl =\n",
              "          document.querySelector('#df-19d6c3c3-83be-4cb1-bd38-4b00144a2962 button.colab-df-convert');\n",
              "        buttonEl.style.display =\n",
              "          google.colab.kernel.accessAllowed ? 'block' : 'none';\n",
              "\n",
              "        async function convertToInteractive(key) {\n",
              "          const element = document.querySelector('#df-19d6c3c3-83be-4cb1-bd38-4b00144a2962');\n",
              "          const dataTable =\n",
              "            await google.colab.kernel.invokeFunction('convertToInteractive',\n",
              "                                                     [key], {});\n",
              "          if (!dataTable) return;\n",
              "\n",
              "          const docLinkHtml = 'Like what you see? Visit the ' +\n",
              "            '<a target=\"_blank\" href=https://colab.research.google.com/notebooks/data_table.ipynb>data table notebook</a>'\n",
              "            + ' to learn more about interactive tables.';\n",
              "          element.innerHTML = '';\n",
              "          dataTable['output_type'] = 'display_data';\n",
              "          await google.colab.output.renderOutput(dataTable, element);\n",
              "          const docLink = document.createElement('div');\n",
              "          docLink.innerHTML = docLinkHtml;\n",
              "          element.appendChild(docLink);\n",
              "        }\n",
              "      </script>\n",
              "    </div>\n",
              "  </div>\n",
              "  "
            ]
          },
          "metadata": {},
          "execution_count": 150
        }
      ]
    },
    {
      "cell_type": "code",
      "source": [
        "losses = history.history['loss']\n",
        "accs = history.history['accuracy']\n",
        "val_losses = history.history['val_loss']\n",
        "val_accs = history.history['val_accuracy']\n",
        "epochs = len(losses)"
      ],
      "metadata": {
        "id": "hD0-2C1h3jy7"
      },
      "execution_count": 151,
      "outputs": []
    },
    {
      "cell_type": "code",
      "source": [
        "plt.figure(figsize=(16, 6))\n",
        "for i, metrics in enumerate(zip([losses, accs], [val_losses, val_accs], ['Loss', 'Accuracy'])):\n",
        "    plt.subplot(1, 2, i + 1)\n",
        "    plt.plot(range(epochs), metrics[0], label='Training {}'.format(metrics[2]))\n",
        "    plt.plot(range(epochs), metrics[1], label='Validation {}'.format(metrics[2]))\n",
        "    plt.legend()\n",
        "plt.show()"
      ],
      "metadata": {
        "colab": {
          "base_uri": "https://localhost:8080/",
          "height": 374
        },
        "id": "oHJRH2QK3pN7",
        "outputId": "3771927a-3674-400b-d20e-a20fa75888b5"
      },
      "execution_count": 152,
      "outputs": [
        {
          "output_type": "display_data",
          "data": {
            "text/plain": [
              "<Figure size 1152x432 with 2 Axes>"
            ],
            "image/png": "[encoded data removed]"
          },
          "metadata": {
            "needs_background": "light"
          }
        }
      ]
    },
    {
      "cell_type": "code",
      "source": [
        "preds = model_1.predict(test_ds)\n",
        "y_pred = np.argmax(preds, axis=1)\n",
        "y_1 = np.concatenate([y for x, y in test_ds], axis=0)"
      ],
      "metadata": {
        "id": "H9HuxbN2yW93"
      },
      "execution_count": 153,
      "outputs": []
    },
    {
      "cell_type": "code",
      "source": [
        "CLASSES_LIST = ['Action', 'Comedy', 'Horror', 'Sci-Fi']"
      ],
      "metadata": {
        "id": "adlaRBRc0tKp"
      },
      "execution_count": 154,
      "outputs": []
    },
    {
      "cell_type": "code",
      "source": [
        "def plot_confusion_matrix_labeled(y_true, y_pred, CLASSES_LIST):\n",
        "    mtx = confusion_matrix(y_true, y_pred)\n",
        "    # define classes \n",
        "    classes = CLASSES_LIST\n",
        "    temp_df = pd.DataFrame(data=mtx,columns=classes)\n",
        "    temp_df.index = classes\n",
        "    fig, ax = plt.subplots(figsize=(10,10))\n",
        "    sns.heatmap(temp_df, annot=True, fmt='d', linewidths=.75,  cbar=False, ax=ax,cmap='Blues',linecolor='white')\n",
        "    #  square=True,\n",
        "    plt.ylabel('true label')\n",
        "    plt.xlabel('predicted label')"
      ],
      "metadata": {
        "id": "XQCkdJYQ4g85"
      },
      "execution_count": 155,
      "outputs": []
    },
    {
      "cell_type": "code",
      "source": [
        "plot_confusion_matrix_labeled(y_1, y_pred, CLASSES_LIST=CLASSES_LIST)"
      ],
      "metadata": {
        "colab": {
          "base_uri": "https://localhost:8080/",
          "height": 606
        },
        "id": "izahcYE_0vLK",
        "outputId": "d5e8e927-fd7e-49ff-acd3-1d6284b1b237"
      },
      "execution_count": 156,
      "outputs": [
        {
          "output_type": "display_data",
          "data": {
            "text/plain": [
              "<Figure size 720x720 with 1 Axes>"
            ],
            "image/png": "[encoded data removed]"
          },
          "metadata": {
            "needs_background": "light"
          }
        }
      ]
    },
    {
      "cell_type": "markdown",
      "source": [
        "#### LSTM 2"
      ],
      "metadata": {
        "id": "GVTPKrdJqArG"
      }
    },
    {
      "cell_type": "code",
      "source": [
        "model_2 = tf.keras.Sequential([encoder,\n",
        "                             tf.keras.layers.Embedding(len(encoder.get_vocabulary()), 300, mask_zero=True),\n",
        "                             tf.keras.layers.Bidirectional(tf.keras.layers.LSTM(128,  return_sequences=True, dropout=0.3)),\n",
        "                             tf.keras.layers.Bidirectional(tf.keras.layers.LSTM(32, dropout=0.3)),\n",
        "                             tf.keras.layers.Dense(300, activation='relu'),\n",
        "                             tf.keras.layers.Dense(num_classes, activation='softmax')])"
      ],
      "metadata": {
        "id": "dAF23jxvqAYr"
      },
      "execution_count": 157,
      "outputs": []
    },
    {
      "cell_type": "code",
      "source": [
        "model_2.summary()"
      ],
      "metadata": {
        "colab": {
          "base_uri": "https://localhost:8080/"
        },
        "id": "grf2yx-kqVj0",
        "outputId": "6c37364d-28ed-4c10-fde8-9d4056ebf00a"
      },
      "execution_count": 158,
      "outputs": [
        {
          "output_type": "stream",
          "name": "stdout",
          "text": [
            "Model: \"sequential_8\"\n",
            "_________________________________________________________________\n",
            " Layer (type)                Output Shape              Param #   \n",
            "=================================================================\n",
            " text_vectorization_2 (TextV  (None, None)             0         \n",
            " ectorization)                                                   \n",
            "                                                                 \n",
            " embedding_8 (Embedding)     (None, None, 300)         1500000   \n",
            "                                                                 \n",
            " bidirectional_16 (Bidirecti  (None, None, 256)        439296    \n",
            " onal)                                                           \n",
            "                                                                 \n",
            " bidirectional_17 (Bidirecti  (None, 64)               73984     \n",
            " onal)                                                           \n",
            "                                                                 \n",
            " dense_16 (Dense)            (None, 300)               19500     \n",
            "                                                                 \n",
            " dense_17 (Dense)            (None, 4)                 1204      \n",
            "                                                                 \n",
            "=================================================================\n",
            "Total params: 2,033,984\n",
            "Trainable params: 2,033,984\n",
            "Non-trainable params: 0\n",
            "_________________________________________________________________\n"
          ]
        }
      ]
    },
    {
      "cell_type": "code",
      "source": [
        "model_2.compile(optimizer= tf.keras.optimizers.Adam(),\n",
        "              loss=tf.keras.losses.SparseCategoricalCrossentropy(),\n",
        "              metrics=['accuracy'])"
      ],
      "metadata": {
        "id": "RcbJjyDoqXcM"
      },
      "execution_count": 159,
      "outputs": []
    },
    {
      "cell_type": "code",
      "source": [
        "%%time\n",
        "history_2 = model_2.fit(train_ds\n",
        "         ,epochs=20\n",
        "         ,validation_data=val_ds\n",
        "         ,validation_steps=3\n",
        "         ,callbacks=[tf.keras.callbacks.EarlyStopping(monitor='val_accuracy', patience=2)])"
      ],
      "metadata": {
        "colab": {
          "base_uri": "https://localhost:8080/"
        },
        "id": "GporWRSbqZFo",
        "outputId": "619bc99c-1cc4-479e-82ca-7d3e6dc7f779"
      },
      "execution_count": 160,
      "outputs": [
        {
          "output_type": "stream",
          "name": "stdout",
          "text": [
            "Epoch 1/20\n",
            "52/52 [==============================] - 31s 248ms/step - loss: 1.3935 - accuracy: 0.2564 - val_loss: 1.3507 - val_accuracy: 0.4444\n",
            "Epoch 2/20\n",
            "52/52 [==============================] - 8s 148ms/step - loss: 1.1380 - accuracy: 0.5128 - val_loss: 1.0094 - val_accuracy: 0.4444\n",
            "Epoch 3/20\n",
            "52/52 [==============================] - 8s 149ms/step - loss: 0.6303 - accuracy: 0.8718 - val_loss: 1.1410 - val_accuracy: 0.5556\n",
            "Epoch 4/20\n",
            "52/52 [==============================] - 8s 147ms/step - loss: 0.1585 - accuracy: 0.9487 - val_loss: 1.6793 - val_accuracy: 0.5556\n",
            "Epoch 5/20\n",
            "52/52 [==============================] - 8s 148ms/step - loss: 0.0277 - accuracy: 1.0000 - val_loss: 1.0168 - val_accuracy: 0.6667\n",
            "Epoch 6/20\n",
            "52/52 [==============================] - 8s 150ms/step - loss: 0.0045 - accuracy: 1.0000 - val_loss: 0.8251 - val_accuracy: 0.7778\n",
            "Epoch 7/20\n",
            "52/52 [==============================] - 8s 147ms/step - loss: 0.0017 - accuracy: 1.0000 - val_loss: 0.8866 - val_accuracy: 0.7778\n",
            "Epoch 8/20\n",
            "52/52 [==============================] - 8s 148ms/step - loss: 0.0012 - accuracy: 1.0000 - val_loss: 0.9564 - val_accuracy: 0.6667\n",
            "CPU times: user 1min 29s, sys: 2.67 s, total: 1min 31s\n",
            "Wall time: 1min 37s\n"
          ]
        }
      ]
    },
    {
      "cell_type": "code",
      "source": [
        "test_loss, test_acc = model_2.evaluate(val_ds)\n",
        "\n",
        "print('Test Loss: {}'.format(test_loss))\n",
        "print('Test Accuracy: {}'.format(test_acc))"
      ],
      "metadata": {
        "colab": {
          "base_uri": "https://localhost:8080/"
        },
        "id": "C5EL1JThqjMt",
        "outputId": "16c98fc9-f759-492b-863e-0685597b5e37"
      },
      "execution_count": 161,
      "outputs": [
        {
          "output_type": "stream",
          "name": "stdout",
          "text": [
            "6/6 [==============================] - 0s 66ms/step - loss: 0.9554 - accuracy: 0.6667\n",
            "Test Loss: 0.9553947448730469\n",
            "Test Accuracy: 0.6666666865348816\n"
          ]
        }
      ]
    },
    {
      "cell_type": "code",
      "source": [
        "preds2 = model_2.predict(test_ds)\n",
        "y_pred2 = np.argmax(preds2, axis=1)\n",
        "y2 = np.concatenate([y for x, y in test_ds], axis=0)"
      ],
      "metadata": {
        "id": "TbCMblrUrFcy"
      },
      "execution_count": 162,
      "outputs": []
    },
    {
      "cell_type": "code",
      "source": [
        "plot_confusion_matrix_labeled(y2, y_pred2, CLASSES_LIST=CLASSES_LIST)"
      ],
      "metadata": {
        "colab": {
          "base_uri": "https://localhost:8080/",
          "height": 606
        },
        "id": "NZ_ojKC8rWIC",
        "outputId": "791bf449-11b1-4d5a-88bb-0a0cfb695e43"
      },
      "execution_count": 163,
      "outputs": [
        {
          "output_type": "display_data",
          "data": {
            "text/plain": [
              "<Figure size 720x720 with 1 Axes>"
            ],
            "image/png": "[encoded data removed]"
          },
          "metadata": {
            "needs_background": "light"
          }
        }
      ]
    },
    {
      "cell_type": "markdown",
      "source": [
        "#### LSTM 3"
      ],
      "metadata": {
        "id": "9cWtyx_tgyXj"
      }
    },
    {
      "cell_type": "code",
      "source": [
        "model_3 = tf.keras.Sequential([encoder,\n",
        "                             tf.keras.layers.Embedding(len(encoder.get_vocabulary()), 500, mask_zero=True),\n",
        "                             tf.keras.layers.Bidirectional(tf.keras.layers.LSTM(200,  return_sequences=True, dropout=0.3)),\n",
        "                             tf.keras.layers.Bidirectional(tf.keras.layers.LSTM(32, dropout=0.3)),\n",
        "                             tf.keras.layers.Dense(500, activation='relu'),\n",
        "                             tf.keras.layers.Dense(num_classes, activation='softmax')])"
      ],
      "metadata": {
        "id": "-UbSM3r7g_PP"
      },
      "execution_count": 164,
      "outputs": []
    },
    {
      "cell_type": "code",
      "source": [
        "model_3.summary()"
      ],
      "metadata": {
        "colab": {
          "base_uri": "https://localhost:8080/"
        },
        "id": "4a5GSEOVhbHl",
        "outputId": "e9084e5e-ab23-42f7-d034-6398551381b0"
      },
      "execution_count": 165,
      "outputs": [
        {
          "output_type": "stream",
          "name": "stdout",
          "text": [
            "Model: \"sequential_9\"\n",
            "_________________________________________________________________\n",
            " Layer (type)                Output Shape              Param #   \n",
            "=================================================================\n",
            " text_vectorization_2 (TextV  (None, None)             0         \n",
            " ectorization)                                                   \n",
            "                                                                 \n",
            " embedding_9 (Embedding)     (None, None, 500)         2500000   \n",
            "                                                                 \n",
            " bidirectional_18 (Bidirecti  (None, None, 400)        1121600   \n",
            " onal)                                                           \n",
            "                                                                 \n",
            " bidirectional_19 (Bidirecti  (None, 64)               110848    \n",
            " onal)                                                           \n",
            "                                                                 \n",
            " dense_18 (Dense)            (None, 500)               32500     \n",
            "                                                                 \n",
            " dense_19 (Dense)            (None, 4)                 2004      \n",
            "                                                                 \n",
            "=================================================================\n",
            "Total params: 3,766,952\n",
            "Trainable params: 3,766,952\n",
            "Non-trainable params: 0\n",
            "_________________________________________________________________\n"
          ]
        }
      ]
    },
    {
      "cell_type": "code",
      "source": [
        "model_3.compile(optimizer= tf.keras.optimizers.Adam(),\n",
        "              loss=tf.keras.losses.SparseCategoricalCrossentropy(),\n",
        "              metrics=['accuracy'])"
      ],
      "metadata": {
        "id": "LkxBWFF-heX6"
      },
      "execution_count": 166,
      "outputs": []
    },
    {
      "cell_type": "code",
      "source": [
        "%%time\n",
        "history_3 = model_3.fit(train_ds\n",
        "         ,epochs=20\n",
        "         ,validation_data=val_ds\n",
        "         ,validation_steps=3\n",
        "         ,callbacks=[tf.keras.callbacks.EarlyStopping(monitor='val_accuracy', patience=2)])"
      ],
      "metadata": {
        "colab": {
          "base_uri": "https://localhost:8080/"
        },
        "id": "isUpnH0GinWB",
        "outputId": "52c2f760-6e4d-4dec-e33e-72b5d8d5f006"
      },
      "execution_count": 167,
      "outputs": [
        {
          "output_type": "stream",
          "name": "stdout",
          "text": [
            "Epoch 1/20\n",
            "52/52 [==============================] - 28s 245ms/step - loss: 1.3963 - accuracy: 0.3141 - val_loss: 1.3515 - val_accuracy: 0.4444\n",
            "Epoch 2/20\n",
            "52/52 [==============================] - 8s 148ms/step - loss: 1.0983 - accuracy: 0.5769 - val_loss: 0.7400 - val_accuracy: 0.7778\n",
            "Epoch 3/20\n",
            "52/52 [==============================] - 8s 147ms/step - loss: 0.5675 - accuracy: 0.7821 - val_loss: 0.8906 - val_accuracy: 0.6667\n",
            "Epoch 4/20\n",
            "52/52 [==============================] - 8s 149ms/step - loss: 0.2260 - accuracy: 0.9359 - val_loss: 0.9488 - val_accuracy: 0.7778\n",
            "CPU times: user 52.6 s, sys: 1.35 s, total: 54 s\n",
            "Wall time: 53.3 s\n"
          ]
        }
      ]
    },
    {
      "cell_type": "code",
      "source": [
        "test_loss, test_acc = model_3.evaluate(val_ds)\n",
        "\n",
        "print('Test Loss: {}'.format(test_loss))\n",
        "print('Test Accuracy: {}'.format(test_acc))"
      ],
      "metadata": {
        "colab": {
          "base_uri": "https://localhost:8080/"
        },
        "id": "Phed8Emhhhbh",
        "outputId": "e284c243-10cf-4d83-dc47-f8c5b1b648a1"
      },
      "execution_count": 168,
      "outputs": [
        {
          "output_type": "stream",
          "name": "stdout",
          "text": [
            "6/6 [==============================] - 0s 72ms/step - loss: 1.1707 - accuracy: 0.6111\n",
            "Test Loss: 1.1707282066345215\n",
            "Test Accuracy: 0.6111111044883728\n"
          ]
        }
      ]
    },
    {
      "cell_type": "code",
      "source": [
        "preds3 = model_3.predict(test_ds)\n",
        "y_pred3 = np.argmax(preds3, axis=1)\n",
        "y3 = np.concatenate([y for x, y in test_ds], axis=0)"
      ],
      "metadata": {
        "id": "DHJIWKmN1Zu3"
      },
      "execution_count": 169,
      "outputs": []
    },
    {
      "cell_type": "code",
      "source": [
        "plot_confusion_matrix_labeled(y3, y_pred3, CLASSES_LIST=CLASSES_LIST)"
      ],
      "metadata": {
        "colab": {
          "base_uri": "https://localhost:8080/",
          "height": 606
        },
        "id": "bNi6VhjM1ctu",
        "outputId": "aa588281-76c7-45b5-8075-ec1ffbf9e18d"
      },
      "execution_count": 170,
      "outputs": [
        {
          "output_type": "display_data",
          "data": {
            "text/plain": [
              "<Figure size 720x720 with 1 Axes>"
            ],
            "image/png": "[encoded data removed]"
          },
          "metadata": {
            "needs_background": "light"
          }
        }
      ]
    },
    {
      "cell_type": "markdown",
      "source": [
        "### Modeling to select sentiment (positive or negative reviews)"
      ],
      "metadata": {
        "id": "5KQjkvILkz-8"
      }
    },
    {
      "cell_type": "markdown",
      "source": [
        "#### LSTM 1"
      ],
      "metadata": {
        "id": "7a6Uvj8uqEXM"
      }
    },
    {
      "cell_type": "code",
      "source": [
        "sent_model_1 = tf.keras.Sequential([sencoder,\n",
        "                             tf.keras.layers.Embedding(len(encoder.get_vocabulary()), 128, mask_zero=True),\n",
        "                             tf.keras.layers.Bidirectional(tf.keras.layers.LSTM(64,  return_sequences=True, dropout=0.3)),\n",
        "                             tf.keras.layers.Bidirectional(tf.keras.layers.LSTM(32, dropout=0.3)),\n",
        "                             tf.keras.layers.Dense(64, activation='relu'),\n",
        "                             tf.keras.layers.Dense(1, activation='sigmoid')])"
      ],
      "metadata": {
        "id": "L_hKsDpJqDIu"
      },
      "execution_count": 171,
      "outputs": []
    },
    {
      "cell_type": "code",
      "source": [
        "sent_model_1.compile(optimizer= tf.keras.optimizers.Adam(),\n",
        "              loss=tf.keras.losses.BinaryCrossentropy(),\n",
        "              metrics=tf.metrics.BinaryAccuracy())"
      ],
      "metadata": {
        "id": "6CUpsIQsY7m0"
      },
      "execution_count": 172,
      "outputs": []
    },
    {
      "cell_type": "code",
      "source": [
        "#%%time\n",
        "shistory = sent_model_1.fit(strain_ds\n",
        "         ,epochs=20\n",
        "         ,validation_data=sval_ds\n",
        "         ,validation_steps=3\n",
        "         ,callbacks=[tf.keras.callbacks.EarlyStopping(monitor='binary_accuracy', patience=2)])"
      ],
      "metadata": {
        "colab": {
          "base_uri": "https://localhost:8080/"
        },
        "id": "IJK1V32vqlmn",
        "outputId": "08621cdc-cebe-46f4-8ef2-cfdb0726aed6"
      },
      "execution_count": 173,
      "outputs": [
        {
          "output_type": "stream",
          "name": "stdout",
          "text": [
            "Epoch 1/20\n",
            "52/52 [==============================] - 36s 255ms/step - loss: 0.6965 - binary_accuracy: 0.4231 - val_loss: 0.6930 - val_binary_accuracy: 0.4444\n",
            "Epoch 2/20\n",
            "52/52 [==============================] - 9s 172ms/step - loss: 0.6810 - binary_accuracy: 0.6218 - val_loss: 0.9633 - val_binary_accuracy: 0.3333\n",
            "Epoch 3/20\n",
            "52/52 [==============================] - 10s 183ms/step - loss: 0.5225 - binary_accuracy: 0.7949 - val_loss: 2.4402 - val_binary_accuracy: 0.4444\n",
            "Epoch 4/20\n",
            "52/52 [==============================] - 11s 216ms/step - loss: 0.0919 - binary_accuracy: 0.9872 - val_loss: 0.9251 - val_binary_accuracy: 0.6667\n",
            "Epoch 5/20\n",
            "52/52 [==============================] - 11s 210ms/step - loss: 0.0084 - binary_accuracy: 1.0000 - val_loss: 0.0340 - val_binary_accuracy: 1.0000\n",
            "Epoch 6/20\n",
            "52/52 [==============================] - 7s 135ms/step - loss: 0.0026 - binary_accuracy: 1.0000 - val_loss: 0.6687 - val_binary_accuracy: 0.8889\n",
            "Epoch 7/20\n",
            "52/52 [==============================] - 7s 135ms/step - loss: 0.0012 - binary_accuracy: 1.0000 - val_loss: 1.9216 - val_binary_accuracy: 0.6667\n"
          ]
        }
      ]
    },
    {
      "cell_type": "code",
      "source": [
        "test_loss, test_acc = sent_model_1.evaluate(sval_ds)\n",
        "\n",
        "print('Test Loss: {}'.format(test_loss))\n",
        "print('Test Accuracy: {}'.format(test_acc))"
      ],
      "metadata": {
        "colab": {
          "base_uri": "https://localhost:8080/"
        },
        "id": "HswKCWlBquVr",
        "outputId": "6afbc64a-10a5-4580-ccf0-aa3528bea3f6"
      },
      "execution_count": 174,
      "outputs": [
        {
          "output_type": "stream",
          "name": "stdout",
          "text": [
            "6/6 [==============================] - 1s 96ms/step - loss: 1.7094 - binary_accuracy: 0.7222\n",
            "Test Loss: 1.7094335556030273\n",
            "Test Accuracy: 0.7222222089767456\n"
          ]
        }
      ]
    },
    {
      "cell_type": "code",
      "source": [
        "spreds = sent_model_1.predict(stest_ds)\n",
        "sy_pred = (spreds > 0.5).astype(\"int32\")\n",
        "sy_1 = np.concatenate([y for x, y in stest_ds], axis=0)"
      ],
      "metadata": {
        "id": "VbiG23_Yq5Vp"
      },
      "execution_count": 175,
      "outputs": []
    },
    {
      "cell_type": "code",
      "source": [
        "CLASS_LIST = ['Pos', 'Neg']"
      ],
      "metadata": {
        "id": "ABrIE6PorDxo"
      },
      "execution_count": 176,
      "outputs": []
    },
    {
      "cell_type": "code",
      "source": [
        "plot_confusion_matrix_labeled(sy_1, sy_pred, CLASSES_LIST=CLASS_LIST)"
      ],
      "metadata": {
        "colab": {
          "base_uri": "https://localhost:8080/",
          "height": 606
        },
        "id": "RZjlrqqyrLrk",
        "outputId": "c284912d-d551-4219-8a3d-013f8e09c160"
      },
      "execution_count": 177,
      "outputs": [
        {
          "output_type": "display_data",
          "data": {
            "text/plain": [
              "<Figure size 720x720 with 1 Axes>"
            ],
            "image/png": "[encoded data removed]"
          },
          "metadata": {
            "needs_background": "light"
          }
        }
      ]
    },
    {
      "cell_type": "markdown",
      "source": [
        "#### LSTM 2"
      ],
      "metadata": {
        "id": "cuft_kGGrbof"
      }
    },
    {
      "cell_type": "code",
      "source": [
        "sent_model_2 = tf.keras.Sequential([sencoder,\n",
        "                             tf.keras.layers.Embedding(len(encoder.get_vocabulary()), 300, mask_zero=True),\n",
        "                             tf.keras.layers.Bidirectional(tf.keras.layers.LSTM(128,  return_sequences=True, dropout=0.3)),\n",
        "                             tf.keras.layers.Bidirectional(tf.keras.layers.LSTM(32, dropout=0.3)),\n",
        "                             tf.keras.layers.Dense(300, activation='relu'),\n",
        "                             tf.keras.layers.Dense(1, activation='sigmoid')])"
      ],
      "metadata": {
        "id": "MuD_PZ9ksT8o"
      },
      "execution_count": 178,
      "outputs": []
    },
    {
      "cell_type": "code",
      "source": [
        "sent_model_2.compile(optimizer= tf.keras.optimizers.Adam(),\n",
        "              loss=tf.keras.losses.BinaryCrossentropy(),\n",
        "              metrics=tf.metrics.BinaryAccuracy())"
      ],
      "metadata": {
        "id": "rM-kIx8wslSg"
      },
      "execution_count": 179,
      "outputs": []
    },
    {
      "cell_type": "code",
      "source": [
        "%%time\n",
        "shistory_2 = sent_model_2.fit(strain_ds\n",
        "         ,epochs=20\n",
        "         ,validation_data=sval_ds\n",
        "         ,validation_steps=3\n",
        "         ,callbacks=[tf.keras.callbacks.EarlyStopping(monitor='binary_accuracy', patience=2)])"
      ],
      "metadata": {
        "colab": {
          "base_uri": "https://localhost:8080/"
        },
        "id": "dUooNQNssnO4",
        "outputId": "806b5b21-b700-4fd7-b6ce-56d05a520d77"
      },
      "execution_count": 180,
      "outputs": [
        {
          "output_type": "stream",
          "name": "stdout",
          "text": [
            "Epoch 1/20\n",
            "52/52 [==============================] - 28s 245ms/step - loss: 0.6984 - binary_accuracy: 0.4423 - val_loss: 0.6913 - val_binary_accuracy: 0.6667\n",
            "Epoch 2/20\n",
            "52/52 [==============================] - 8s 145ms/step - loss: 0.6218 - binary_accuracy: 0.7051 - val_loss: 0.4565 - val_binary_accuracy: 0.7778\n",
            "Epoch 3/20\n",
            "52/52 [==============================] - 7s 144ms/step - loss: 0.3633 - binary_accuracy: 0.8269 - val_loss: 0.2031 - val_binary_accuracy: 1.0000\n",
            "Epoch 4/20\n",
            "52/52 [==============================] - 7s 144ms/step - loss: 0.0197 - binary_accuracy: 1.0000 - val_loss: 0.4058 - val_binary_accuracy: 0.7778\n",
            "Epoch 5/20\n",
            "52/52 [==============================] - 8s 162ms/step - loss: 0.0014 - binary_accuracy: 1.0000 - val_loss: 0.3653 - val_binary_accuracy: 0.7778\n",
            "Epoch 6/20\n",
            "52/52 [==============================] - 8s 161ms/step - loss: 3.6036e-04 - binary_accuracy: 1.0000 - val_loss: 0.3771 - val_binary_accuracy: 0.7778\n",
            "CPU times: user 1min 8s, sys: 1.74 s, total: 1min 10s\n",
            "Wall time: 1min 6s\n"
          ]
        }
      ]
    },
    {
      "cell_type": "code",
      "source": [
        "test_loss, test_acc = sent_model_2.evaluate(sval_ds)\n",
        "\n",
        "print('Test Loss: {}'.format(test_loss))\n",
        "print('Test Accuracy: {}'.format(test_acc))"
      ],
      "metadata": {
        "colab": {
          "base_uri": "https://localhost:8080/"
        },
        "id": "AzjSJL2LssBW",
        "outputId": "8ab15db0-2868-41ad-ba5b-fa86f352d46c"
      },
      "execution_count": 181,
      "outputs": [
        {
          "output_type": "stream",
          "name": "stdout",
          "text": [
            "6/6 [==============================] - 1s 93ms/step - loss: 0.9060 - binary_accuracy: 0.6111\n",
            "Test Loss: 0.9059933423995972\n",
            "Test Accuracy: 0.6111111044883728\n"
          ]
        }
      ]
    },
    {
      "cell_type": "code",
      "source": [
        "spreds2 = sent_model_2.predict(stest_ds)\n",
        "sy_pred2 = (spreds2 > 0.5).astype(\"int32\")\n",
        "sy2 = np.concatenate([y for x, y in stest_ds], axis=0)"
      ],
      "metadata": {
        "id": "ce6VXUWdsxQB"
      },
      "execution_count": 182,
      "outputs": []
    },
    {
      "cell_type": "code",
      "source": [
        "plot_confusion_matrix_labeled(sy2, sy_pred2, CLASSES_LIST=CLASS_LIST)"
      ],
      "metadata": {
        "colab": {
          "base_uri": "https://localhost:8080/",
          "height": 606
        },
        "id": "rT7upEfYs38y",
        "outputId": "41ab99bc-984e-43bd-f84c-ed56152f8af3"
      },
      "execution_count": 183,
      "outputs": [
        {
          "output_type": "display_data",
          "data": {
            "text/plain": [
              "<Figure size 720x720 with 1 Axes>"
            ],
            "image/png": "[encoded data removed]"
          },
          "metadata": {
            "needs_background": "light"
          }
        }
      ]
    },
    {
      "cell_type": "markdown",
      "source": [
        "#### LSTM 3"
      ],
      "metadata": {
        "id": "N-6VdcYFs7ID"
      }
    },
    {
      "cell_type": "code",
      "source": [
        "sent_model_3 = tf.keras.Sequential([sencoder,\n",
        "                             tf.keras.layers.Embedding(len(encoder.get_vocabulary()), 500, mask_zero=True),\n",
        "                             tf.keras.layers.Bidirectional(tf.keras.layers.LSTM(200,  return_sequences=True, dropout=0.3)),\n",
        "                             tf.keras.layers.Bidirectional(tf.keras.layers.LSTM(32, dropout=0.3)),\n",
        "                             tf.keras.layers.Dense(500, activation='relu'),\n",
        "                             tf.keras.layers.Dense(1, activation='sigmoid')])"
      ],
      "metadata": {
        "id": "ZcZtWW5utD_1"
      },
      "execution_count": 184,
      "outputs": []
    },
    {
      "cell_type": "code",
      "source": [
        "sent_model_3.compile(optimizer= tf.keras.optimizers.Adam(),\n",
        "              loss=tf.keras.losses.BinaryCrossentropy(),\n",
        "              metrics=tf.metrics.BinaryAccuracy())"
      ],
      "metadata": {
        "id": "5JRBfINztwgA"
      },
      "execution_count": 185,
      "outputs": []
    },
    {
      "cell_type": "code",
      "source": [
        "%%time\n",
        "shistory_3 = sent_model_3.fit(strain_ds\n",
        "         ,epochs=20\n",
        "         ,validation_data=sval_ds\n",
        "         ,validation_steps=3\n",
        "         ,callbacks=[tf.keras.callbacks.EarlyStopping(monitor='binary_accuracy', patience=2)])"
      ],
      "metadata": {
        "colab": {
          "base_uri": "https://localhost:8080/"
        },
        "id": "H91iuUoit2D0",
        "outputId": "13deafbe-14d4-4dc0-cad4-d7f37f84f313"
      },
      "execution_count": 186,
      "outputs": [
        {
          "output_type": "stream",
          "name": "stdout",
          "text": [
            "Epoch 1/20\n",
            "52/52 [==============================] - 30s 245ms/step - loss: 0.7017 - binary_accuracy: 0.4615 - val_loss: 0.6854 - val_binary_accuracy: 0.5556\n",
            "Epoch 2/20\n",
            "52/52 [==============================] - 8s 146ms/step - loss: 0.5907 - binary_accuracy: 0.7756 - val_loss: 0.3711 - val_binary_accuracy: 0.8889\n",
            "Epoch 3/20\n",
            "52/52 [==============================] - 8s 148ms/step - loss: 0.2911 - binary_accuracy: 0.8910 - val_loss: 0.1999 - val_binary_accuracy: 0.8889\n",
            "Epoch 4/20\n",
            "52/52 [==============================] - 8s 147ms/step - loss: 0.0419 - binary_accuracy: 0.9872 - val_loss: 0.0946 - val_binary_accuracy: 1.0000\n",
            "Epoch 5/20\n",
            "52/52 [==============================] - 8s 146ms/step - loss: 0.0070 - binary_accuracy: 1.0000 - val_loss: 1.2794 - val_binary_accuracy: 0.6667\n",
            "Epoch 6/20\n",
            "52/52 [==============================] - 8s 148ms/step - loss: 9.7464e-04 - binary_accuracy: 1.0000 - val_loss: 1.2647 - val_binary_accuracy: 0.6667\n",
            "Epoch 7/20\n",
            "52/52 [==============================] - 8s 146ms/step - loss: 5.6750e-04 - binary_accuracy: 1.0000 - val_loss: 1.3180 - val_binary_accuracy: 0.6667\n",
            "CPU times: user 1min 17s, sys: 2.08 s, total: 1min 20s\n",
            "Wall time: 1min 26s\n"
          ]
        }
      ]
    },
    {
      "cell_type": "code",
      "source": [
        "test_loss, test_acc = sent_model_3.evaluate(sval_ds)\n",
        "\n",
        "print('Test Loss: {}'.format(test_loss))\n",
        "print('Test Accuracy: {}'.format(test_acc))"
      ],
      "metadata": {
        "colab": {
          "base_uri": "https://localhost:8080/"
        },
        "id": "YKGCosxUuAPW",
        "outputId": "aaec45a6-4918-4b31-a29f-53965a9c5b5f"
      },
      "execution_count": 146,
      "outputs": [
        {
          "output_type": "stream",
          "name": "stdout",
          "text": [
            "6/6 [==============================] - 5s 868ms/step - loss: 2.3901 - binary_accuracy: 0.5556\n",
            "Test Loss: 2.3900980949401855\n",
            "Test Accuracy: 0.5555555820465088\n"
          ]
        }
      ]
    },
    {
      "cell_type": "code",
      "source": [
        "spreds3 = sent_model_3.predict(stest_ds)\n",
        "sy_pred3 = (spreds3 > 0.5).astype(\"int32\")\n",
        "sy3 = np.concatenate([y for x, y in stest_ds], axis=0)"
      ],
      "metadata": {
        "id": "vdYoH4gduC3Y"
      },
      "execution_count": 147,
      "outputs": []
    },
    {
      "cell_type": "code",
      "source": [
        "plot_confusion_matrix_labeled(sy3, sy_pred3, CLASSES_LIST=CLASS_LIST)"
      ],
      "metadata": {
        "colab": {
          "base_uri": "https://localhost:8080/",
          "height": 606
        },
        "id": "qEAPTgpMuLBS",
        "outputId": "cdb94779-7b38-451b-ce22-74d8ea32ead4"
      },
      "execution_count": 148,
      "outputs": [
        {
          "output_type": "display_data",
          "data": {
            "text/plain": [
              "<Figure size 720x720 with 1 Axes>"
            ],
            "image/png": "[encoded data removed]"
          },
          "metadata": {
            "needs_background": "light"
          }
        }
      ]
    }
  ]
}