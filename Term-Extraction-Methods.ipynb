{
 "cells": [
  {
   "cell_type": "markdown",
   "id": "54969e19",
   "metadata": {},
   "source": [
    "### Loading Libraries and Ingesting Data"
   ]
  },
  {
   "cell_type": "code",
   "execution_count": 13,
   "id": "b667aa69",
   "metadata": {},
   "outputs": [],
   "source": [
    "#!pip install --upgrade pip"
   ]
  },
  {
   "cell_type": "code",
   "execution_count": 12,
   "id": "ef3b7eba",
   "metadata": {},
   "outputs": [],
   "source": [
    "#!pip install phrasemachine\n",
    "#!pip install nltk\n",
    "#!pip install rake_nltk"
   ]
  },
  {
   "cell_type": "code",
   "execution_count": 81,
   "id": "d62c9adb",
   "metadata": {},
   "outputs": [],
   "source": [
    "# NLP Packages\n",
    "\n",
    "import pandas as pd\n",
    "import numpy as np\n",
    "from collections import Counter\n",
    "import phrasemachine\n",
    "import nltk\n",
    "from rake_nltk import Rake\n",
    "import re\n",
    "from nltk.tokenize import word_tokenize \n",
    "from nltk.corpus import stopwords\n",
    "from nltk.stem.porter import PorterStemmer\n",
    "from nltk.tokenize import RegexpTokenizer\n",
    "from nltk.stem.wordnet import WordNetLemmatizer\n",
    "from nltk import ngrams, FreqDist"
   ]
  },
  {
   "cell_type": "code",
   "execution_count": 15,
   "id": "395083c5",
   "metadata": {},
   "outputs": [
    {
     "name": "stderr",
     "output_type": "stream",
     "text": [
      "[nltk_data] Downloading package stopwords to\n",
      "[nltk_data]     /Users/erinmcmahon/nltk_data...\n",
      "[nltk_data]   Unzipping corpora/stopwords.zip.\n",
      "[nltk_data] Downloading package wordnet to\n",
      "[nltk_data]     /Users/erinmcmahon/nltk_data...\n",
      "[nltk_data]   Unzipping corpora/wordnet.zip.\n"
     ]
    },
    {
     "data": {
      "text/plain": [
       "True"
      ]
     },
     "execution_count": 15,
     "metadata": {},
     "output_type": "execute_result"
    }
   ],
   "source": [
    "# only need to run once\n",
    "#nltk.download('stopwords')\n",
    "#nltk.download('wordnet')"
   ]
  },
  {
   "cell_type": "code",
   "execution_count": 46,
   "id": "8349b619",
   "metadata": {},
   "outputs": [
    {
     "name": "stderr",
     "output_type": "stream",
     "text": [
      "[nltk_data] Downloading package punkt to\n",
      "[nltk_data]     /Users/erinmcmahon/nltk_data...\n",
      "[nltk_data]   Unzipping tokenizers/punkt.zip.\n"
     ]
    },
    {
     "data": {
      "text/plain": [
       "True"
      ]
     },
     "execution_count": 46,
     "metadata": {},
     "output_type": "execute_result"
    }
   ],
   "source": [
    "#nltk.download('punkt')"
   ]
  },
  {
   "cell_type": "markdown",
   "id": "9a11f30f",
   "metadata": {},
   "source": [
    "#### Adding Pre-processing functions"
   ]
  },
  {
   "cell_type": "code",
   "execution_count": 24,
   "id": "a1a56d3e",
   "metadata": {},
   "outputs": [],
   "source": [
    "# Create a list of stop words from nltk\n",
    "stop_words = set(stopwords.words(\"english\"))"
   ]
  },
  {
   "cell_type": "code",
   "execution_count": 16,
   "id": "49eb569a",
   "metadata": {},
   "outputs": [],
   "source": [
    "# Pre-process dataset to remove punctuation\n",
    "def remove_punctuation(in_text):\n",
    "    text = re.sub('[^a-zA-Z]', ' ', str(in_text))\n",
    "    return text"
   ]
  },
  {
   "cell_type": "code",
   "execution_count": 17,
   "id": "916514b1",
   "metadata": {},
   "outputs": [],
   "source": [
    "# Pre-process dataset to lower case it\n",
    "def lower_case(in_text):\n",
    "    text = in_text.lower()    \n",
    "    return text"
   ]
  },
  {
   "cell_type": "code",
   "execution_count": 18,
   "id": "ada6b516",
   "metadata": {},
   "outputs": [],
   "source": [
    "# Pre-process dataset to remove tags\n",
    "def remove_tags(in_text):    \n",
    "    text=re.sub(\"&lt;/?.*?&gt;\",\" &lt;&gt; \",in_text)\n",
    "    return text"
   ]
  },
  {
   "cell_type": "code",
   "execution_count": 19,
   "id": "42cad8d1",
   "metadata": {},
   "outputs": [],
   "source": [
    "# Pre-process dataset to remove special characters and digits\n",
    "def remove_special_chars_and_digits(in_text):\n",
    "    text = re.sub(\"(\\\\d|\\\\W)+\", \" \", in_text)\n",
    "    return text"
   ]
  },
  {
   "cell_type": "code",
   "execution_count": 20,
   "id": "9ad85d92",
   "metadata": {},
   "outputs": [],
   "source": [
    "# Pre-process dataset to appy Stemming\n",
    "def apply_stemming(in_text):\n",
    "    stemmer=PorterStemmer()\n",
    "    word_list = nltk.word_tokenize(in_text)\n",
    "    output = ' '.join([stemmer.stem(w) for w in word_list])\n",
    "    return output"
   ]
  },
  {
   "cell_type": "code",
   "execution_count": 21,
   "id": "56d45f2b",
   "metadata": {},
   "outputs": [],
   "source": [
    "# Pre-process dataset to apply Lemmatization\n",
    "def apply_lemmatization(in_text):\n",
    "    # Lemmatization\n",
    "    lem = WordNetLemmatizer()\n",
    "    word_list = nltk.word_tokenize(in_text)\n",
    "    output = ' '.join([lem.lemmatize(w) for w in word_list])\n",
    "    return output"
   ]
  },
  {
   "cell_type": "code",
   "execution_count": 22,
   "id": "5d8f629f",
   "metadata": {},
   "outputs": [],
   "source": [
    "# Remove stop words\n",
    "def remove_stop_words(in_text):\n",
    "    stop_words = set(stopwords.words('english')) \n",
    "    word_tokens = word_tokenize(in_text)  \n",
    "    filtered_sentence = [w for w in word_tokens if not w in stop_words] \n",
    "    filtered_sentence = [] \n",
    "    for w in word_tokens: \n",
    "        if w not in stop_words: \n",
    "            filtered_sentence.append(w)\n",
    "    return filtered_sentence"
   ]
  },
  {
   "cell_type": "code",
   "execution_count": 23,
   "id": "7b9c4ecc",
   "metadata": {},
   "outputs": [],
   "source": [
    "# Run Phase Machine\n",
    "def run_phrase_machine(in_text):\n",
    "    phrases=phrasemachine.get_phrases(in_text)\n",
    "    return phrases"
   ]
  },
  {
   "cell_type": "code",
   "execution_count": 25,
   "id": "8189b837",
   "metadata": {},
   "outputs": [],
   "source": [
    "#Run Rake Keyword Extractor\n",
    "def run_rake(in_text):\n",
    "    r = Rake()\n",
    "    r.extract_keywords_from_text(in_text)\n",
    "    rake_phrases= r.get_ranked_phrases()\n",
    "    return rake_phrases"
   ]
  },
  {
   "cell_type": "markdown",
   "id": "255b34a2",
   "metadata": {},
   "source": [
    "Rapid Automatic Keyword Extraction algorithm that drives to determine key phrases in a body of text by analyzing word frequency and co-occurance with other words in the text."
   ]
  },
  {
   "cell_type": "code",
   "execution_count": 26,
   "id": "a4f78616",
   "metadata": {},
   "outputs": [],
   "source": [
    "# Run NLTK Tokenizer\n",
    "def run_nltk_tokenizer(in_text):\n",
    "    tokens=nltk.word_tokenize(in_text)\n",
    "    return tokens"
   ]
  },
  {
   "cell_type": "code",
   "execution_count": 27,
   "id": "496cc946",
   "metadata": {},
   "outputs": [],
   "source": [
    "# Run NLTK Sentence Tokenizer\n",
    "def run_nltk_sent_tokenizer(in_corpus):\n",
    "    sents = nltk.sent_tokenize(in_corpus)\n",
    "    return sents"
   ]
  },
  {
   "cell_type": "code",
   "execution_count": 28,
   "id": "643a2fa7",
   "metadata": {},
   "outputs": [],
   "source": [
    "#Run word-ngram Tokenizer\n",
    "def run_nltk_tokenizer_word_ngrams(in_text, ngram_size):\n",
    "    n_grams = ngrams(nltk.word_tokenize(in_text), ngram_size)\n",
    "    return [ ' '.join(grams) for grams in n_grams]"
   ]
  },
  {
   "cell_type": "code",
   "execution_count": 29,
   "id": "d8de68f2",
   "metadata": {},
   "outputs": [],
   "source": [
    "#Get Frequ Dist \n",
    "def get_freq_dist(terms):\n",
    "    all_counts = dict()\n",
    "    all_counts = FreqDist(terms)\n",
    "    return all_counts"
   ]
  },
  {
   "cell_type": "code",
   "execution_count": 32,
   "id": "e6243377",
   "metadata": {},
   "outputs": [],
   "source": [
    "text_df = pd.read_csv('https://raw.githubusercontent.com/erinmcmahon26/NLP-Chat-Bot/main/EMU_Movie_Reviews.csv')"
   ]
  },
  {
   "cell_type": "code",
   "execution_count": 33,
   "id": "5f4d883e",
   "metadata": {},
   "outputs": [
    {
     "data": {
      "text/plain": [
       "(10, 2)"
      ]
     },
     "execution_count": 33,
     "metadata": {},
     "output_type": "execute_result"
    }
   ],
   "source": [
    "text_df.shape"
   ]
  },
  {
   "cell_type": "code",
   "execution_count": 34,
   "id": "e7ce181f",
   "metadata": {},
   "outputs": [
    {
     "data": {
      "text/plain": [
       "<bound method DataFrame.info of                   FileName                                             Review\n",
       "0   EMU_Doc1_TheConjuring3  I must admit that when I sat down to watch the...\n",
       "1   EMU_Doc2_TheConjuring3  While The Conjuring franchise has stood as one...\n",
       "2   EMU_Doc3_TheConjuring3  We’re well into the world and the lore of the ...\n",
       "3   EMU_Doc4_TheConjuring3  James Wan's 2013 feature The Conjuring was som...\n",
       "4   EMU_Doc5_TheConjuring3  Two Conjuring films and several spinoffs estab...\n",
       "5   EMU_Doc6_TheConjuring3  Right from the first movie, James Wan had bigg...\n",
       "6   EMU_Doc7_TheConjuring3  Money is no issue for The Conjuring films. The...\n",
       "7   EMU_Doc8_TheConjuring3  When a film trots out the phrase “based on a t...\n",
       "8   EMU_Doc9_TheConjuring3  The so-called \"Conjuring universe\" is so succe...\n",
       "9  EMU_Doc10_TheConjuring3  I remember seeing James Wan’s The Conjuring fo...>"
      ]
     },
     "execution_count": 34,
     "metadata": {},
     "output_type": "execute_result"
    }
   ],
   "source": [
    "text_df.info"
   ]
  },
  {
   "cell_type": "code",
   "execution_count": 35,
   "id": "b71d40ed",
   "metadata": {},
   "outputs": [
    {
     "data": {
      "text/html": [
       "<div>\n",
       "<style scoped>\n",
       "    .dataframe tbody tr th:only-of-type {\n",
       "        vertical-align: middle;\n",
       "    }\n",
       "\n",
       "    .dataframe tbody tr th {\n",
       "        vertical-align: top;\n",
       "    }\n",
       "\n",
       "    .dataframe thead th {\n",
       "        text-align: right;\n",
       "    }\n",
       "</style>\n",
       "<table border=\"1\" class=\"dataframe\">\n",
       "  <thead>\n",
       "    <tr style=\"text-align: right;\">\n",
       "      <th></th>\n",
       "      <th>FileName</th>\n",
       "      <th>Review</th>\n",
       "    </tr>\n",
       "  </thead>\n",
       "  <tbody>\n",
       "    <tr>\n",
       "      <th>0</th>\n",
       "      <td>EMU_Doc1_TheConjuring3</td>\n",
       "      <td>I must admit that when I sat down to watch the...</td>\n",
       "    </tr>\n",
       "    <tr>\n",
       "      <th>1</th>\n",
       "      <td>EMU_Doc2_TheConjuring3</td>\n",
       "      <td>While The Conjuring franchise has stood as one...</td>\n",
       "    </tr>\n",
       "    <tr>\n",
       "      <th>2</th>\n",
       "      <td>EMU_Doc3_TheConjuring3</td>\n",
       "      <td>We’re well into the world and the lore of the ...</td>\n",
       "    </tr>\n",
       "    <tr>\n",
       "      <th>3</th>\n",
       "      <td>EMU_Doc4_TheConjuring3</td>\n",
       "      <td>James Wan's 2013 feature The Conjuring was som...</td>\n",
       "    </tr>\n",
       "    <tr>\n",
       "      <th>4</th>\n",
       "      <td>EMU_Doc5_TheConjuring3</td>\n",
       "      <td>Two Conjuring films and several spinoffs estab...</td>\n",
       "    </tr>\n",
       "  </tbody>\n",
       "</table>\n",
       "</div>"
      ],
      "text/plain": [
       "                 FileName                                             Review\n",
       "0  EMU_Doc1_TheConjuring3  I must admit that when I sat down to watch the...\n",
       "1  EMU_Doc2_TheConjuring3  While The Conjuring franchise has stood as one...\n",
       "2  EMU_Doc3_TheConjuring3  We’re well into the world and the lore of the ...\n",
       "3  EMU_Doc4_TheConjuring3  James Wan's 2013 feature The Conjuring was som...\n",
       "4  EMU_Doc5_TheConjuring3  Two Conjuring films and several spinoffs estab..."
      ]
     },
     "execution_count": 35,
     "metadata": {},
     "output_type": "execute_result"
    }
   ],
   "source": [
    "text_df.head()"
   ]
  },
  {
   "cell_type": "markdown",
   "id": "52c67cf8",
   "metadata": {},
   "source": [
    "### EDA "
   ]
  },
  {
   "cell_type": "code",
   "execution_count": 49,
   "id": "3190e2a5",
   "metadata": {},
   "outputs": [],
   "source": [
    "# Define a consolidated clean data function + tokenization\n",
    "\n",
    "def clean_text_tokenize(document):\n",
    "    remove_punc_text = remove_punctuation(document)\n",
    "    lower_text =lower_case(remove_punc_text)\n",
    "    remove_tag_text = remove_tags(lower_text)\n",
    "    remove_special_chars_text = remove_special_chars_and_digits(remove_tag_text)\n",
    "    stop_words = set(stopwords.words('english'))\n",
    "    word_tokens = run_nltk_tokenizer(remove_special_chars_text)\n",
    "    tokens = [w for w in word_tokens if not w in stop_words]\n",
    "    tokens = []\n",
    "    for w in word_tokens:\n",
    "        if w not in stop_words:\n",
    "            tokens.append(w)\n",
    "    return tokens"
   ]
  },
  {
   "cell_type": "markdown",
   "id": "548480f1",
   "metadata": {},
   "source": [
    "Below we are applying all preprocessing/data cleaning functions to the movie reviews and separating each review into its own document:"
   ]
  },
  {
   "cell_type": "code",
   "execution_count": 67,
   "id": "a04e344c",
   "metadata": {},
   "outputs": [],
   "source": [
    "text_df['tokens'] = text_df['Review'].apply(lambda x: clean_text_tokenize(x))"
   ]
  },
  {
   "cell_type": "code",
   "execution_count": 176,
   "id": "b2a0d895",
   "metadata": {},
   "outputs": [
    {
     "data": {
      "text/html": [
       "<div>\n",
       "<style scoped>\n",
       "    .dataframe tbody tr th:only-of-type {\n",
       "        vertical-align: middle;\n",
       "    }\n",
       "\n",
       "    .dataframe tbody tr th {\n",
       "        vertical-align: top;\n",
       "    }\n",
       "\n",
       "    .dataframe thead th {\n",
       "        text-align: right;\n",
       "    }\n",
       "</style>\n",
       "<table border=\"1\" class=\"dataframe\">\n",
       "  <thead>\n",
       "    <tr style=\"text-align: right;\">\n",
       "      <th></th>\n",
       "      <th>FileName</th>\n",
       "      <th>Review</th>\n",
       "      <th>tokens</th>\n",
       "    </tr>\n",
       "  </thead>\n",
       "  <tbody>\n",
       "    <tr>\n",
       "      <th>0</th>\n",
       "      <td>EMU_Doc1_TheConjuring3</td>\n",
       "      <td>I must admit that when I sat down to watch the...</td>\n",
       "      <td>[must, admit, sat, watch, addition, conjuring,...</td>\n",
       "    </tr>\n",
       "    <tr>\n",
       "      <th>1</th>\n",
       "      <td>EMU_Doc2_TheConjuring3</td>\n",
       "      <td>While The Conjuring franchise has stood as one...</td>\n",
       "      <td>[conjuring, franchise, stood, one, successful,...</td>\n",
       "    </tr>\n",
       "    <tr>\n",
       "      <th>2</th>\n",
       "      <td>EMU_Doc3_TheConjuring3</td>\n",
       "      <td>We’re well into the world and the lore of the ...</td>\n",
       "      <td>[well, world, lore, warrens, ed, lorraine, fic...</td>\n",
       "    </tr>\n",
       "    <tr>\n",
       "      <th>3</th>\n",
       "      <td>EMU_Doc4_TheConjuring3</td>\n",
       "      <td>James Wan's 2013 feature The Conjuring was som...</td>\n",
       "      <td>[james, wan, feature, conjuring, something, sp...</td>\n",
       "    </tr>\n",
       "    <tr>\n",
       "      <th>4</th>\n",
       "      <td>EMU_Doc5_TheConjuring3</td>\n",
       "      <td>Two Conjuring films and several spinoffs estab...</td>\n",
       "      <td>[two, conjuring, films, several, spinoffs, est...</td>\n",
       "    </tr>\n",
       "  </tbody>\n",
       "</table>\n",
       "</div>"
      ],
      "text/plain": [
       "                 FileName                                             Review  \\\n",
       "0  EMU_Doc1_TheConjuring3  I must admit that when I sat down to watch the...   \n",
       "1  EMU_Doc2_TheConjuring3  While The Conjuring franchise has stood as one...   \n",
       "2  EMU_Doc3_TheConjuring3  We’re well into the world and the lore of the ...   \n",
       "3  EMU_Doc4_TheConjuring3  James Wan's 2013 feature The Conjuring was som...   \n",
       "4  EMU_Doc5_TheConjuring3  Two Conjuring films and several spinoffs estab...   \n",
       "\n",
       "                                              tokens  \n",
       "0  [must, admit, sat, watch, addition, conjuring,...  \n",
       "1  [conjuring, franchise, stood, one, successful,...  \n",
       "2  [well, world, lore, warrens, ed, lorraine, fic...  \n",
       "3  [james, wan, feature, conjuring, something, sp...  \n",
       "4  [two, conjuring, films, several, spinoffs, est...  "
      ]
     },
     "execution_count": 176,
     "metadata": {},
     "output_type": "execute_result"
    }
   ],
   "source": [
    "text_df.head()"
   ]
  },
  {
   "cell_type": "code",
   "execution_count": 73,
   "id": "da36e7e7",
   "metadata": {},
   "outputs": [
    {
     "data": {
      "text/plain": [
       "0    [must, admit, sat, watch, addition, conjuring,...\n",
       "1    [conjuring, franchise, stood, one, successful,...\n",
       "2    [well, world, lore, warrens, ed, lorraine, fic...\n",
       "3    [james, wan, feature, conjuring, something, sp...\n",
       "4    [two, conjuring, films, several, spinoffs, est...\n",
       "Name: tokens, dtype: object"
      ]
     },
     "execution_count": 73,
     "metadata": {},
     "output_type": "execute_result"
    }
   ],
   "source": [
    "text_df['tokens'].head()"
   ]
  },
  {
   "cell_type": "code",
   "execution_count": 143,
   "id": "666b0b19",
   "metadata": {},
   "outputs": [
    {
     "data": {
      "text/plain": [
       "FileName                               EMU_Doc2_TheConjuring3\n",
       "Review      While The Conjuring franchise has stood as one...\n",
       "tokens      [conjuring, franchise, stood, one, successful,...\n",
       "Name: 1, dtype: object"
      ]
     },
     "execution_count": 143,
     "metadata": {},
     "output_type": "execute_result"
    }
   ],
   "source": [
    "text_df.iloc[1]"
   ]
  },
  {
   "cell_type": "code",
   "execution_count": 74,
   "id": "7c0ce921",
   "metadata": {},
   "outputs": [],
   "source": [
    "doc1 = text_df['tokens'].values[0]\n",
    "doc2 = text_df['tokens'].values[1]\n",
    "doc3 = text_df['tokens'].values[2]\n",
    "doc4 = text_df['tokens'].values[3]\n",
    "doc5 = text_df['tokens'].values[4]\n",
    "doc6 = text_df['tokens'].values[5]\n",
    "doc7 = text_df['tokens'].values[6]\n",
    "doc8 = text_df['tokens'].values[7]\n",
    "doc9 = text_df['tokens'].values[8]\n",
    "doc10 = text_df['tokens'].values[9]"
   ]
  },
  {
   "cell_type": "code",
   "execution_count": 76,
   "id": "be94da79",
   "metadata": {},
   "outputs": [
    {
     "name": "stdout",
     "output_type": "stream",
     "text": [
      "228\n",
      "<class 'list'>\n",
      "159\n"
     ]
    }
   ],
   "source": [
    "print(len(doc1))\n",
    "print(type(doc1))\n",
    "print(len(set(doc1)))"
   ]
  },
  {
   "cell_type": "code",
   "execution_count": 82,
   "id": "c42c45c2",
   "metadata": {},
   "outputs": [
    {
     "data": {
      "text/plain": [
       "[('movie', 12),\n",
       " ('conjuring', 11),\n",
       " ('devil', 10),\n",
       " ('made', 10),\n",
       " ('watch', 4),\n",
       " ('horror', 4),\n",
       " ('good', 4),\n",
       " ('franchise', 3),\n",
       " ('say', 3),\n",
       " ('experience', 3)]"
      ]
     },
     "execution_count": 82,
     "metadata": {},
     "output_type": "execute_result"
    }
   ],
   "source": [
    "Counter(doc1).most_common(10)"
   ]
  },
  {
   "cell_type": "code",
   "execution_count": 83,
   "id": "c0740c7b",
   "metadata": {},
   "outputs": [],
   "source": [
    "all_docs = doc1+doc2+doc3+doc4+doc5+doc6+doc7+doc8+doc9+doc10"
   ]
  },
  {
   "cell_type": "code",
   "execution_count": 85,
   "id": "225ea628",
   "metadata": {},
   "outputs": [
    {
     "data": {
      "text/plain": [
       "[('conjuring', 69),\n",
       " ('film', 57),\n",
       " ('made', 53),\n",
       " ('devil', 52),\n",
       " ('horror', 39),\n",
       " ('movie', 34),\n",
       " ('warrens', 31),\n",
       " ('series', 29),\n",
       " ('chaves', 28),\n",
       " ('franchise', 27)]"
      ]
     },
     "execution_count": 85,
     "metadata": {},
     "output_type": "execute_result"
    }
   ],
   "source": [
    "Counter(all_docs).most_common(10)"
   ]
  },
  {
   "cell_type": "code",
   "execution_count": 88,
   "id": "f8bd1563",
   "metadata": {},
   "outputs": [],
   "source": [
    "document1 = text_df.Review.values[0]\n",
    "document2 = text_df.Review.values[1]\n",
    "document3 = text_df.Review.values[2]\n",
    "document4 = text_df.Review.values[3]\n",
    "document5 = text_df.Review.values[4]\n",
    "document6 = text_df.Review.values[5]\n",
    "document7 = text_df.Review.values[6]\n",
    "document8 = text_df.Review.values[7]\n",
    "document9 = text_df.Review.values[8]\n",
    "document10 = text_df.Review.values[9]"
   ]
  },
  {
   "cell_type": "code",
   "execution_count": 90,
   "id": "e7167e64",
   "metadata": {},
   "outputs": [],
   "source": [
    "#Run this first to get sentences from text.\n",
    "sentences_1=run_nltk_sent_tokenizer(document1)\n",
    "sentences_2=run_nltk_sent_tokenizer(document2)\n",
    "sentences_3=run_nltk_sent_tokenizer(document3)\n",
    "sentences_4=run_nltk_sent_tokenizer(document4)\n",
    "sentences_5=run_nltk_sent_tokenizer(document5)\n",
    "sentences_6=run_nltk_sent_tokenizer(document6)\n",
    "sentences_7=run_nltk_sent_tokenizer(document7)\n",
    "sentences_8=run_nltk_sent_tokenizer(document8)\n",
    "sentences_9=run_nltk_sent_tokenizer(document9)\n",
    "sentences_10=run_nltk_sent_tokenizer(document10)"
   ]
  },
  {
   "cell_type": "code",
   "execution_count": 106,
   "id": "a06af260",
   "metadata": {},
   "outputs": [
    {
     "data": {
      "text/plain": [
       "FreqDist({'conjuring': 11, 'devil made': 10, 'movie': 8, 'watch': 4, 'franchise': 3, 'say': 3, 'movies': 3, 'sit': 2, 'course': 2, 'less': 2, ...})"
      ]
     },
     "execution_count": 106,
     "metadata": {},
     "output_type": "execute_result"
    }
   ],
   "source": [
    "terms_1 = []\n",
    "for sentence in sentences_1:\n",
    "    terms_1 = terms_1 + run_rake(sentence)\n",
    "\n",
    "fd_1 = get_freq_dist(terms_1)\n",
    "fd_1"
   ]
  },
  {
   "cell_type": "code",
   "execution_count": 94,
   "id": "744a437f",
   "metadata": {},
   "outputs": [
    {
     "data": {
      "text/plain": [
       "FreqDist({'film': 10, 'devil made': 6, 'conjuring': 6, 'franchise': 4, 'one': 3, 'focus': 3, 'sense': 3, 'feature': 3, 'conjuring franchise': 2, 'enough': 2, ...})"
      ]
     },
     "execution_count": 94,
     "metadata": {},
     "output_type": "execute_result"
    }
   ],
   "source": [
    "terms_2 = []\n",
    "for sentence in sentences_2:\n",
    "    terms_2 = terms_2 + run_rake(sentence)\n",
    "\n",
    "fd_2 = get_freq_dist(terms_2)\n",
    "fd_2"
   ]
  },
  {
   "cell_type": "code",
   "execution_count": 95,
   "id": "cfb11380",
   "metadata": {},
   "outputs": [
    {
     "data": {
      "text/plain": [
       "FreqDist({'’': 9, 'love': 3, 'devil made': 3, 'warren ’': 3, 'wan': 3, 'franchise': 3, 'well': 2, 'real': 2, 'arne johnson': 2, 'conjuring': 2, ...})"
      ]
     },
     "execution_count": 95,
     "metadata": {},
     "output_type": "execute_result"
    }
   ],
   "source": [
    "terms_3 = []\n",
    "for sentence in sentences_3:\n",
    "    terms_3 = terms_3 + run_rake(sentence)\n",
    "\n",
    "fd_3 = get_freq_dist(terms_3)\n",
    "fd_3"
   ]
  },
  {
   "cell_type": "code",
   "execution_count": 96,
   "id": "be6243bd",
   "metadata": {},
   "outputs": [
    {
     "data": {
      "text/plain": [
       "FreqDist({'well': 5, 'conjuring': 4, 'warrens': 4, 'ed': 3, 'devil made': 3, 'lorraine': 3, 'bring': 3, 'see': 3, 'one': 3, 'real': 2, ...})"
      ]
     },
     "execution_count": 96,
     "metadata": {},
     "output_type": "execute_result"
    }
   ],
   "source": [
    "terms_4 = []\n",
    "for sentence in sentences_4:\n",
    "    terms_4 = terms_4 + run_rake(sentence)\n",
    "\n",
    "fd_4 = get_freq_dist(terms_4)\n",
    "fd_4"
   ]
  },
  {
   "cell_type": "code",
   "execution_count": 97,
   "id": "b93cc460",
   "metadata": {},
   "outputs": [
    {
     "data": {
      "text/plain": [
       "FreqDist({'’': 4, 'devil made': 3, 'series': 3, 'lorraine': 3, 'wan': 3, 'ed': 2, 'much': 2, 'two conjuring films': 1, 'several spinoffs established': 1, 'substantial following': 1, ...})"
      ]
     },
     "execution_count": 97,
     "metadata": {},
     "output_type": "execute_result"
    }
   ],
   "source": [
    "terms_5 = []\n",
    "for sentence in sentences_5:\n",
    "    terms_5 = terms_5 + run_rake(sentence)\n",
    "\n",
    "fd_5 = get_freq_dist(terms_5)\n",
    "fd_5"
   ]
  },
  {
   "cell_type": "code",
   "execution_count": 98,
   "id": "c9b54fa2",
   "metadata": {},
   "outputs": [
    {
     "data": {
      "text/plain": [
       "FreqDist({'series': 5, 'devil made': 5, 'conjuring': 5, 'lorraine warren': 3, 'real': 3, 'warrens': 3, 'david glatzel': 3, 'johnson': 3, 'movie': 3, 'right': 2, ...})"
      ]
     },
     "execution_count": 98,
     "metadata": {},
     "output_type": "execute_result"
    }
   ],
   "source": [
    "terms_6 = []\n",
    "for sentence in sentences_6:\n",
    "    terms_6 = terms_6 + run_rake(sentence)\n",
    "\n",
    "fd_6 = get_freq_dist(terms_6)\n",
    "fd_6"
   ]
  },
  {
   "cell_type": "code",
   "execution_count": 99,
   "id": "7684479d",
   "metadata": {},
   "outputs": [
    {
     "data": {
      "text/plain": [
       "FreqDist({'’': 11, 'devil made': 7, 'arne ’': 3, 'issue': 2, 'series': 2, 'one': 2, 'chaves': 2, 'innocence': 2, 'buy': 2, 'conjuring films': 1, ...})"
      ]
     },
     "execution_count": 99,
     "metadata": {},
     "output_type": "execute_result"
    }
   ],
   "source": [
    "terms_7 = []\n",
    "for sentence in sentences_7:\n",
    "    terms_7 = terms_7 + run_rake(sentence)\n",
    "\n",
    "fd_7 = get_freq_dist(terms_7)\n",
    "fd_7"
   ]
  },
  {
   "cell_type": "code",
   "execution_count": 100,
   "id": "ec2a2891",
   "metadata": {},
   "outputs": [
    {
     "data": {
      "text/plain": [
       "FreqDist({'’': 20, 'well': 6, '“': 4, 'film': 4, 'devil made': 3, 'conjuring': 3, 'though': 3, 'warrens': 3, 'work': 3, 'couple': 2, ...})"
      ]
     },
     "execution_count": 100,
     "metadata": {},
     "output_type": "execute_result"
    }
   ],
   "source": [
    "terms_8 = []\n",
    "for sentence in sentences_8:\n",
    "    terms_8 = terms_8 + run_rake(sentence)\n",
    "\n",
    "fd_8 = get_freq_dist(terms_8)\n",
    "fd_8"
   ]
  },
  {
   "cell_type": "code",
   "execution_count": 101,
   "id": "b636785b",
   "metadata": {},
   "outputs": [
    {
     "data": {
      "text/plain": [
       "FreqDist({'’': 8, 'series': 2, 'see': 2, 'lorraine ’': 2, 'ed': 2, 'role': 2, 'even': 2, 'conjuring universe': 1, 'successful': 1, 'scary': 1, ...})"
      ]
     },
     "execution_count": 101,
     "metadata": {},
     "output_type": "execute_result"
    }
   ],
   "source": [
    "terms_9 = []\n",
    "for sentence in sentences_9:\n",
    "    terms_9 = terms_9 + run_rake(sentence)\n",
    "\n",
    "fd_9 = get_freq_dist(terms_9)\n",
    "fd_9"
   ]
  },
  {
   "cell_type": "code",
   "execution_count": 102,
   "id": "9bb58f53",
   "metadata": {},
   "outputs": [
    {
     "data": {
      "text/plain": [
       "FreqDist({'’': 24, 'devil made': 8, 'jump scares': 5, 'film': 5, 'conjuring': 4, 'audience': 4, 'story': 4, 'way': 3, 'la llorona': 3, 'ever': 3, ...})"
      ]
     },
     "execution_count": 102,
     "metadata": {},
     "output_type": "execute_result"
    }
   ],
   "source": [
    "terms_10 = []\n",
    "for sentence in sentences_10:\n",
    "    terms_10 = terms_10 + run_rake(sentence)\n",
    "\n",
    "fd_10 = get_freq_dist(terms_10)\n",
    "fd_10"
   ]
  },
  {
   "cell_type": "code",
   "execution_count": 117,
   "id": "a3a07362",
   "metadata": {},
   "outputs": [],
   "source": [
    "fd_1_list = list(fd_1.most_common(10))\n",
    "fd_2_list = list(fd_2.most_common(10))"
   ]
  },
  {
   "cell_type": "code",
   "execution_count": 120,
   "id": "2e8f17eb",
   "metadata": {},
   "outputs": [
    {
     "data": {
      "text/html": [
       "<div>\n",
       "<style scoped>\n",
       "    .dataframe tbody tr th:only-of-type {\n",
       "        vertical-align: middle;\n",
       "    }\n",
       "\n",
       "    .dataframe tbody tr th {\n",
       "        vertical-align: top;\n",
       "    }\n",
       "\n",
       "    .dataframe thead th {\n",
       "        text-align: right;\n",
       "    }\n",
       "</style>\n",
       "<table border=\"1\" class=\"dataframe\">\n",
       "  <thead>\n",
       "    <tr style=\"text-align: right;\">\n",
       "      <th></th>\n",
       "      <th>FDDoc1</th>\n",
       "      <th>FDDoc1_Counts</th>\n",
       "    </tr>\n",
       "  </thead>\n",
       "  <tbody>\n",
       "    <tr>\n",
       "      <th>0</th>\n",
       "      <td>conjuring</td>\n",
       "      <td>11</td>\n",
       "    </tr>\n",
       "    <tr>\n",
       "      <th>1</th>\n",
       "      <td>devil made</td>\n",
       "      <td>10</td>\n",
       "    </tr>\n",
       "    <tr>\n",
       "      <th>2</th>\n",
       "      <td>movie</td>\n",
       "      <td>8</td>\n",
       "    </tr>\n",
       "    <tr>\n",
       "      <th>3</th>\n",
       "      <td>watch</td>\n",
       "      <td>4</td>\n",
       "    </tr>\n",
       "    <tr>\n",
       "      <th>4</th>\n",
       "      <td>franchise</td>\n",
       "      <td>3</td>\n",
       "    </tr>\n",
       "    <tr>\n",
       "      <th>5</th>\n",
       "      <td>say</td>\n",
       "      <td>3</td>\n",
       "    </tr>\n",
       "    <tr>\n",
       "      <th>6</th>\n",
       "      <td>movies</td>\n",
       "      <td>3</td>\n",
       "    </tr>\n",
       "    <tr>\n",
       "      <th>7</th>\n",
       "      <td>sit</td>\n",
       "      <td>2</td>\n",
       "    </tr>\n",
       "    <tr>\n",
       "      <th>8</th>\n",
       "      <td>course</td>\n",
       "      <td>2</td>\n",
       "    </tr>\n",
       "    <tr>\n",
       "      <th>9</th>\n",
       "      <td>less</td>\n",
       "      <td>2</td>\n",
       "    </tr>\n",
       "  </tbody>\n",
       "</table>\n",
       "</div>"
      ],
      "text/plain": [
       "       FDDoc1  FDDoc1_Counts\n",
       "0   conjuring             11\n",
       "1  devil made             10\n",
       "2       movie              8\n",
       "3       watch              4\n",
       "4   franchise              3\n",
       "5         say              3\n",
       "6      movies              3\n",
       "7         sit              2\n",
       "8      course              2\n",
       "9        less              2"
      ]
     },
     "execution_count": 120,
     "metadata": {},
     "output_type": "execute_result"
    }
   ],
   "source": [
    "fd_1_df = pd.DataFrame(fd_1_list, columns = ['FDDoc1', 'FDDoc1_Counts'])\n",
    "fd_1_df"
   ]
  },
  {
   "cell_type": "code",
   "execution_count": 121,
   "id": "3329fda9",
   "metadata": {},
   "outputs": [
    {
     "data": {
      "text/html": [
       "<div>\n",
       "<style scoped>\n",
       "    .dataframe tbody tr th:only-of-type {\n",
       "        vertical-align: middle;\n",
       "    }\n",
       "\n",
       "    .dataframe tbody tr th {\n",
       "        vertical-align: top;\n",
       "    }\n",
       "\n",
       "    .dataframe thead th {\n",
       "        text-align: right;\n",
       "    }\n",
       "</style>\n",
       "<table border=\"1\" class=\"dataframe\">\n",
       "  <thead>\n",
       "    <tr style=\"text-align: right;\">\n",
       "      <th></th>\n",
       "      <th>FDDoc2</th>\n",
       "      <th>FDDoc2_Counts</th>\n",
       "    </tr>\n",
       "  </thead>\n",
       "  <tbody>\n",
       "    <tr>\n",
       "      <th>0</th>\n",
       "      <td>film</td>\n",
       "      <td>10</td>\n",
       "    </tr>\n",
       "    <tr>\n",
       "      <th>1</th>\n",
       "      <td>devil made</td>\n",
       "      <td>6</td>\n",
       "    </tr>\n",
       "    <tr>\n",
       "      <th>2</th>\n",
       "      <td>conjuring</td>\n",
       "      <td>6</td>\n",
       "    </tr>\n",
       "    <tr>\n",
       "      <th>3</th>\n",
       "      <td>franchise</td>\n",
       "      <td>4</td>\n",
       "    </tr>\n",
       "    <tr>\n",
       "      <th>4</th>\n",
       "      <td>one</td>\n",
       "      <td>3</td>\n",
       "    </tr>\n",
       "    <tr>\n",
       "      <th>5</th>\n",
       "      <td>focus</td>\n",
       "      <td>3</td>\n",
       "    </tr>\n",
       "    <tr>\n",
       "      <th>6</th>\n",
       "      <td>sense</td>\n",
       "      <td>3</td>\n",
       "    </tr>\n",
       "    <tr>\n",
       "      <th>7</th>\n",
       "      <td>feature</td>\n",
       "      <td>3</td>\n",
       "    </tr>\n",
       "    <tr>\n",
       "      <th>8</th>\n",
       "      <td>conjuring franchise</td>\n",
       "      <td>2</td>\n",
       "    </tr>\n",
       "    <tr>\n",
       "      <th>9</th>\n",
       "      <td>enough</td>\n",
       "      <td>2</td>\n",
       "    </tr>\n",
       "  </tbody>\n",
       "</table>\n",
       "</div>"
      ],
      "text/plain": [
       "                FDDoc2  FDDoc2_Counts\n",
       "0                 film             10\n",
       "1           devil made              6\n",
       "2            conjuring              6\n",
       "3            franchise              4\n",
       "4                  one              3\n",
       "5                focus              3\n",
       "6                sense              3\n",
       "7              feature              3\n",
       "8  conjuring franchise              2\n",
       "9               enough              2"
      ]
     },
     "execution_count": 121,
     "metadata": {},
     "output_type": "execute_result"
    }
   ],
   "source": [
    "fd_2_df = pd.DataFrame(fd_2_list, columns = ['FDDoc2', 'FDDoc2_Counts'])\n",
    "fd_2_df"
   ]
  },
  {
   "cell_type": "code",
   "execution_count": 122,
   "id": "c9020d89",
   "metadata": {},
   "outputs": [],
   "source": [
    "#Run this first to get sentences from text.\n",
    "sentences=run_nltk_sent_tokenizer(document1)"
   ]
  },
  {
   "cell_type": "code",
   "execution_count": 124,
   "id": "a664b0e1",
   "metadata": {},
   "outputs": [
    {
     "name": "stderr",
     "output_type": "stream",
     "text": [
      "[nltk_data] Downloading package omw-1.4 to\n",
      "[nltk_data]     /Users/erinmcmahon/nltk_data...\n",
      "[nltk_data]   Unzipping corpora/omw-1.4.zip.\n"
     ]
    },
    {
     "data": {
      "text/plain": [
       "True"
      ]
     },
     "execution_count": 124,
     "metadata": {},
     "output_type": "execute_result"
    }
   ],
   "source": [
    "#nltk.download('omw-1.4')"
   ]
  },
  {
   "cell_type": "code",
   "execution_count": 125,
   "id": "475ae080",
   "metadata": {},
   "outputs": [
    {
     "name": "stdout",
     "output_type": "stream",
     "text": [
      "I must admit that when I sat down to watch the 2021 addition to \"The Conjuring\" franchise, I was not harboring much of any overly great expectations or hopes, because since the first movie it has been a steady downward slope.\n",
      "===================NLTK Tokenizer===================\n",
      "['I', 'must', 'admit', 'that', 'when', 'I', 'sat', 'down', 'to', 'watch', 'the', '2021', 'addition', 'to', '``', 'The', 'Conjuring', \"''\", 'franchise', ',', 'I', 'was', 'not', 'harboring', 'much', 'of', 'any', 'overly', 'great', 'expectations', 'or', 'hopes', ',', 'because', 'since', 'the', 'first', 'movie', 'it', 'has', 'been', 'a', 'steady', 'downward', 'slope', '.']\n",
      "===================NLTK Word NGRAM Tokenizer 2 words===================\n",
      "['I must', 'must admit', 'admit that', 'that when', 'when I', 'I sat', 'sat down', 'down to', 'to watch', 'watch the', 'the 2021', '2021 addition', 'addition to', 'to ``', '`` The', 'The Conjuring', \"Conjuring ''\", \"'' franchise\", 'franchise ,', ', I', 'I was', 'was not', 'not harboring', 'harboring much', 'much of', 'of any', 'any overly', 'overly great', 'great expectations', 'expectations or', 'or hopes', 'hopes ,', ', because', 'because since', 'since the', 'the first', 'first movie', 'movie it', 'it has', 'has been', 'been a', 'a steady', 'steady downward', 'downward slope', 'slope .']\n",
      "===================NLTK Word NGRAM Tokenizer 3 words===================\n",
      "['I must admit', 'must admit that', 'admit that when', 'that when I', 'when I sat', 'I sat down', 'sat down to', 'down to watch', 'to watch the', 'watch the 2021', 'the 2021 addition', '2021 addition to', 'addition to ``', 'to `` The', '`` The Conjuring', \"The Conjuring ''\", \"Conjuring '' franchise\", \"'' franchise ,\", 'franchise , I', ', I was', 'I was not', 'was not harboring', 'not harboring much', 'harboring much of', 'much of any', 'of any overly', 'any overly great', 'overly great expectations', 'great expectations or', 'expectations or hopes', 'or hopes ,', 'hopes , because', ', because since', 'because since the', 'since the first', 'the first movie', 'first movie it', 'movie it has', 'it has been', 'has been a', 'been a steady', 'a steady downward', 'steady downward slope', 'downward slope .']\n",
      "===================Phrase Machine===================\n",
      "===================Rake===================\n",
      "['steady downward slope', 'overly great expectations', 'must admit', 'harboring much', 'first movie', '2021 addition', 'watch', 'since', 'sat', 'hopes', 'franchise', 'conjuring']\n",
      "===================NLTK Tokenizer===================\n",
      "['I', 'must', 'admit', 'that', 'when', 'I', 'sat', 'down', 'to', 'watch', 'the', '2021', 'addition', 'to', '``', 'The', 'Conjuring', \"''\", 'franchise', ',', 'I', 'was', 'not', 'harboring', 'much', 'of', 'any', 'overly', 'great', 'expectations', 'or', 'hopes', ',', 'because', 'since', 'the', 'first', 'movie', 'it', 'has', 'been', 'a', 'steady', 'downward', 'slope', '.']\n",
      "===================NLTK Tokenizer LOWER CASE===================\n",
      "['i', 'must', 'admit', 'that', 'when', 'i', 'sat', 'down', 'to', 'watch', 'the', '2021', 'addition', 'to', '``', 'the', 'conjuring', \"''\", 'franchise', ',', 'i', 'was', 'not', 'harboring', 'much', 'of', 'any', 'overly', 'great', 'expectations', 'or', 'hopes', ',', 'because', 'since', 'the', 'first', 'movie', 'it', 'has', 'been', 'a', 'steady', 'downward', 'slope', '.']\n",
      "===================NLTK Tokenizer REMOVE STOP WORDS===================\n",
      "['I', 'must', 'admit', 'I', 'sat', 'watch', '2021', 'addition', '``', 'The', 'Conjuring', \"''\", 'franchise', ',', 'I', 'harboring', 'much', 'overly', 'great', 'expectations', 'hopes', ',', 'since', 'first', 'movie', 'steady', 'downward', 'slope', '.']\n",
      "===================NLTK Tokenizer REMOVED PUNCTUATION===================\n",
      "['I', 'must', 'admit', 'that', 'when', 'I', 'sat', 'down', 'to', 'watch', 'the', 'addition', 'to', 'The', 'Conjuring', 'franchise', 'I', 'was', 'not', 'harboring', 'much', 'of', 'any', 'overly', 'great', 'expectations', 'or', 'hopes', 'because', 'since', 'the', 'first', 'movie', 'it', 'has', 'been', 'a', 'steady', 'downward', 'slope']\n",
      "===================NLTK Tokenizer REMOVED TAGS===================\n",
      "['I', 'must', 'admit', 'that', 'when', 'I', 'sat', 'down', 'to', 'watch', 'the', '2021', 'addition', 'to', '``', 'The', 'Conjuring', \"''\", 'franchise', ',', 'I', 'was', 'not', 'harboring', 'much', 'of', 'any', 'overly', 'great', 'expectations', 'or', 'hopes', ',', 'because', 'since', 'the', 'first', 'movie', 'it', 'has', 'been', 'a', 'steady', 'downward', 'slope', '.']\n",
      "===================NLTK Tokenizer REMOVED CHARS AND DIGITS===================\n",
      "['I', 'must', 'admit', 'that', 'when', 'I', 'sat', 'down', 'to', 'watch', 'the', 'addition', 'to', 'The', 'Conjuring', 'franchise', 'I', 'was', 'not', 'harboring', 'much', 'of', 'any', 'overly', 'great', 'expectations', 'or', 'hopes', 'because', 'since', 'the', 'first', 'movie', 'it', 'has', 'been', 'a', 'steady', 'downward', 'slope']\n",
      "===================NLTK Tokenizer STEMMING APPLIED===================\n",
      "['i', 'must', 'admit', 'that', 'when', 'i', 'sat', 'down', 'to', 'watch', 'the', '2021', 'addit', 'to', '``', 'the', 'conjur', '``', 'franchis', ',', 'i', 'wa', 'not', 'harbor', 'much', 'of', 'ani', 'overli', 'great', 'expect', 'or', 'hope', ',', 'becaus', 'sinc', 'the', 'first', 'movi', 'it', 'ha', 'been', 'a', 'steadi', 'downward', 'slope', '.']\n",
      "===================NLTK Tokenizer LEMMATIZATION APPLIED===================\n",
      "['I', 'must', 'admit', 'that', 'when', 'I', 'sat', 'down', 'to', 'watch', 'the', '2021', 'addition', 'to', '``', 'The', 'Conjuring', '``', 'franchise', ',', 'I', 'wa', 'not', 'harboring', 'much', 'of', 'any', 'overly', 'great', 'expectation', 'or', 'hope', ',', 'because', 'since', 'the', 'first', 'movie', 'it', 'ha', 'been', 'a', 'steady', 'downward', 'slope', '.']\n",
      "Still, as I had the chance to sit down and watch \"The Conjuring: The Devil Made Me Do It\" from writers David Leslie Johnson-McGoldrick and James Wan.\n",
      "===================NLTK Tokenizer===================\n",
      "['Still', ',', 'as', 'I', 'had', 'the', 'chance', 'to', 'sit', 'down', 'and', 'watch', '``', 'The', 'Conjuring', ':', 'The', 'Devil', 'Made', 'Me', 'Do', 'It', \"''\", 'from', 'writers', 'David', 'Leslie', 'Johnson-McGoldrick', 'and', 'James', 'Wan', '.']\n",
      "===================NLTK Word NGRAM Tokenizer 2 words===================\n",
      "['Still ,', ', as', 'as I', 'I had', 'had the', 'the chance', 'chance to', 'to sit', 'sit down', 'down and', 'and watch', 'watch ``', '`` The', 'The Conjuring', 'Conjuring :', ': The', 'The Devil', 'Devil Made', 'Made Me', 'Me Do', 'Do It', \"It ''\", \"'' from\", 'from writers', 'writers David', 'David Leslie', 'Leslie Johnson-McGoldrick', 'Johnson-McGoldrick and', 'and James', 'James Wan', 'Wan .']\n",
      "===================NLTK Word NGRAM Tokenizer 3 words===================\n",
      "['Still , as', ', as I', 'as I had', 'I had the', 'had the chance', 'the chance to', 'chance to sit', 'to sit down', 'sit down and', 'down and watch', 'and watch ``', 'watch `` The', '`` The Conjuring', 'The Conjuring :', 'Conjuring : The', ': The Devil', 'The Devil Made', 'Devil Made Me', 'Made Me Do', 'Me Do It', \"Do It ''\", \"It '' from\", \"'' from writers\", 'from writers David', 'writers David Leslie', 'David Leslie Johnson-McGoldrick', 'Leslie Johnson-McGoldrick and', 'Johnson-McGoldrick and James', 'and James Wan', 'James Wan .']\n",
      "===================Phrase Machine===================\n",
      "===================Rake===================\n",
      "['writers david leslie johnson', 'james wan', 'devil made', 'watch', 'still', 'sit', 'mcgoldrick', 'conjuring', 'chance']\n",
      "===================NLTK Tokenizer===================\n",
      "['Still', ',', 'as', 'I', 'had', 'the', 'chance', 'to', 'sit', 'down', 'and', 'watch', '``', 'The', 'Conjuring', ':', 'The', 'Devil', 'Made', 'Me', 'Do', 'It', \"''\", 'from', 'writers', 'David', 'Leslie', 'Johnson-McGoldrick', 'and', 'James', 'Wan', '.']\n",
      "===================NLTK Tokenizer LOWER CASE===================\n",
      "['still', ',', 'as', 'i', 'had', 'the', 'chance', 'to', 'sit', 'down', 'and', 'watch', '``', 'the', 'conjuring', ':', 'the', 'devil', 'made', 'me', 'do', 'it', \"''\", 'from', 'writers', 'david', 'leslie', 'johnson-mcgoldrick', 'and', 'james', 'wan', '.']\n",
      "===================NLTK Tokenizer REMOVE STOP WORDS===================\n",
      "['Still', ',', 'I', 'chance', 'sit', 'watch', '``', 'The', 'Conjuring', ':', 'The', 'Devil', 'Made', 'Me', 'Do', 'It', \"''\", 'writers', 'David', 'Leslie', 'Johnson-McGoldrick', 'James', 'Wan', '.']\n",
      "===================NLTK Tokenizer REMOVED PUNCTUATION===================\n",
      "['Still', 'as', 'I', 'had', 'the', 'chance', 'to', 'sit', 'down', 'and', 'watch', 'The', 'Conjuring', 'The', 'Devil', 'Made', 'Me', 'Do', 'It', 'from', 'writers', 'David', 'Leslie', 'Johnson', 'McGoldrick', 'and', 'James', 'Wan']\n",
      "===================NLTK Tokenizer REMOVED TAGS===================\n",
      "['Still', ',', 'as', 'I', 'had', 'the', 'chance', 'to', 'sit', 'down', 'and', 'watch', '``', 'The', 'Conjuring', ':', 'The', 'Devil', 'Made', 'Me', 'Do', 'It', \"''\", 'from', 'writers', 'David', 'Leslie', 'Johnson-McGoldrick', 'and', 'James', 'Wan', '.']\n",
      "===================NLTK Tokenizer REMOVED CHARS AND DIGITS===================\n",
      "['Still', 'as', 'I', 'had', 'the', 'chance', 'to', 'sit', 'down', 'and', 'watch', 'The', 'Conjuring', 'The', 'Devil', 'Made', 'Me', 'Do', 'It', 'from', 'writers', 'David', 'Leslie', 'Johnson', 'McGoldrick', 'and', 'James', 'Wan']\n",
      "===================NLTK Tokenizer STEMMING APPLIED===================\n",
      "['still', ',', 'as', 'i', 'had', 'the', 'chanc', 'to', 'sit', 'down', 'and', 'watch', '``', 'the', 'conjur', ':', 'the', 'devil', 'made', 'me', 'do', 'it', '``', 'from', 'writer', 'david', 'lesli', 'johnson-mcgoldrick', 'and', 'jame', 'wan', '.']\n",
      "===================NLTK Tokenizer LEMMATIZATION APPLIED===================\n",
      "['Still', ',', 'a', 'I', 'had', 'the', 'chance', 'to', 'sit', 'down', 'and', 'watch', '``', 'The', 'Conjuring', ':', 'The', 'Devil', 'Made', 'Me', 'Do', 'It', '``', 'from', 'writer', 'David', 'Leslie', 'Johnson-McGoldrick', 'and', 'James', 'Wan', '.']\n",
      "So of course I did it.\n",
      "===================NLTK Tokenizer===================\n",
      "['So', 'of', 'course', 'I', 'did', 'it', '.']\n",
      "===================NLTK Word NGRAM Tokenizer 2 words===================\n",
      "['So of', 'of course', 'course I', 'I did', 'did it', 'it .']\n",
      "===================NLTK Word NGRAM Tokenizer 3 words===================\n",
      "['So of course', 'of course I', 'course I did', 'I did it', 'did it .']\n",
      "===================Phrase Machine===================\n",
      "===================Rake===================\n",
      "['course']\n",
      "===================NLTK Tokenizer===================\n",
      "['So', 'of', 'course', 'I', 'did', 'it', '.']\n",
      "===================NLTK Tokenizer LOWER CASE===================\n",
      "['so', 'of', 'course', 'i', 'did', 'it', '.']\n",
      "===================NLTK Tokenizer REMOVE STOP WORDS===================\n",
      "['So', 'course', 'I', '.']\n",
      "===================NLTK Tokenizer REMOVED PUNCTUATION===================\n",
      "['So', 'of', 'course', 'I', 'did', 'it']\n",
      "===================NLTK Tokenizer REMOVED TAGS===================\n",
      "['So', 'of', 'course', 'I', 'did', 'it', '.']\n",
      "===================NLTK Tokenizer REMOVED CHARS AND DIGITS===================\n",
      "['So', 'of', 'course', 'I', 'did', 'it']\n",
      "===================NLTK Tokenizer STEMMING APPLIED===================\n",
      "['so', 'of', 'cours', 'i', 'did', 'it', '.']\n",
      "===================NLTK Tokenizer LEMMATIZATION APPLIED===================\n",
      "['So', 'of', 'course', 'I', 'did', 'it', '.']\n",
      "And I have to say that director Michael Chaves managed to deliver a movie that was only slightly entertaining.\n",
      "===================NLTK Tokenizer===================\n",
      "['And', 'I', 'have', 'to', 'say', 'that', 'director', 'Michael', 'Chaves', 'managed', 'to', 'deliver', 'a', 'movie', 'that', 'was', 'only', 'slightly', 'entertaining', '.']\n",
      "===================NLTK Word NGRAM Tokenizer 2 words===================\n",
      "['And I', 'I have', 'have to', 'to say', 'say that', 'that director', 'director Michael', 'Michael Chaves', 'Chaves managed', 'managed to', 'to deliver', 'deliver a', 'a movie', 'movie that', 'that was', 'was only', 'only slightly', 'slightly entertaining', 'entertaining .']\n",
      "===================NLTK Word NGRAM Tokenizer 3 words===================\n",
      "['And I have', 'I have to', 'have to say', 'to say that', 'say that director', 'that director Michael', 'director Michael Chaves', 'Michael Chaves managed', 'Chaves managed to', 'managed to deliver', 'to deliver a', 'deliver a movie', 'a movie that', 'movie that was', 'that was only', 'was only slightly', 'only slightly entertaining', 'slightly entertaining .']\n",
      "===================Phrase Machine===================\n",
      "===================Rake===================\n",
      "['director michael chaves managed', 'slightly entertaining', 'say', 'movie', 'deliver']\n",
      "===================NLTK Tokenizer===================\n",
      "['And', 'I', 'have', 'to', 'say', 'that', 'director', 'Michael', 'Chaves', 'managed', 'to', 'deliver', 'a', 'movie', 'that', 'was', 'only', 'slightly', 'entertaining', '.']\n",
      "===================NLTK Tokenizer LOWER CASE===================\n",
      "['and', 'i', 'have', 'to', 'say', 'that', 'director', 'michael', 'chaves', 'managed', 'to', 'deliver', 'a', 'movie', 'that', 'was', 'only', 'slightly', 'entertaining', '.']\n",
      "===================NLTK Tokenizer REMOVE STOP WORDS===================\n",
      "['And', 'I', 'say', 'director', 'Michael', 'Chaves', 'managed', 'deliver', 'movie', 'slightly', 'entertaining', '.']\n",
      "===================NLTK Tokenizer REMOVED PUNCTUATION===================\n",
      "['And', 'I', 'have', 'to', 'say', 'that', 'director', 'Michael', 'Chaves', 'managed', 'to', 'deliver', 'a', 'movie', 'that', 'was', 'only', 'slightly', 'entertaining']\n",
      "===================NLTK Tokenizer REMOVED TAGS===================\n",
      "['And', 'I', 'have', 'to', 'say', 'that', 'director', 'Michael', 'Chaves', 'managed', 'to', 'deliver', 'a', 'movie', 'that', 'was', 'only', 'slightly', 'entertaining', '.']\n",
      "===================NLTK Tokenizer REMOVED CHARS AND DIGITS===================\n",
      "['And', 'I', 'have', 'to', 'say', 'that', 'director', 'Michael', 'Chaves', 'managed', 'to', 'deliver', 'a', 'movie', 'that', 'was', 'only', 'slightly', 'entertaining']\n",
      "===================NLTK Tokenizer STEMMING APPLIED===================\n",
      "['and', 'i', 'have', 'to', 'say', 'that', 'director', 'michael', 'chave', 'manag', 'to', 'deliv', 'a', 'movi', 'that', 'wa', 'onli', 'slightli', 'entertain', '.']\n",
      "===================NLTK Tokenizer LEMMATIZATION APPLIED===================\n",
      "['And', 'I', 'have', 'to', 'say', 'that', 'director', 'Michael', 'Chaves', 'managed', 'to', 'deliver', 'a', 'movie', 'that', 'wa', 'only', 'slightly', 'entertaining', '.']\n",
      "\"The Conjuring: The Devil Made Me Do It\" was a whole lot of nothing going on, and you can essentially just watch the beginning and the last 25 minutes of the movie and skip on everything in between.\n",
      "===================NLTK Tokenizer===================\n",
      "['``', 'The', 'Conjuring', ':', 'The', 'Devil', 'Made', 'Me', 'Do', 'It', \"''\", 'was', 'a', 'whole', 'lot', 'of', 'nothing', 'going', 'on', ',', 'and', 'you', 'can', 'essentially', 'just', 'watch', 'the', 'beginning', 'and', 'the', 'last', '25', 'minutes', 'of', 'the', 'movie', 'and', 'skip', 'on', 'everything', 'in', 'between', '.']\n",
      "===================NLTK Word NGRAM Tokenizer 2 words===================\n",
      "['`` The', 'The Conjuring', 'Conjuring :', ': The', 'The Devil', 'Devil Made', 'Made Me', 'Me Do', 'Do It', \"It ''\", \"'' was\", 'was a', 'a whole', 'whole lot', 'lot of', 'of nothing', 'nothing going', 'going on', 'on ,', ', and', 'and you', 'you can', 'can essentially', 'essentially just', 'just watch', 'watch the', 'the beginning', 'beginning and', 'and the', 'the last', 'last 25', '25 minutes', 'minutes of', 'of the', 'the movie', 'movie and', 'and skip', 'skip on', 'on everything', 'everything in', 'in between', 'between .']\n",
      "===================NLTK Word NGRAM Tokenizer 3 words===================\n",
      "['`` The Conjuring', 'The Conjuring :', 'Conjuring : The', ': The Devil', 'The Devil Made', 'Devil Made Me', 'Made Me Do', 'Me Do It', \"Do It ''\", \"It '' was\", \"'' was a\", 'was a whole', 'a whole lot', 'whole lot of', 'lot of nothing', 'of nothing going', 'nothing going on', 'going on ,', 'on , and', ', and you', 'and you can', 'you can essentially', 'can essentially just', 'essentially just watch', 'just watch the', 'watch the beginning', 'the beginning and', 'beginning and the', 'and the last', 'the last 25', 'last 25 minutes', '25 minutes of', 'minutes of the', 'of the movie', 'the movie and', 'movie and skip', 'and skip on', 'skip on everything', 'on everything in', 'everything in between', 'in between .']\n",
      "===================Phrase Machine===================\n",
      "===================Rake===================\n",
      "['last 25 minutes', 'whole lot', 'nothing going', 'devil made', 'watch', 'skip', 'movie', 'everything', 'essentially', 'conjuring', 'beginning']\n",
      "===================NLTK Tokenizer===================\n",
      "['``', 'The', 'Conjuring', ':', 'The', 'Devil', 'Made', 'Me', 'Do', 'It', \"''\", 'was', 'a', 'whole', 'lot', 'of', 'nothing', 'going', 'on', ',', 'and', 'you', 'can', 'essentially', 'just', 'watch', 'the', 'beginning', 'and', 'the', 'last', '25', 'minutes', 'of', 'the', 'movie', 'and', 'skip', 'on', 'everything', 'in', 'between', '.']\n",
      "===================NLTK Tokenizer LOWER CASE===================\n",
      "['``', 'the', 'conjuring', ':', 'the', 'devil', 'made', 'me', 'do', 'it', \"''\", 'was', 'a', 'whole', 'lot', 'of', 'nothing', 'going', 'on', ',', 'and', 'you', 'can', 'essentially', 'just', 'watch', 'the', 'beginning', 'and', 'the', 'last', '25', 'minutes', 'of', 'the', 'movie', 'and', 'skip', 'on', 'everything', 'in', 'between', '.']\n",
      "===================NLTK Tokenizer REMOVE STOP WORDS===================\n",
      "['``', 'The', 'Conjuring', ':', 'The', 'Devil', 'Made', 'Me', 'Do', 'It', \"''\", 'whole', 'lot', 'nothing', 'going', ',', 'essentially', 'watch', 'beginning', 'last', '25', 'minutes', 'movie', 'skip', 'everything', '.']\n",
      "===================NLTK Tokenizer REMOVED PUNCTUATION===================\n",
      "['The', 'Conjuring', 'The', 'Devil', 'Made', 'Me', 'Do', 'It', 'was', 'a', 'whole', 'lot', 'of', 'nothing', 'going', 'on', 'and', 'you', 'can', 'essentially', 'just', 'watch', 'the', 'beginning', 'and', 'the', 'last', 'minutes', 'of', 'the', 'movie', 'and', 'skip', 'on', 'everything', 'in', 'between']\n",
      "===================NLTK Tokenizer REMOVED TAGS===================\n",
      "['``', 'The', 'Conjuring', ':', 'The', 'Devil', 'Made', 'Me', 'Do', 'It', \"''\", 'was', 'a', 'whole', 'lot', 'of', 'nothing', 'going', 'on', ',', 'and', 'you', 'can', 'essentially', 'just', 'watch', 'the', 'beginning', 'and', 'the', 'last', '25', 'minutes', 'of', 'the', 'movie', 'and', 'skip', 'on', 'everything', 'in', 'between', '.']\n",
      "===================NLTK Tokenizer REMOVED CHARS AND DIGITS===================\n",
      "['The', 'Conjuring', 'The', 'Devil', 'Made', 'Me', 'Do', 'It', 'was', 'a', 'whole', 'lot', 'of', 'nothing', 'going', 'on', 'and', 'you', 'can', 'essentially', 'just', 'watch', 'the', 'beginning', 'and', 'the', 'last', 'minutes', 'of', 'the', 'movie', 'and', 'skip', 'on', 'everything', 'in', 'between']\n",
      "===================NLTK Tokenizer STEMMING APPLIED===================\n",
      "['``', 'the', 'conjur', ':', 'the', 'devil', 'made', 'me', 'do', 'it', '``', 'wa', 'a', 'whole', 'lot', 'of', 'noth', 'go', 'on', ',', 'and', 'you', 'can', 'essenti', 'just', 'watch', 'the', 'begin', 'and', 'the', 'last', '25', 'minut', 'of', 'the', 'movi', 'and', 'skip', 'on', 'everyth', 'in', 'between', '.']\n",
      "===================NLTK Tokenizer LEMMATIZATION APPLIED===================\n",
      "['``', 'The', 'Conjuring', ':', 'The', 'Devil', 'Made', 'Me', 'Do', 'It', '``', 'wa', 'a', 'whole', 'lot', 'of', 'nothing', 'going', 'on', ',', 'and', 'you', 'can', 'essentially', 'just', 'watch', 'the', 'beginning', 'and', 'the', 'last', '25', 'minute', 'of', 'the', 'movie', 'and', 'skip', 'on', 'everything', 'in', 'between', '.']\n",
      "The storyline written for \"The Conjuring: The Devil Made Me Do It\" was bland and slow paced, with very little of much excitement or interest happening in between the start and the end of the movie.\n",
      "===================NLTK Tokenizer===================\n",
      "['The', 'storyline', 'written', 'for', '``', 'The', 'Conjuring', ':', 'The', 'Devil', 'Made', 'Me', 'Do', 'It', \"''\", 'was', 'bland', 'and', 'slow', 'paced', ',', 'with', 'very', 'little', 'of', 'much', 'excitement', 'or', 'interest', 'happening', 'in', 'between', 'the', 'start', 'and', 'the', 'end', 'of', 'the', 'movie', '.']\n",
      "===================NLTK Word NGRAM Tokenizer 2 words===================\n",
      "['The storyline', 'storyline written', 'written for', 'for ``', '`` The', 'The Conjuring', 'Conjuring :', ': The', 'The Devil', 'Devil Made', 'Made Me', 'Me Do', 'Do It', \"It ''\", \"'' was\", 'was bland', 'bland and', 'and slow', 'slow paced', 'paced ,', ', with', 'with very', 'very little', 'little of', 'of much', 'much excitement', 'excitement or', 'or interest', 'interest happening', 'happening in', 'in between', 'between the', 'the start', 'start and', 'and the', 'the end', 'end of', 'of the', 'the movie', 'movie .']\n",
      "===================NLTK Word NGRAM Tokenizer 3 words===================\n",
      "['The storyline written', 'storyline written for', 'written for ``', 'for `` The', '`` The Conjuring', 'The Conjuring :', 'Conjuring : The', ': The Devil', 'The Devil Made', 'Devil Made Me', 'Made Me Do', 'Me Do It', \"Do It ''\", \"It '' was\", \"'' was bland\", 'was bland and', 'bland and slow', 'and slow paced', 'slow paced ,', 'paced , with', ', with very', 'with very little', 'very little of', 'little of much', 'of much excitement', 'much excitement or', 'excitement or interest', 'or interest happening', 'interest happening in', 'happening in between', 'in between the', 'between the start', 'the start and', 'start and the', 'and the end', 'the end of', 'end of the', 'of the movie', 'the movie .']\n",
      "===================Phrase Machine===================\n",
      "===================Rake===================\n",
      "['storyline written', 'slow paced', 'much excitement', 'interest happening', 'devil made', 'start', 'movie', 'little', 'end', 'conjuring', 'bland']\n",
      "===================NLTK Tokenizer===================\n",
      "['The', 'storyline', 'written', 'for', '``', 'The', 'Conjuring', ':', 'The', 'Devil', 'Made', 'Me', 'Do', 'It', \"''\", 'was', 'bland', 'and', 'slow', 'paced', ',', 'with', 'very', 'little', 'of', 'much', 'excitement', 'or', 'interest', 'happening', 'in', 'between', 'the', 'start', 'and', 'the', 'end', 'of', 'the', 'movie', '.']\n",
      "===================NLTK Tokenizer LOWER CASE===================\n",
      "['the', 'storyline', 'written', 'for', '``', 'the', 'conjuring', ':', 'the', 'devil', 'made', 'me', 'do', 'it', \"''\", 'was', 'bland', 'and', 'slow', 'paced', ',', 'with', 'very', 'little', 'of', 'much', 'excitement', 'or', 'interest', 'happening', 'in', 'between', 'the', 'start', 'and', 'the', 'end', 'of', 'the', 'movie', '.']\n",
      "===================NLTK Tokenizer REMOVE STOP WORDS===================\n",
      "['The', 'storyline', 'written', '``', 'The', 'Conjuring', ':', 'The', 'Devil', 'Made', 'Me', 'Do', 'It', \"''\", 'bland', 'slow', 'paced', ',', 'little', 'much', 'excitement', 'interest', 'happening', 'start', 'end', 'movie', '.']\n",
      "===================NLTK Tokenizer REMOVED PUNCTUATION===================\n",
      "['The', 'storyline', 'written', 'for', 'The', 'Conjuring', 'The', 'Devil', 'Made', 'Me', 'Do', 'It', 'was', 'bland', 'and', 'slow', 'paced', 'with', 'very', 'little', 'of', 'much', 'excitement', 'or', 'interest', 'happening', 'in', 'between', 'the', 'start', 'and', 'the', 'end', 'of', 'the', 'movie']\n",
      "===================NLTK Tokenizer REMOVED TAGS===================\n",
      "['The', 'storyline', 'written', 'for', '``', 'The', 'Conjuring', ':', 'The', 'Devil', 'Made', 'Me', 'Do', 'It', \"''\", 'was', 'bland', 'and', 'slow', 'paced', ',', 'with', 'very', 'little', 'of', 'much', 'excitement', 'or', 'interest', 'happening', 'in', 'between', 'the', 'start', 'and', 'the', 'end', 'of', 'the', 'movie', '.']\n",
      "===================NLTK Tokenizer REMOVED CHARS AND DIGITS===================\n",
      "['The', 'storyline', 'written', 'for', 'The', 'Conjuring', 'The', 'Devil', 'Made', 'Me', 'Do', 'It', 'was', 'bland', 'and', 'slow', 'paced', 'with', 'very', 'little', 'of', 'much', 'excitement', 'or', 'interest', 'happening', 'in', 'between', 'the', 'start', 'and', 'the', 'end', 'of', 'the', 'movie']\n",
      "===================NLTK Tokenizer STEMMING APPLIED===================\n",
      "['the', 'storylin', 'written', 'for', '``', 'the', 'conjur', ':', 'the', 'devil', 'made', 'me', 'do', 'it', '``', 'wa', 'bland', 'and', 'slow', 'pace', ',', 'with', 'veri', 'littl', 'of', 'much', 'excit', 'or', 'interest', 'happen', 'in', 'between', 'the', 'start', 'and', 'the', 'end', 'of', 'the', 'movi', '.']\n",
      "===================NLTK Tokenizer LEMMATIZATION APPLIED===================\n",
      "['The', 'storyline', 'written', 'for', '``', 'The', 'Conjuring', ':', 'The', 'Devil', 'Made', 'Me', 'Do', 'It', '``', 'wa', 'bland', 'and', 'slow', 'paced', ',', 'with', 'very', 'little', 'of', 'much', 'excitement', 'or', 'interest', 'happening', 'in', 'between', 'the', 'start', 'and', 'the', 'end', 'of', 'the', 'movie', '.']\n",
      "And that ultimately led to a less than mediocre movie experience for me.\n",
      "===================NLTK Tokenizer===================\n",
      "['And', 'that', 'ultimately', 'led', 'to', 'a', 'less', 'than', 'mediocre', 'movie', 'experience', 'for', 'me', '.']\n",
      "===================NLTK Word NGRAM Tokenizer 2 words===================\n",
      "['And that', 'that ultimately', 'ultimately led', 'led to', 'to a', 'a less', 'less than', 'than mediocre', 'mediocre movie', 'movie experience', 'experience for', 'for me', 'me .']\n",
      "===================NLTK Word NGRAM Tokenizer 3 words===================\n",
      "['And that ultimately', 'that ultimately led', 'ultimately led to', 'led to a', 'to a less', 'a less than', 'less than mediocre', 'than mediocre movie', 'mediocre movie experience', 'movie experience for', 'experience for me', 'for me .']\n",
      "===================Phrase Machine===================\n",
      "===================Rake===================\n",
      "['mediocre movie experience', 'ultimately led', 'less']\n",
      "===================NLTK Tokenizer===================\n",
      "['And', 'that', 'ultimately', 'led', 'to', 'a', 'less', 'than', 'mediocre', 'movie', 'experience', 'for', 'me', '.']\n",
      "===================NLTK Tokenizer LOWER CASE===================\n",
      "['and', 'that', 'ultimately', 'led', 'to', 'a', 'less', 'than', 'mediocre', 'movie', 'experience', 'for', 'me', '.']\n",
      "===================NLTK Tokenizer REMOVE STOP WORDS===================\n",
      "['And', 'ultimately', 'led', 'less', 'mediocre', 'movie', 'experience', '.']\n",
      "===================NLTK Tokenizer REMOVED PUNCTUATION===================\n",
      "['And', 'that', 'ultimately', 'led', 'to', 'a', 'less', 'than', 'mediocre', 'movie', 'experience', 'for', 'me']\n",
      "===================NLTK Tokenizer REMOVED TAGS===================\n",
      "['And', 'that', 'ultimately', 'led', 'to', 'a', 'less', 'than', 'mediocre', 'movie', 'experience', 'for', 'me', '.']\n",
      "===================NLTK Tokenizer REMOVED CHARS AND DIGITS===================\n",
      "['And', 'that', 'ultimately', 'led', 'to', 'a', 'less', 'than', 'mediocre', 'movie', 'experience', 'for', 'me']\n",
      "===================NLTK Tokenizer STEMMING APPLIED===================\n",
      "['and', 'that', 'ultim', 'led', 'to', 'a', 'less', 'than', 'mediocr', 'movi', 'experi', 'for', 'me', '.']\n",
      "===================NLTK Tokenizer LEMMATIZATION APPLIED===================\n",
      "['And', 'that', 'ultimately', 'led', 'to', 'a', 'le', 'than', 'mediocre', 'movie', 'experience', 'for', 'me', '.']\n",
      "And yeah, I am a horror veteran, so \"The Conjuring: The Devil Made Me Do It\" was a walk in park.\n",
      "===================NLTK Tokenizer===================\n",
      "['And', 'yeah', ',', 'I', 'am', 'a', 'horror', 'veteran', ',', 'so', '``', 'The', 'Conjuring', ':', 'The', 'Devil', 'Made', 'Me', 'Do', 'It', \"''\", 'was', 'a', 'walk', 'in', 'park', '.']\n",
      "===================NLTK Word NGRAM Tokenizer 2 words===================\n",
      "['And yeah', 'yeah ,', ', I', 'I am', 'am a', 'a horror', 'horror veteran', 'veteran ,', ', so', 'so ``', '`` The', 'The Conjuring', 'Conjuring :', ': The', 'The Devil', 'Devil Made', 'Made Me', 'Me Do', 'Do It', \"It ''\", \"'' was\", 'was a', 'a walk', 'walk in', 'in park', 'park .']\n",
      "===================NLTK Word NGRAM Tokenizer 3 words===================\n",
      "['And yeah ,', 'yeah , I', ', I am', 'I am a', 'am a horror', 'a horror veteran', 'horror veteran ,', 'veteran , so', ', so ``', 'so `` The', '`` The Conjuring', 'The Conjuring :', 'Conjuring : The', ': The Devil', 'The Devil Made', 'Devil Made Me', 'Made Me Do', 'Me Do It', \"Do It ''\", \"It '' was\", \"'' was a\", 'was a walk', 'a walk in', 'walk in park', 'in park .']\n",
      "===================Phrase Machine===================\n",
      "===================Rake===================\n",
      "['horror veteran', 'devil made', 'yeah', 'walk', 'park', 'conjuring']\n",
      "===================NLTK Tokenizer===================\n",
      "['And', 'yeah', ',', 'I', 'am', 'a', 'horror', 'veteran', ',', 'so', '``', 'The', 'Conjuring', ':', 'The', 'Devil', 'Made', 'Me', 'Do', 'It', \"''\", 'was', 'a', 'walk', 'in', 'park', '.']\n",
      "===================NLTK Tokenizer LOWER CASE===================\n",
      "['and', 'yeah', ',', 'i', 'am', 'a', 'horror', 'veteran', ',', 'so', '``', 'the', 'conjuring', ':', 'the', 'devil', 'made', 'me', 'do', 'it', \"''\", 'was', 'a', 'walk', 'in', 'park', '.']\n",
      "===================NLTK Tokenizer REMOVE STOP WORDS===================\n",
      "['And', 'yeah', ',', 'I', 'horror', 'veteran', ',', '``', 'The', 'Conjuring', ':', 'The', 'Devil', 'Made', 'Me', 'Do', 'It', \"''\", 'walk', 'park', '.']\n",
      "===================NLTK Tokenizer REMOVED PUNCTUATION===================\n",
      "['And', 'yeah', 'I', 'am', 'a', 'horror', 'veteran', 'so', 'The', 'Conjuring', 'The', 'Devil', 'Made', 'Me', 'Do', 'It', 'was', 'a', 'walk', 'in', 'park']\n",
      "===================NLTK Tokenizer REMOVED TAGS===================\n",
      "['And', 'yeah', ',', 'I', 'am', 'a', 'horror', 'veteran', ',', 'so', '``', 'The', 'Conjuring', ':', 'The', 'Devil', 'Made', 'Me', 'Do', 'It', \"''\", 'was', 'a', 'walk', 'in', 'park', '.']\n",
      "===================NLTK Tokenizer REMOVED CHARS AND DIGITS===================\n",
      "['And', 'yeah', 'I', 'am', 'a', 'horror', 'veteran', 'so', 'The', 'Conjuring', 'The', 'Devil', 'Made', 'Me', 'Do', 'It', 'was', 'a', 'walk', 'in', 'park']\n",
      "===================NLTK Tokenizer STEMMING APPLIED===================\n",
      "['and', 'yeah', ',', 'i', 'am', 'a', 'horror', 'veteran', ',', 'so', '``', 'the', 'conjur', ':', 'the', 'devil', 'made', 'me', 'do', 'it', '``', 'wa', 'a', 'walk', 'in', 'park', '.']\n",
      "===================NLTK Tokenizer LEMMATIZATION APPLIED===================\n",
      "['And', 'yeah', ',', 'I', 'am', 'a', 'horror', 'veteran', ',', 'so', '``', 'The', 'Conjuring', ':', 'The', 'Devil', 'Made', 'Me', 'Do', 'It', '``', 'wa', 'a', 'walk', 'in', 'park', '.']\n",
      "There were a few jump scare moments to be had here, but they could be seen coming a mile away.\n",
      "===================NLTK Tokenizer===================\n",
      "['There', 'were', 'a', 'few', 'jump', 'scare', 'moments', 'to', 'be', 'had', 'here', ',', 'but', 'they', 'could', 'be', 'seen', 'coming', 'a', 'mile', 'away', '.']\n",
      "===================NLTK Word NGRAM Tokenizer 2 words===================\n",
      "['There were', 'were a', 'a few', 'few jump', 'jump scare', 'scare moments', 'moments to', 'to be', 'be had', 'had here', 'here ,', ', but', 'but they', 'they could', 'could be', 'be seen', 'seen coming', 'coming a', 'a mile', 'mile away', 'away .']\n",
      "===================NLTK Word NGRAM Tokenizer 3 words===================\n",
      "['There were a', 'were a few', 'a few jump', 'few jump scare', 'jump scare moments', 'scare moments to', 'moments to be', 'to be had', 'be had here', 'had here ,', 'here , but', ', but they', 'but they could', 'they could be', 'could be seen', 'be seen coming', 'seen coming a', 'coming a mile', 'a mile away', 'mile away .']\n",
      "===================Phrase Machine===================\n",
      "===================Rake===================\n",
      "['jump scare moments', 'seen coming', 'mile away', 'could']\n",
      "===================NLTK Tokenizer===================\n",
      "['There', 'were', 'a', 'few', 'jump', 'scare', 'moments', 'to', 'be', 'had', 'here', ',', 'but', 'they', 'could', 'be', 'seen', 'coming', 'a', 'mile', 'away', '.']\n",
      "===================NLTK Tokenizer LOWER CASE===================\n",
      "['there', 'were', 'a', 'few', 'jump', 'scare', 'moments', 'to', 'be', 'had', 'here', ',', 'but', 'they', 'could', 'be', 'seen', 'coming', 'a', 'mile', 'away', '.']\n",
      "===================NLTK Tokenizer REMOVE STOP WORDS===================\n",
      "['There', 'jump', 'scare', 'moments', ',', 'could', 'seen', 'coming', 'mile', 'away', '.']\n",
      "===================NLTK Tokenizer REMOVED PUNCTUATION===================\n",
      "['There', 'were', 'a', 'few', 'jump', 'scare', 'moments', 'to', 'be', 'had', 'here', 'but', 'they', 'could', 'be', 'seen', 'coming', 'a', 'mile', 'away']\n",
      "===================NLTK Tokenizer REMOVED TAGS===================\n",
      "['There', 'were', 'a', 'few', 'jump', 'scare', 'moments', 'to', 'be', 'had', 'here', ',', 'but', 'they', 'could', 'be', 'seen', 'coming', 'a', 'mile', 'away', '.']\n",
      "===================NLTK Tokenizer REMOVED CHARS AND DIGITS===================\n",
      "['There', 'were', 'a', 'few', 'jump', 'scare', 'moments', 'to', 'be', 'had', 'here', 'but', 'they', 'could', 'be', 'seen', 'coming', 'a', 'mile', 'away']\n",
      "===================NLTK Tokenizer STEMMING APPLIED===================\n",
      "['there', 'were', 'a', 'few', 'jump', 'scare', 'moment', 'to', 'be', 'had', 'here', ',', 'but', 'they', 'could', 'be', 'seen', 'come', 'a', 'mile', 'away', '.']\n",
      "===================NLTK Tokenizer LEMMATIZATION APPLIED===================\n",
      "['There', 'were', 'a', 'few', 'jump', 'scare', 'moment', 'to', 'be', 'had', 'here', ',', 'but', 'they', 'could', 'be', 'seen', 'coming', 'a', 'mile', 'away', '.']\n",
      "And the storyline wasn't particularly dark, brooding or scary.\n",
      "===================NLTK Tokenizer===================\n",
      "['And', 'the', 'storyline', 'was', \"n't\", 'particularly', 'dark', ',', 'brooding', 'or', 'scary', '.']\n",
      "===================NLTK Word NGRAM Tokenizer 2 words===================\n",
      "['And the', 'the storyline', 'storyline was', \"was n't\", \"n't particularly\", 'particularly dark', 'dark ,', ', brooding', 'brooding or', 'or scary', 'scary .']\n",
      "===================NLTK Word NGRAM Tokenizer 3 words===================\n",
      "['And the storyline', 'the storyline was', \"storyline was n't\", \"was n't particularly\", \"n't particularly dark\", 'particularly dark ,', 'dark , brooding', ', brooding or', 'brooding or scary', 'or scary .']\n",
      "===================Phrase Machine===================\n",
      "===================Rake===================\n",
      "['particularly dark', 'storyline', 'scary', 'brooding']\n",
      "===================NLTK Tokenizer===================\n",
      "['And', 'the', 'storyline', 'was', \"n't\", 'particularly', 'dark', ',', 'brooding', 'or', 'scary', '.']\n",
      "===================NLTK Tokenizer LOWER CASE===================\n",
      "['and', 'the', 'storyline', 'was', \"n't\", 'particularly', 'dark', ',', 'brooding', 'or', 'scary', '.']\n",
      "===================NLTK Tokenizer REMOVE STOP WORDS===================\n",
      "['And', 'storyline', \"n't\", 'particularly', 'dark', ',', 'brooding', 'scary', '.']\n",
      "===================NLTK Tokenizer REMOVED PUNCTUATION===================\n",
      "['And', 'the', 'storyline', 'wasn', 't', 'particularly', 'dark', 'brooding', 'or', 'scary']\n",
      "===================NLTK Tokenizer REMOVED TAGS===================\n",
      "['And', 'the', 'storyline', 'was', \"n't\", 'particularly', 'dark', ',', 'brooding', 'or', 'scary', '.']\n",
      "===================NLTK Tokenizer REMOVED CHARS AND DIGITS===================\n",
      "['And', 'the', 'storyline', 'wasn', 't', 'particularly', 'dark', 'brooding', 'or', 'scary']\n",
      "===================NLTK Tokenizer STEMMING APPLIED===================\n",
      "['and', 'the', 'storylin', 'wa', \"n't\", 'particularli', 'dark', ',', 'brood', 'or', 'scari', '.']\n",
      "===================NLTK Tokenizer LEMMATIZATION APPLIED===================\n",
      "['And', 'the', 'storyline', 'wa', \"n't\", 'particularly', 'dark', ',', 'brooding', 'or', 'scary', '.']\n",
      "So this was not an impressive foray into the horror genre.\n",
      "===================NLTK Tokenizer===================\n",
      "['So', 'this', 'was', 'not', 'an', 'impressive', 'foray', 'into', 'the', 'horror', 'genre', '.']\n",
      "===================NLTK Word NGRAM Tokenizer 2 words===================\n",
      "['So this', 'this was', 'was not', 'not an', 'an impressive', 'impressive foray', 'foray into', 'into the', 'the horror', 'horror genre', 'genre .']\n",
      "===================NLTK Word NGRAM Tokenizer 3 words===================\n",
      "['So this was', 'this was not', 'was not an', 'not an impressive', 'an impressive foray', 'impressive foray into', 'foray into the', 'into the horror', 'the horror genre', 'horror genre .']\n",
      "===================Phrase Machine===================\n",
      "===================Rake===================\n",
      "['impressive foray', 'horror genre']\n",
      "===================NLTK Tokenizer===================\n",
      "['So', 'this', 'was', 'not', 'an', 'impressive', 'foray', 'into', 'the', 'horror', 'genre', '.']\n",
      "===================NLTK Tokenizer LOWER CASE===================\n",
      "['so', 'this', 'was', 'not', 'an', 'impressive', 'foray', 'into', 'the', 'horror', 'genre', '.']\n",
      "===================NLTK Tokenizer REMOVE STOP WORDS===================\n",
      "['So', 'impressive', 'foray', 'horror', 'genre', '.']\n",
      "===================NLTK Tokenizer REMOVED PUNCTUATION===================\n",
      "['So', 'this', 'was', 'not', 'an', 'impressive', 'foray', 'into', 'the', 'horror', 'genre']\n",
      "===================NLTK Tokenizer REMOVED TAGS===================\n",
      "['So', 'this', 'was', 'not', 'an', 'impressive', 'foray', 'into', 'the', 'horror', 'genre', '.']\n",
      "===================NLTK Tokenizer REMOVED CHARS AND DIGITS===================\n",
      "['So', 'this', 'was', 'not', 'an', 'impressive', 'foray', 'into', 'the', 'horror', 'genre']\n",
      "===================NLTK Tokenizer STEMMING APPLIED===================\n",
      "['so', 'thi', 'wa', 'not', 'an', 'impress', 'foray', 'into', 'the', 'horror', 'genr', '.']\n",
      "===================NLTK Tokenizer LEMMATIZATION APPLIED===================\n",
      "['So', 'this', 'wa', 'not', 'an', 'impressive', 'foray', 'into', 'the', 'horror', 'genre', '.']\n",
      "I will say that the special effects in \"The Conjuring: The Devil Made Me Do It\" were good, and they definitely added something worthwhile to the movie.\n",
      "===================NLTK Tokenizer===================\n",
      "['I', 'will', 'say', 'that', 'the', 'special', 'effects', 'in', '``', 'The', 'Conjuring', ':', 'The', 'Devil', 'Made', 'Me', 'Do', 'It', \"''\", 'were', 'good', ',', 'and', 'they', 'definitely', 'added', 'something', 'worthwhile', 'to', 'the', 'movie', '.']\n",
      "===================NLTK Word NGRAM Tokenizer 2 words===================\n",
      "['I will', 'will say', 'say that', 'that the', 'the special', 'special effects', 'effects in', 'in ``', '`` The', 'The Conjuring', 'Conjuring :', ': The', 'The Devil', 'Devil Made', 'Made Me', 'Me Do', 'Do It', \"It ''\", \"'' were\", 'were good', 'good ,', ', and', 'and they', 'they definitely', 'definitely added', 'added something', 'something worthwhile', 'worthwhile to', 'to the', 'the movie', 'movie .']\n",
      "===================NLTK Word NGRAM Tokenizer 3 words===================\n",
      "['I will say', 'will say that', 'say that the', 'that the special', 'the special effects', 'special effects in', 'effects in ``', 'in `` The', '`` The Conjuring', 'The Conjuring :', 'Conjuring : The', ': The Devil', 'The Devil Made', 'Devil Made Me', 'Made Me Do', 'Me Do It', \"Do It ''\", \"It '' were\", \"'' were good\", 'were good ,', 'good , and', ', and they', 'and they definitely', 'they definitely added', 'definitely added something', 'added something worthwhile', 'something worthwhile to', 'worthwhile to the', 'to the movie', 'the movie .']\n",
      "===================Phrase Machine===================\n",
      "===================Rake===================\n",
      "['definitely added something worthwhile', 'special effects', 'devil made', 'say', 'movie', 'good', 'conjuring']\n",
      "===================NLTK Tokenizer===================\n",
      "['I', 'will', 'say', 'that', 'the', 'special', 'effects', 'in', '``', 'The', 'Conjuring', ':', 'The', 'Devil', 'Made', 'Me', 'Do', 'It', \"''\", 'were', 'good', ',', 'and', 'they', 'definitely', 'added', 'something', 'worthwhile', 'to', 'the', 'movie', '.']\n",
      "===================NLTK Tokenizer LOWER CASE===================\n",
      "['i', 'will', 'say', 'that', 'the', 'special', 'effects', 'in', '``', 'the', 'conjuring', ':', 'the', 'devil', 'made', 'me', 'do', 'it', \"''\", 'were', 'good', ',', 'and', 'they', 'definitely', 'added', 'something', 'worthwhile', 'to', 'the', 'movie', '.']\n",
      "===================NLTK Tokenizer REMOVE STOP WORDS===================\n",
      "['I', 'say', 'special', 'effects', '``', 'The', 'Conjuring', ':', 'The', 'Devil', 'Made', 'Me', 'Do', 'It', \"''\", 'good', ',', 'definitely', 'added', 'something', 'worthwhile', 'movie', '.']\n",
      "===================NLTK Tokenizer REMOVED PUNCTUATION===================\n",
      "['I', 'will', 'say', 'that', 'the', 'special', 'effects', 'in', 'The', 'Conjuring', 'The', 'Devil', 'Made', 'Me', 'Do', 'It', 'were', 'good', 'and', 'they', 'definitely', 'added', 'something', 'worthwhile', 'to', 'the', 'movie']\n",
      "===================NLTK Tokenizer REMOVED TAGS===================\n",
      "['I', 'will', 'say', 'that', 'the', 'special', 'effects', 'in', '``', 'The', 'Conjuring', ':', 'The', 'Devil', 'Made', 'Me', 'Do', 'It', \"''\", 'were', 'good', ',', 'and', 'they', 'definitely', 'added', 'something', 'worthwhile', 'to', 'the', 'movie', '.']\n",
      "===================NLTK Tokenizer REMOVED CHARS AND DIGITS===================\n",
      "['I', 'will', 'say', 'that', 'the', 'special', 'effects', 'in', 'The', 'Conjuring', 'The', 'Devil', 'Made', 'Me', 'Do', 'It', 'were', 'good', 'and', 'they', 'definitely', 'added', 'something', 'worthwhile', 'to', 'the', 'movie']\n",
      "===================NLTK Tokenizer STEMMING APPLIED===================\n",
      "['i', 'will', 'say', 'that', 'the', 'special', 'effect', 'in', '``', 'the', 'conjur', ':', 'the', 'devil', 'made', 'me', 'do', 'it', '``', 'were', 'good', ',', 'and', 'they', 'definit', 'ad', 'someth', 'worthwhil', 'to', 'the', 'movi', '.']\n",
      "===================NLTK Tokenizer LEMMATIZATION APPLIED===================\n",
      "['I', 'will', 'say', 'that', 'the', 'special', 'effect', 'in', '``', 'The', 'Conjuring', ':', 'The', 'Devil', 'Made', 'Me', 'Do', 'It', '``', 'were', 'good', ',', 'and', 'they', 'definitely', 'added', 'something', 'worthwhile', 'to', 'the', 'movie', '.']\n",
      "And \"The Conjuring: The Devil Made Me Do It\" is not a movie that is a make or break experience with its special effects, but they do add a good element to the overall experience of the movie.\n",
      "===================NLTK Tokenizer===================\n",
      "['And', '``', 'The', 'Conjuring', ':', 'The', 'Devil', 'Made', 'Me', 'Do', 'It', \"''\", 'is', 'not', 'a', 'movie', 'that', 'is', 'a', 'make', 'or', 'break', 'experience', 'with', 'its', 'special', 'effects', ',', 'but', 'they', 'do', 'add', 'a', 'good', 'element', 'to', 'the', 'overall', 'experience', 'of', 'the', 'movie', '.']\n",
      "===================NLTK Word NGRAM Tokenizer 2 words===================\n",
      "['And ``', '`` The', 'The Conjuring', 'Conjuring :', ': The', 'The Devil', 'Devil Made', 'Made Me', 'Me Do', 'Do It', \"It ''\", \"'' is\", 'is not', 'not a', 'a movie', 'movie that', 'that is', 'is a', 'a make', 'make or', 'or break', 'break experience', 'experience with', 'with its', 'its special', 'special effects', 'effects ,', ', but', 'but they', 'they do', 'do add', 'add a', 'a good', 'good element', 'element to', 'to the', 'the overall', 'overall experience', 'experience of', 'of the', 'the movie', 'movie .']\n",
      "===================NLTK Word NGRAM Tokenizer 3 words===================\n",
      "['And `` The', '`` The Conjuring', 'The Conjuring :', 'Conjuring : The', ': The Devil', 'The Devil Made', 'Devil Made Me', 'Made Me Do', 'Me Do It', \"Do It ''\", \"It '' is\", \"'' is not\", 'is not a', 'not a movie', 'a movie that', 'movie that is', 'that is a', 'is a make', 'a make or', 'make or break', 'or break experience', 'break experience with', 'experience with its', 'with its special', 'its special effects', 'special effects ,', 'effects , but', ', but they', 'but they do', 'they do add', 'do add a', 'add a good', 'a good element', 'good element to', 'element to the', 'to the overall', 'the overall experience', 'overall experience of', 'experience of the', 'of the movie', 'the movie .']\n",
      "===================Phrase Machine===================\n",
      "===================Rake===================\n",
      "['special effects', 'overall experience', 'good element', 'devil made', 'break experience', 'movie', 'movie', 'make', 'conjuring', 'add']\n",
      "===================NLTK Tokenizer===================\n",
      "['And', '``', 'The', 'Conjuring', ':', 'The', 'Devil', 'Made', 'Me', 'Do', 'It', \"''\", 'is', 'not', 'a', 'movie', 'that', 'is', 'a', 'make', 'or', 'break', 'experience', 'with', 'its', 'special', 'effects', ',', 'but', 'they', 'do', 'add', 'a', 'good', 'element', 'to', 'the', 'overall', 'experience', 'of', 'the', 'movie', '.']\n",
      "===================NLTK Tokenizer LOWER CASE===================\n",
      "['and', '``', 'the', 'conjuring', ':', 'the', 'devil', 'made', 'me', 'do', 'it', \"''\", 'is', 'not', 'a', 'movie', 'that', 'is', 'a', 'make', 'or', 'break', 'experience', 'with', 'its', 'special', 'effects', ',', 'but', 'they', 'do', 'add', 'a', 'good', 'element', 'to', 'the', 'overall', 'experience', 'of', 'the', 'movie', '.']\n",
      "===================NLTK Tokenizer REMOVE STOP WORDS===================\n",
      "['And', '``', 'The', 'Conjuring', ':', 'The', 'Devil', 'Made', 'Me', 'Do', 'It', \"''\", 'movie', 'make', 'break', 'experience', 'special', 'effects', ',', 'add', 'good', 'element', 'overall', 'experience', 'movie', '.']\n",
      "===================NLTK Tokenizer REMOVED PUNCTUATION===================\n",
      "['And', 'The', 'Conjuring', 'The', 'Devil', 'Made', 'Me', 'Do', 'It', 'is', 'not', 'a', 'movie', 'that', 'is', 'a', 'make', 'or', 'break', 'experience', 'with', 'its', 'special', 'effects', 'but', 'they', 'do', 'add', 'a', 'good', 'element', 'to', 'the', 'overall', 'experience', 'of', 'the', 'movie']\n",
      "===================NLTK Tokenizer REMOVED TAGS===================\n",
      "['And', '``', 'The', 'Conjuring', ':', 'The', 'Devil', 'Made', 'Me', 'Do', 'It', \"''\", 'is', 'not', 'a', 'movie', 'that', 'is', 'a', 'make', 'or', 'break', 'experience', 'with', 'its', 'special', 'effects', ',', 'but', 'they', 'do', 'add', 'a', 'good', 'element', 'to', 'the', 'overall', 'experience', 'of', 'the', 'movie', '.']\n",
      "===================NLTK Tokenizer REMOVED CHARS AND DIGITS===================\n",
      "['And', 'The', 'Conjuring', 'The', 'Devil', 'Made', 'Me', 'Do', 'It', 'is', 'not', 'a', 'movie', 'that', 'is', 'a', 'make', 'or', 'break', 'experience', 'with', 'its', 'special', 'effects', 'but', 'they', 'do', 'add', 'a', 'good', 'element', 'to', 'the', 'overall', 'experience', 'of', 'the', 'movie']\n",
      "===================NLTK Tokenizer STEMMING APPLIED===================\n",
      "['and', '``', 'the', 'conjur', ':', 'the', 'devil', 'made', 'me', 'do', 'it', '``', 'is', 'not', 'a', 'movi', 'that', 'is', 'a', 'make', 'or', 'break', 'experi', 'with', 'it', 'special', 'effect', ',', 'but', 'they', 'do', 'add', 'a', 'good', 'element', 'to', 'the', 'overal', 'experi', 'of', 'the', 'movi', '.']\n",
      "===================NLTK Tokenizer LEMMATIZATION APPLIED===================\n",
      "['And', '``', 'The', 'Conjuring', ':', 'The', 'Devil', 'Made', 'Me', 'Do', 'It', '``', 'is', 'not', 'a', 'movie', 'that', 'is', 'a', 'make', 'or', 'break', 'experience', 'with', 'it', 'special', 'effect', ',', 'but', 'they', 'do', 'add', 'a', 'good', 'element', 'to', 'the', 'overall', 'experience', 'of', 'the', 'movie', '.']\n",
      "The acting in the movie was good, but of course we are talking about actor Patrick Wilson and actress Vera Farmiga here, whom singlehandedly have been carrying the franchise with their performances.\n",
      "===================NLTK Tokenizer===================\n",
      "['The', 'acting', 'in', 'the', 'movie', 'was', 'good', ',', 'but', 'of', 'course', 'we', 'are', 'talking', 'about', 'actor', 'Patrick', 'Wilson', 'and', 'actress', 'Vera', 'Farmiga', 'here', ',', 'whom', 'singlehandedly', 'have', 'been', 'carrying', 'the', 'franchise', 'with', 'their', 'performances', '.']\n",
      "===================NLTK Word NGRAM Tokenizer 2 words===================\n",
      "['The acting', 'acting in', 'in the', 'the movie', 'movie was', 'was good', 'good ,', ', but', 'but of', 'of course', 'course we', 'we are', 'are talking', 'talking about', 'about actor', 'actor Patrick', 'Patrick Wilson', 'Wilson and', 'and actress', 'actress Vera', 'Vera Farmiga', 'Farmiga here', 'here ,', ', whom', 'whom singlehandedly', 'singlehandedly have', 'have been', 'been carrying', 'carrying the', 'the franchise', 'franchise with', 'with their', 'their performances', 'performances .']\n",
      "===================NLTK Word NGRAM Tokenizer 3 words===================\n",
      "['The acting in', 'acting in the', 'in the movie', 'the movie was', 'movie was good', 'was good ,', 'good , but', ', but of', 'but of course', 'of course we', 'course we are', 'we are talking', 'are talking about', 'talking about actor', 'about actor Patrick', 'actor Patrick Wilson', 'Patrick Wilson and', 'Wilson and actress', 'and actress Vera', 'actress Vera Farmiga', 'Vera Farmiga here', 'Farmiga here ,', 'here , whom', ', whom singlehandedly', 'whom singlehandedly have', 'singlehandedly have been', 'have been carrying', 'been carrying the', 'carrying the franchise', 'the franchise with', 'franchise with their', 'with their performances', 'their performances .']\n",
      "===================Phrase Machine===================\n",
      "===================Rake===================\n",
      "['actress vera farmiga', 'actor patrick wilson', 'talking', 'singlehandedly', 'performances', 'movie', 'good', 'franchise', 'course', 'carrying', 'acting']\n",
      "===================NLTK Tokenizer===================\n",
      "['The', 'acting', 'in', 'the', 'movie', 'was', 'good', ',', 'but', 'of', 'course', 'we', 'are', 'talking', 'about', 'actor', 'Patrick', 'Wilson', 'and', 'actress', 'Vera', 'Farmiga', 'here', ',', 'whom', 'singlehandedly', 'have', 'been', 'carrying', 'the', 'franchise', 'with', 'their', 'performances', '.']\n",
      "===================NLTK Tokenizer LOWER CASE===================\n",
      "['the', 'acting', 'in', 'the', 'movie', 'was', 'good', ',', 'but', 'of', 'course', 'we', 'are', 'talking', 'about', 'actor', 'patrick', 'wilson', 'and', 'actress', 'vera', 'farmiga', 'here', ',', 'whom', 'singlehandedly', 'have', 'been', 'carrying', 'the', 'franchise', 'with', 'their', 'performances', '.']\n",
      "===================NLTK Tokenizer REMOVE STOP WORDS===================\n",
      "['The', 'acting', 'movie', 'good', ',', 'course', 'talking', 'actor', 'Patrick', 'Wilson', 'actress', 'Vera', 'Farmiga', ',', 'singlehandedly', 'carrying', 'franchise', 'performances', '.']\n",
      "===================NLTK Tokenizer REMOVED PUNCTUATION===================\n",
      "['The', 'acting', 'in', 'the', 'movie', 'was', 'good', 'but', 'of', 'course', 'we', 'are', 'talking', 'about', 'actor', 'Patrick', 'Wilson', 'and', 'actress', 'Vera', 'Farmiga', 'here', 'whom', 'singlehandedly', 'have', 'been', 'carrying', 'the', 'franchise', 'with', 'their', 'performances']\n",
      "===================NLTK Tokenizer REMOVED TAGS===================\n",
      "['The', 'acting', 'in', 'the', 'movie', 'was', 'good', ',', 'but', 'of', 'course', 'we', 'are', 'talking', 'about', 'actor', 'Patrick', 'Wilson', 'and', 'actress', 'Vera', 'Farmiga', 'here', ',', 'whom', 'singlehandedly', 'have', 'been', 'carrying', 'the', 'franchise', 'with', 'their', 'performances', '.']\n",
      "===================NLTK Tokenizer REMOVED CHARS AND DIGITS===================\n",
      "['The', 'acting', 'in', 'the', 'movie', 'was', 'good', 'but', 'of', 'course', 'we', 'are', 'talking', 'about', 'actor', 'Patrick', 'Wilson', 'and', 'actress', 'Vera', 'Farmiga', 'here', 'whom', 'singlehandedly', 'have', 'been', 'carrying', 'the', 'franchise', 'with', 'their', 'performances']\n",
      "===================NLTK Tokenizer STEMMING APPLIED===================\n",
      "['the', 'act', 'in', 'the', 'movi', 'wa', 'good', ',', 'but', 'of', 'cours', 'we', 'are', 'talk', 'about', 'actor', 'patrick', 'wilson', 'and', 'actress', 'vera', 'farmiga', 'here', ',', 'whom', 'singlehandedli', 'have', 'been', 'carri', 'the', 'franchis', 'with', 'their', 'perform', '.']\n",
      "===================NLTK Tokenizer LEMMATIZATION APPLIED===================\n",
      "['The', 'acting', 'in', 'the', 'movie', 'wa', 'good', ',', 'but', 'of', 'course', 'we', 'are', 'talking', 'about', 'actor', 'Patrick', 'Wilson', 'and', 'actress', 'Vera', 'Farmiga', 'here', ',', 'whom', 'singlehandedly', 'have', 'been', 'carrying', 'the', 'franchise', 'with', 'their', 'performance', '.']\n",
      "And true to the formula, they are the ones making it watchable again with the 2021 \"The Conjuring: The Devil Made Me Do It\".\n",
      "===================NLTK Tokenizer===================\n",
      "['And', 'true', 'to', 'the', 'formula', ',', 'they', 'are', 'the', 'ones', 'making', 'it', 'watchable', 'again', 'with', 'the', '2021', '``', 'The', 'Conjuring', ':', 'The', 'Devil', 'Made', 'Me', 'Do', 'It', \"''\", '.']\n",
      "===================NLTK Word NGRAM Tokenizer 2 words===================\n",
      "['And true', 'true to', 'to the', 'the formula', 'formula ,', ', they', 'they are', 'are the', 'the ones', 'ones making', 'making it', 'it watchable', 'watchable again', 'again with', 'with the', 'the 2021', '2021 ``', '`` The', 'The Conjuring', 'Conjuring :', ': The', 'The Devil', 'Devil Made', 'Made Me', 'Me Do', 'Do It', \"It ''\", \"'' .\"]\n",
      "===================NLTK Word NGRAM Tokenizer 3 words===================\n",
      "['And true to', 'true to the', 'to the formula', 'the formula ,', 'formula , they', ', they are', 'they are the', 'are the ones', 'the ones making', 'ones making it', 'making it watchable', 'it watchable again', 'watchable again with', 'again with the', 'with the 2021', 'the 2021 ``', '2021 `` The', '`` The Conjuring', 'The Conjuring :', 'Conjuring : The', ': The Devil', 'The Devil Made', 'Devil Made Me', 'Made Me Do', 'Me Do It', \"Do It ''\", \"It '' .\"]\n",
      "===================Phrase Machine===================\n",
      "===================Rake===================\n",
      "['ones making', 'devil made', 'watchable', 'true', 'formula', 'conjuring', '2021', '\".']\n",
      "===================NLTK Tokenizer===================\n",
      "['And', 'true', 'to', 'the', 'formula', ',', 'they', 'are', 'the', 'ones', 'making', 'it', 'watchable', 'again', 'with', 'the', '2021', '``', 'The', 'Conjuring', ':', 'The', 'Devil', 'Made', 'Me', 'Do', 'It', \"''\", '.']\n",
      "===================NLTK Tokenizer LOWER CASE===================\n",
      "['and', 'true', 'to', 'the', 'formula', ',', 'they', 'are', 'the', 'ones', 'making', 'it', 'watchable', 'again', 'with', 'the', '2021', '``', 'the', 'conjuring', ':', 'the', 'devil', 'made', 'me', 'do', 'it', \"''\", '.']\n",
      "===================NLTK Tokenizer REMOVE STOP WORDS===================\n",
      "['And', 'true', 'formula', ',', 'ones', 'making', 'watchable', '2021', '``', 'The', 'Conjuring', ':', 'The', 'Devil', 'Made', 'Me', 'Do', 'It', \"''\", '.']\n",
      "===================NLTK Tokenizer REMOVED PUNCTUATION===================\n",
      "['And', 'true', 'to', 'the', 'formula', 'they', 'are', 'the', 'ones', 'making', 'it', 'watchable', 'again', 'with', 'the', 'The', 'Conjuring', 'The', 'Devil', 'Made', 'Me', 'Do', 'It']\n",
      "===================NLTK Tokenizer REMOVED TAGS===================\n",
      "['And', 'true', 'to', 'the', 'formula', ',', 'they', 'are', 'the', 'ones', 'making', 'it', 'watchable', 'again', 'with', 'the', '2021', '``', 'The', 'Conjuring', ':', 'The', 'Devil', 'Made', 'Me', 'Do', 'It', \"''\", '.']\n",
      "===================NLTK Tokenizer REMOVED CHARS AND DIGITS===================\n",
      "['And', 'true', 'to', 'the', 'formula', 'they', 'are', 'the', 'ones', 'making', 'it', 'watchable', 'again', 'with', 'the', 'The', 'Conjuring', 'The', 'Devil', 'Made', 'Me', 'Do', 'It']\n",
      "===================NLTK Tokenizer STEMMING APPLIED===================\n",
      "['and', 'true', 'to', 'the', 'formula', ',', 'they', 'are', 'the', 'one', 'make', 'it', 'watchabl', 'again', 'with', 'the', '2021', '``', 'the', 'conjur', ':', 'the', 'devil', 'made', 'me', 'do', 'it', '``', '.']\n",
      "===================NLTK Tokenizer LEMMATIZATION APPLIED===================\n",
      "['And', 'true', 'to', 'the', 'formula', ',', 'they', 'are', 'the', 'one', 'making', 'it', 'watchable', 'again', 'with', 'the', '2021', '``', 'The', 'Conjuring', ':', 'The', 'Devil', 'Made', 'Me', 'Do', 'It', '``', '.']\n",
      "It should also be noted that the casting of Eugenie Bondurant as the occultist was a spot on choice, because she was genuinely creepy with her performance.\n",
      "===================NLTK Tokenizer===================\n",
      "['It', 'should', 'also', 'be', 'noted', 'that', 'the', 'casting', 'of', 'Eugenie', 'Bondurant', 'as', 'the', 'occultist', 'was', 'a', 'spot', 'on', 'choice', ',', 'because', 'she', 'was', 'genuinely', 'creepy', 'with', 'her', 'performance', '.']\n",
      "===================NLTK Word NGRAM Tokenizer 2 words===================\n",
      "['It should', 'should also', 'also be', 'be noted', 'noted that', 'that the', 'the casting', 'casting of', 'of Eugenie', 'Eugenie Bondurant', 'Bondurant as', 'as the', 'the occultist', 'occultist was', 'was a', 'a spot', 'spot on', 'on choice', 'choice ,', ', because', 'because she', 'she was', 'was genuinely', 'genuinely creepy', 'creepy with', 'with her', 'her performance', 'performance .']\n",
      "===================NLTK Word NGRAM Tokenizer 3 words===================\n",
      "['It should also', 'should also be', 'also be noted', 'be noted that', 'noted that the', 'that the casting', 'the casting of', 'casting of Eugenie', 'of Eugenie Bondurant', 'Eugenie Bondurant as', 'Bondurant as the', 'as the occultist', 'the occultist was', 'occultist was a', 'was a spot', 'a spot on', 'spot on choice', 'on choice ,', 'choice , because', ', because she', 'because she was', 'she was genuinely', 'was genuinely creepy', 'genuinely creepy with', 'creepy with her', 'with her performance', 'her performance .']\n",
      "===================Phrase Machine===================\n",
      "===================Rake===================\n",
      "['genuinely creepy', 'eugenie bondurant', 'spot', 'performance', 'occultist', 'noted', 'choice', 'casting', 'also']\n",
      "===================NLTK Tokenizer===================\n",
      "['It', 'should', 'also', 'be', 'noted', 'that', 'the', 'casting', 'of', 'Eugenie', 'Bondurant', 'as', 'the', 'occultist', 'was', 'a', 'spot', 'on', 'choice', ',', 'because', 'she', 'was', 'genuinely', 'creepy', 'with', 'her', 'performance', '.']\n",
      "===================NLTK Tokenizer LOWER CASE===================\n",
      "['it', 'should', 'also', 'be', 'noted', 'that', 'the', 'casting', 'of', 'eugenie', 'bondurant', 'as', 'the', 'occultist', 'was', 'a', 'spot', 'on', 'choice', ',', 'because', 'she', 'was', 'genuinely', 'creepy', 'with', 'her', 'performance', '.']\n",
      "===================NLTK Tokenizer REMOVE STOP WORDS===================\n",
      "['It', 'also', 'noted', 'casting', 'Eugenie', 'Bondurant', 'occultist', 'spot', 'choice', ',', 'genuinely', 'creepy', 'performance', '.']\n",
      "===================NLTK Tokenizer REMOVED PUNCTUATION===================\n",
      "['It', 'should', 'also', 'be', 'noted', 'that', 'the', 'casting', 'of', 'Eugenie', 'Bondurant', 'as', 'the', 'occultist', 'was', 'a', 'spot', 'on', 'choice', 'because', 'she', 'was', 'genuinely', 'creepy', 'with', 'her', 'performance']\n",
      "===================NLTK Tokenizer REMOVED TAGS===================\n",
      "['It', 'should', 'also', 'be', 'noted', 'that', 'the', 'casting', 'of', 'Eugenie', 'Bondurant', 'as', 'the', 'occultist', 'was', 'a', 'spot', 'on', 'choice', ',', 'because', 'she', 'was', 'genuinely', 'creepy', 'with', 'her', 'performance', '.']\n",
      "===================NLTK Tokenizer REMOVED CHARS AND DIGITS===================\n",
      "['It', 'should', 'also', 'be', 'noted', 'that', 'the', 'casting', 'of', 'Eugenie', 'Bondurant', 'as', 'the', 'occultist', 'was', 'a', 'spot', 'on', 'choice', 'because', 'she', 'was', 'genuinely', 'creepy', 'with', 'her', 'performance']\n",
      "===================NLTK Tokenizer STEMMING APPLIED===================\n",
      "['it', 'should', 'also', 'be', 'note', 'that', 'the', 'cast', 'of', 'eugeni', 'bondur', 'as', 'the', 'occultist', 'wa', 'a', 'spot', 'on', 'choic', ',', 'becaus', 'she', 'wa', 'genuin', 'creepi', 'with', 'her', 'perform', '.']\n",
      "===================NLTK Tokenizer LEMMATIZATION APPLIED===================\n",
      "['It', 'should', 'also', 'be', 'noted', 'that', 'the', 'casting', 'of', 'Eugenie', 'Bondurant', 'a', 'the', 'occultist', 'wa', 'a', 'spot', 'on', 'choice', ',', 'because', 'she', 'wa', 'genuinely', 'creepy', 'with', 'her', 'performance', '.']\n",
      "As I entered this movie with no expectations I can't say that I was disappointed with the end result.\n",
      "===================NLTK Tokenizer===================\n",
      "['As', 'I', 'entered', 'this', 'movie', 'with', 'no', 'expectations', 'I', 'ca', \"n't\", 'say', 'that', 'I', 'was', 'disappointed', 'with', 'the', 'end', 'result', '.']\n",
      "===================NLTK Word NGRAM Tokenizer 2 words===================\n",
      "['As I', 'I entered', 'entered this', 'this movie', 'movie with', 'with no', 'no expectations', 'expectations I', 'I ca', \"ca n't\", \"n't say\", 'say that', 'that I', 'I was', 'was disappointed', 'disappointed with', 'with the', 'the end', 'end result', 'result .']\n",
      "===================NLTK Word NGRAM Tokenizer 3 words===================\n",
      "['As I entered', 'I entered this', 'entered this movie', 'this movie with', 'movie with no', 'with no expectations', 'no expectations I', 'expectations I ca', \"I ca n't\", \"ca n't say\", \"n't say that\", 'say that I', 'that I was', 'I was disappointed', 'was disappointed with', 'disappointed with the', 'with the end', 'the end result', 'end result .']\n",
      "===================Phrase Machine===================\n",
      "===================Rake===================\n",
      "['end result', 'say', 'movie', 'expectations', 'entered', 'disappointed']\n",
      "===================NLTK Tokenizer===================\n",
      "['As', 'I', 'entered', 'this', 'movie', 'with', 'no', 'expectations', 'I', 'ca', \"n't\", 'say', 'that', 'I', 'was', 'disappointed', 'with', 'the', 'end', 'result', '.']\n",
      "===================NLTK Tokenizer LOWER CASE===================\n",
      "['as', 'i', 'entered', 'this', 'movie', 'with', 'no', 'expectations', 'i', 'ca', \"n't\", 'say', 'that', 'i', 'was', 'disappointed', 'with', 'the', 'end', 'result', '.']\n",
      "===================NLTK Tokenizer REMOVE STOP WORDS===================\n",
      "['As', 'I', 'entered', 'movie', 'expectations', 'I', 'ca', \"n't\", 'say', 'I', 'disappointed', 'end', 'result', '.']\n",
      "===================NLTK Tokenizer REMOVED PUNCTUATION===================\n",
      "['As', 'I', 'entered', 'this', 'movie', 'with', 'no', 'expectations', 'I', 'can', 't', 'say', 'that', 'I', 'was', 'disappointed', 'with', 'the', 'end', 'result']\n",
      "===================NLTK Tokenizer REMOVED TAGS===================\n",
      "['As', 'I', 'entered', 'this', 'movie', 'with', 'no', 'expectations', 'I', 'ca', \"n't\", 'say', 'that', 'I', 'was', 'disappointed', 'with', 'the', 'end', 'result', '.']\n",
      "===================NLTK Tokenizer REMOVED CHARS AND DIGITS===================\n",
      "['As', 'I', 'entered', 'this', 'movie', 'with', 'no', 'expectations', 'I', 'can', 't', 'say', 'that', 'I', 'was', 'disappointed', 'with', 'the', 'end', 'result']\n",
      "===================NLTK Tokenizer STEMMING APPLIED===================\n",
      "['as', 'i', 'enter', 'thi', 'movi', 'with', 'no', 'expect', 'i', 'ca', \"n't\", 'say', 'that', 'i', 'wa', 'disappoint', 'with', 'the', 'end', 'result', '.']\n",
      "===================NLTK Tokenizer LEMMATIZATION APPLIED===================\n",
      "['As', 'I', 'entered', 'this', 'movie', 'with', 'no', 'expectation', 'I', 'ca', \"n't\", 'say', 'that', 'I', 'wa', 'disappointed', 'with', 'the', 'end', 'result', '.']\n",
      "But take heed, this is by no means a milestone in the horror cinema.\n",
      "===================NLTK Tokenizer===================\n",
      "['But', 'take', 'heed', ',', 'this', 'is', 'by', 'no', 'means', 'a', 'milestone', 'in', 'the', 'horror', 'cinema', '.']\n",
      "===================NLTK Word NGRAM Tokenizer 2 words===================\n",
      "['But take', 'take heed', 'heed ,', ', this', 'this is', 'is by', 'by no', 'no means', 'means a', 'a milestone', 'milestone in', 'in the', 'the horror', 'horror cinema', 'cinema .']\n",
      "===================NLTK Word NGRAM Tokenizer 3 words===================\n",
      "['But take heed', 'take heed ,', 'heed , this', ', this is', 'this is by', 'is by no', 'by no means', 'no means a', 'means a milestone', 'a milestone in', 'milestone in the', 'in the horror', 'the horror cinema', 'horror cinema .']\n",
      "===================Phrase Machine===================\n",
      "===================Rake===================\n",
      "['take heed', 'horror cinema', 'milestone', 'means']\n",
      "===================NLTK Tokenizer===================\n",
      "['But', 'take', 'heed', ',', 'this', 'is', 'by', 'no', 'means', 'a', 'milestone', 'in', 'the', 'horror', 'cinema', '.']\n",
      "===================NLTK Tokenizer LOWER CASE===================\n",
      "['but', 'take', 'heed', ',', 'this', 'is', 'by', 'no', 'means', 'a', 'milestone', 'in', 'the', 'horror', 'cinema', '.']\n",
      "===================NLTK Tokenizer REMOVE STOP WORDS===================\n",
      "['But', 'take', 'heed', ',', 'means', 'milestone', 'horror', 'cinema', '.']\n",
      "===================NLTK Tokenizer REMOVED PUNCTUATION===================\n",
      "['But', 'take', 'heed', 'this', 'is', 'by', 'no', 'means', 'a', 'milestone', 'in', 'the', 'horror', 'cinema']\n",
      "===================NLTK Tokenizer REMOVED TAGS===================\n",
      "['But', 'take', 'heed', ',', 'this', 'is', 'by', 'no', 'means', 'a', 'milestone', 'in', 'the', 'horror', 'cinema', '.']\n",
      "===================NLTK Tokenizer REMOVED CHARS AND DIGITS===================\n",
      "['But', 'take', 'heed', 'this', 'is', 'by', 'no', 'means', 'a', 'milestone', 'in', 'the', 'horror', 'cinema']\n",
      "===================NLTK Tokenizer STEMMING APPLIED===================\n",
      "['but', 'take', 'heed', ',', 'thi', 'is', 'by', 'no', 'mean', 'a', 'mileston', 'in', 'the', 'horror', 'cinema', '.']\n",
      "===================NLTK Tokenizer LEMMATIZATION APPLIED===================\n",
      "['But', 'take', 'heed', ',', 'this', 'is', 'by', 'no', 'mean', 'a', 'milestone', 'in', 'the', 'horror', 'cinema', '.']\n",
      "\"The Conjuring: The Devil Made Me Do It\" came and went without leaving a lasting impression for me, just as the numerous other movies in the franchise - as their spin-off movies - have done.\n",
      "===================NLTK Tokenizer===================\n",
      "['``', 'The', 'Conjuring', ':', 'The', 'Devil', 'Made', 'Me', 'Do', 'It', \"''\", 'came', 'and', 'went', 'without', 'leaving', 'a', 'lasting', 'impression', 'for', 'me', ',', 'just', 'as', 'the', 'numerous', 'other', 'movies', 'in', 'the', 'franchise', '-', 'as', 'their', 'spin-off', 'movies', '-', 'have', 'done', '.']\n",
      "===================NLTK Word NGRAM Tokenizer 2 words===================\n",
      "['`` The', 'The Conjuring', 'Conjuring :', ': The', 'The Devil', 'Devil Made', 'Made Me', 'Me Do', 'Do It', \"It ''\", \"'' came\", 'came and', 'and went', 'went without', 'without leaving', 'leaving a', 'a lasting', 'lasting impression', 'impression for', 'for me', 'me ,', ', just', 'just as', 'as the', 'the numerous', 'numerous other', 'other movies', 'movies in', 'in the', 'the franchise', 'franchise -', '- as', 'as their', 'their spin-off', 'spin-off movies', 'movies -', '- have', 'have done', 'done .']\n",
      "===================NLTK Word NGRAM Tokenizer 3 words===================\n",
      "['`` The Conjuring', 'The Conjuring :', 'Conjuring : The', ': The Devil', 'The Devil Made', 'Devil Made Me', 'Made Me Do', 'Me Do It', \"Do It ''\", \"It '' came\", \"'' came and\", 'came and went', 'and went without', 'went without leaving', 'without leaving a', 'leaving a lasting', 'a lasting impression', 'lasting impression for', 'impression for me', 'for me ,', 'me , just', ', just as', 'just as the', 'as the numerous', 'the numerous other', 'numerous other movies', 'other movies in', 'movies in the', 'in the franchise', 'the franchise -', 'franchise - as', '- as their', 'as their spin-off', 'their spin-off movies', 'spin-off movies -', 'movies - have', '- have done', 'have done .']\n",
      "===================Phrase Machine===================\n",
      "===================Rake===================\n",
      "['went without leaving', 'lasting impression', 'devil made', 'spin', 'numerous', 'movies', 'movies', 'franchise', 'done', 'conjuring', 'came']\n",
      "===================NLTK Tokenizer===================\n",
      "['``', 'The', 'Conjuring', ':', 'The', 'Devil', 'Made', 'Me', 'Do', 'It', \"''\", 'came', 'and', 'went', 'without', 'leaving', 'a', 'lasting', 'impression', 'for', 'me', ',', 'just', 'as', 'the', 'numerous', 'other', 'movies', 'in', 'the', 'franchise', '-', 'as', 'their', 'spin-off', 'movies', '-', 'have', 'done', '.']\n",
      "===================NLTK Tokenizer LOWER CASE===================\n",
      "['``', 'the', 'conjuring', ':', 'the', 'devil', 'made', 'me', 'do', 'it', \"''\", 'came', 'and', 'went', 'without', 'leaving', 'a', 'lasting', 'impression', 'for', 'me', ',', 'just', 'as', 'the', 'numerous', 'other', 'movies', 'in', 'the', 'franchise', '-', 'as', 'their', 'spin-off', 'movies', '-', 'have', 'done', '.']\n",
      "===================NLTK Tokenizer REMOVE STOP WORDS===================\n",
      "['``', 'The', 'Conjuring', ':', 'The', 'Devil', 'Made', 'Me', 'Do', 'It', \"''\", 'came', 'went', 'without', 'leaving', 'lasting', 'impression', ',', 'numerous', 'movies', 'franchise', '-', 'spin-off', 'movies', '-', 'done', '.']\n",
      "===================NLTK Tokenizer REMOVED PUNCTUATION===================\n",
      "['The', 'Conjuring', 'The', 'Devil', 'Made', 'Me', 'Do', 'It', 'came', 'and', 'went', 'without', 'leaving', 'a', 'lasting', 'impression', 'for', 'me', 'just', 'as', 'the', 'numerous', 'other', 'movies', 'in', 'the', 'franchise', 'as', 'their', 'spin', 'off', 'movies', 'have', 'done']\n",
      "===================NLTK Tokenizer REMOVED TAGS===================\n",
      "['``', 'The', 'Conjuring', ':', 'The', 'Devil', 'Made', 'Me', 'Do', 'It', \"''\", 'came', 'and', 'went', 'without', 'leaving', 'a', 'lasting', 'impression', 'for', 'me', ',', 'just', 'as', 'the', 'numerous', 'other', 'movies', 'in', 'the', 'franchise', '-', 'as', 'their', 'spin-off', 'movies', '-', 'have', 'done', '.']\n",
      "===================NLTK Tokenizer REMOVED CHARS AND DIGITS===================\n",
      "['The', 'Conjuring', 'The', 'Devil', 'Made', 'Me', 'Do', 'It', 'came', 'and', 'went', 'without', 'leaving', 'a', 'lasting', 'impression', 'for', 'me', 'just', 'as', 'the', 'numerous', 'other', 'movies', 'in', 'the', 'franchise', 'as', 'their', 'spin', 'off', 'movies', 'have', 'done']\n",
      "===================NLTK Tokenizer STEMMING APPLIED===================\n",
      "['``', 'the', 'conjur', ':', 'the', 'devil', 'made', 'me', 'do', 'it', '``', 'came', 'and', 'went', 'without', 'leav', 'a', 'last', 'impress', 'for', 'me', ',', 'just', 'as', 'the', 'numer', 'other', 'movi', 'in', 'the', 'franchis', '-', 'as', 'their', 'spin-off', 'movi', '-', 'have', 'done', '.']\n",
      "===================NLTK Tokenizer LEMMATIZATION APPLIED===================\n",
      "['``', 'The', 'Conjuring', ':', 'The', 'Devil', 'Made', 'Me', 'Do', 'It', '``', 'came', 'and', 'went', 'without', 'leaving', 'a', 'lasting', 'impression', 'for', 'me', ',', 'just', 'a', 'the', 'numerous', 'other', 'movie', 'in', 'the', 'franchise', '-', 'a', 'their', 'spin-off', 'movie', '-', 'have', 'done', '.']\n",
      "I can't tell them apart if you were to ask me what the second movie was about, for instance.\n",
      "===================NLTK Tokenizer===================\n",
      "['I', 'ca', \"n't\", 'tell', 'them', 'apart', 'if', 'you', 'were', 'to', 'ask', 'me', 'what', 'the', 'second', 'movie', 'was', 'about', ',', 'for', 'instance', '.']\n",
      "===================NLTK Word NGRAM Tokenizer 2 words===================\n",
      "['I ca', \"ca n't\", \"n't tell\", 'tell them', 'them apart', 'apart if', 'if you', 'you were', 'were to', 'to ask', 'ask me', 'me what', 'what the', 'the second', 'second movie', 'movie was', 'was about', 'about ,', ', for', 'for instance', 'instance .']\n",
      "===================NLTK Word NGRAM Tokenizer 3 words===================\n",
      "[\"I ca n't\", \"ca n't tell\", \"n't tell them\", 'tell them apart', 'them apart if', 'apart if you', 'if you were', 'you were to', 'were to ask', 'to ask me', 'ask me what', 'me what the', 'what the second', 'the second movie', 'second movie was', 'movie was about', 'was about ,', 'about , for', ', for instance', 'for instance .']\n",
      "===================Phrase Machine===================\n",
      "===================Rake===================\n",
      "['second movie', 'tell', 'instance', 'ask', 'apart']\n",
      "===================NLTK Tokenizer===================\n",
      "['I', 'ca', \"n't\", 'tell', 'them', 'apart', 'if', 'you', 'were', 'to', 'ask', 'me', 'what', 'the', 'second', 'movie', 'was', 'about', ',', 'for', 'instance', '.']\n",
      "===================NLTK Tokenizer LOWER CASE===================\n",
      "['i', 'ca', \"n't\", 'tell', 'them', 'apart', 'if', 'you', 'were', 'to', 'ask', 'me', 'what', 'the', 'second', 'movie', 'was', 'about', ',', 'for', 'instance', '.']\n",
      "===================NLTK Tokenizer REMOVE STOP WORDS===================\n",
      "['I', 'ca', \"n't\", 'tell', 'apart', 'ask', 'second', 'movie', ',', 'instance', '.']\n",
      "===================NLTK Tokenizer REMOVED PUNCTUATION===================\n",
      "['I', 'can', 't', 'tell', 'them', 'apart', 'if', 'you', 'were', 'to', 'ask', 'me', 'what', 'the', 'second', 'movie', 'was', 'about', 'for', 'instance']\n",
      "===================NLTK Tokenizer REMOVED TAGS===================\n",
      "['I', 'ca', \"n't\", 'tell', 'them', 'apart', 'if', 'you', 'were', 'to', 'ask', 'me', 'what', 'the', 'second', 'movie', 'was', 'about', ',', 'for', 'instance', '.']\n",
      "===================NLTK Tokenizer REMOVED CHARS AND DIGITS===================\n",
      "['I', 'can', 't', 'tell', 'them', 'apart', 'if', 'you', 'were', 'to', 'ask', 'me', 'what', 'the', 'second', 'movie', 'was', 'about', 'for', 'instance']\n",
      "===================NLTK Tokenizer STEMMING APPLIED===================\n",
      "['i', 'ca', \"n't\", 'tell', 'them', 'apart', 'if', 'you', 'were', 'to', 'ask', 'me', 'what', 'the', 'second', 'movi', 'wa', 'about', ',', 'for', 'instanc', '.']\n",
      "===================NLTK Tokenizer LEMMATIZATION APPLIED===================\n",
      "['I', 'ca', \"n't\", 'tell', 'them', 'apart', 'if', 'you', 'were', 'to', 'ask', 'me', 'what', 'the', 'second', 'movie', 'wa', 'about', ',', 'for', 'instance', '.']\n",
      "My rating of the 2021 \"The Conjuring: The Devil Made Me Do It\" lands on a less than mediocre four out of ten stars.\n",
      "===================NLTK Tokenizer===================\n",
      "['My', 'rating', 'of', 'the', '2021', '``', 'The', 'Conjuring', ':', 'The', 'Devil', 'Made', 'Me', 'Do', 'It', \"''\", 'lands', 'on', 'a', 'less', 'than', 'mediocre', 'four', 'out', 'of', 'ten', 'stars', '.']\n",
      "===================NLTK Word NGRAM Tokenizer 2 words===================\n",
      "['My rating', 'rating of', 'of the', 'the 2021', '2021 ``', '`` The', 'The Conjuring', 'Conjuring :', ': The', 'The Devil', 'Devil Made', 'Made Me', 'Me Do', 'Do It', \"It ''\", \"'' lands\", 'lands on', 'on a', 'a less', 'less than', 'than mediocre', 'mediocre four', 'four out', 'out of', 'of ten', 'ten stars', 'stars .']\n",
      "===================NLTK Word NGRAM Tokenizer 3 words===================\n",
      "['My rating of', 'rating of the', 'of the 2021', 'the 2021 ``', '2021 `` The', '`` The Conjuring', 'The Conjuring :', 'Conjuring : The', ': The Devil', 'The Devil Made', 'Devil Made Me', 'Made Me Do', 'Me Do It', \"Do It ''\", \"It '' lands\", \"'' lands on\", 'lands on a', 'on a less', 'a less than', 'less than mediocre', 'than mediocre four', 'mediocre four out', 'four out of', 'out of ten', 'of ten stars', 'ten stars .']\n",
      "===================Phrase Machine===================\n",
      "===================Rake===================\n",
      "['ten stars', 'mediocre four', 'devil made', 'rating', 'less', 'lands', 'conjuring', '2021']\n",
      "===================NLTK Tokenizer===================\n",
      "['My', 'rating', 'of', 'the', '2021', '``', 'The', 'Conjuring', ':', 'The', 'Devil', 'Made', 'Me', 'Do', 'It', \"''\", 'lands', 'on', 'a', 'less', 'than', 'mediocre', 'four', 'out', 'of', 'ten', 'stars', '.']\n",
      "===================NLTK Tokenizer LOWER CASE===================\n",
      "['my', 'rating', 'of', 'the', '2021', '``', 'the', 'conjuring', ':', 'the', 'devil', 'made', 'me', 'do', 'it', \"''\", 'lands', 'on', 'a', 'less', 'than', 'mediocre', 'four', 'out', 'of', 'ten', 'stars', '.']\n",
      "===================NLTK Tokenizer REMOVE STOP WORDS===================\n",
      "['My', 'rating', '2021', '``', 'The', 'Conjuring', ':', 'The', 'Devil', 'Made', 'Me', 'Do', 'It', \"''\", 'lands', 'less', 'mediocre', 'four', 'ten', 'stars', '.']\n",
      "===================NLTK Tokenizer REMOVED PUNCTUATION===================\n",
      "['My', 'rating', 'of', 'the', 'The', 'Conjuring', 'The', 'Devil', 'Made', 'Me', 'Do', 'It', 'lands', 'on', 'a', 'less', 'than', 'mediocre', 'four', 'out', 'of', 'ten', 'stars']\n",
      "===================NLTK Tokenizer REMOVED TAGS===================\n",
      "['My', 'rating', 'of', 'the', '2021', '``', 'The', 'Conjuring', ':', 'The', 'Devil', 'Made', 'Me', 'Do', 'It', \"''\", 'lands', 'on', 'a', 'less', 'than', 'mediocre', 'four', 'out', 'of', 'ten', 'stars', '.']\n",
      "===================NLTK Tokenizer REMOVED CHARS AND DIGITS===================\n",
      "['My', 'rating', 'of', 'the', 'The', 'Conjuring', 'The', 'Devil', 'Made', 'Me', 'Do', 'It', 'lands', 'on', 'a', 'less', 'than', 'mediocre', 'four', 'out', 'of', 'ten', 'stars']\n",
      "===================NLTK Tokenizer STEMMING APPLIED===================\n",
      "['my', 'rate', 'of', 'the', '2021', '``', 'the', 'conjur', ':', 'the', 'devil', 'made', 'me', 'do', 'it', '``', 'land', 'on', 'a', 'less', 'than', 'mediocr', 'four', 'out', 'of', 'ten', 'star', '.']\n",
      "===================NLTK Tokenizer LEMMATIZATION APPLIED===================\n",
      "['My', 'rating', 'of', 'the', '2021', '``', 'The', 'Conjuring', ':', 'The', 'Devil', 'Made', 'Me', 'Do', 'It', '``', 'land', 'on', 'a', 'le', 'than', 'mediocre', 'four', 'out', 'of', 'ten', 'star', '.']\n",
      "Sure, it was a watchable movie, and if you are new to the horror genre, then you will be in for something good I suppose.\n",
      "===================NLTK Tokenizer===================\n",
      "['Sure', ',', 'it', 'was', 'a', 'watchable', 'movie', ',', 'and', 'if', 'you', 'are', 'new', 'to', 'the', 'horror', 'genre', ',', 'then', 'you', 'will', 'be', 'in', 'for', 'something', 'good', 'I', 'suppose', '.']\n",
      "===================NLTK Word NGRAM Tokenizer 2 words===================\n",
      "['Sure ,', ', it', 'it was', 'was a', 'a watchable', 'watchable movie', 'movie ,', ', and', 'and if', 'if you', 'you are', 'are new', 'new to', 'to the', 'the horror', 'horror genre', 'genre ,', ', then', 'then you', 'you will', 'will be', 'be in', 'in for', 'for something', 'something good', 'good I', 'I suppose', 'suppose .']\n",
      "===================NLTK Word NGRAM Tokenizer 3 words===================\n",
      "['Sure , it', ', it was', 'it was a', 'was a watchable', 'a watchable movie', 'watchable movie ,', 'movie , and', ', and if', 'and if you', 'if you are', 'you are new', 'are new to', 'new to the', 'to the horror', 'the horror genre', 'horror genre ,', 'genre , then', ', then you', 'then you will', 'you will be', 'will be in', 'be in for', 'in for something', 'for something good', 'something good I', 'good I suppose', 'I suppose .']\n",
      "===================Phrase Machine===================\n",
      "===================Rake===================\n",
      "['watchable movie', 'something good', 'horror genre', 'sure', 'suppose', 'new']\n",
      "===================NLTK Tokenizer===================\n",
      "['Sure', ',', 'it', 'was', 'a', 'watchable', 'movie', ',', 'and', 'if', 'you', 'are', 'new', 'to', 'the', 'horror', 'genre', ',', 'then', 'you', 'will', 'be', 'in', 'for', 'something', 'good', 'I', 'suppose', '.']\n",
      "===================NLTK Tokenizer LOWER CASE===================\n",
      "['sure', ',', 'it', 'was', 'a', 'watchable', 'movie', ',', 'and', 'if', 'you', 'are', 'new', 'to', 'the', 'horror', 'genre', ',', 'then', 'you', 'will', 'be', 'in', 'for', 'something', 'good', 'i', 'suppose', '.']\n",
      "===================NLTK Tokenizer REMOVE STOP WORDS===================\n",
      "['Sure', ',', 'watchable', 'movie', ',', 'new', 'horror', 'genre', ',', 'something', 'good', 'I', 'suppose', '.']\n",
      "===================NLTK Tokenizer REMOVED PUNCTUATION===================\n",
      "['Sure', 'it', 'was', 'a', 'watchable', 'movie', 'and', 'if', 'you', 'are', 'new', 'to', 'the', 'horror', 'genre', 'then', 'you', 'will', 'be', 'in', 'for', 'something', 'good', 'I', 'suppose']\n",
      "===================NLTK Tokenizer REMOVED TAGS===================\n",
      "['Sure', ',', 'it', 'was', 'a', 'watchable', 'movie', ',', 'and', 'if', 'you', 'are', 'new', 'to', 'the', 'horror', 'genre', ',', 'then', 'you', 'will', 'be', 'in', 'for', 'something', 'good', 'I', 'suppose', '.']\n",
      "===================NLTK Tokenizer REMOVED CHARS AND DIGITS===================\n",
      "['Sure', 'it', 'was', 'a', 'watchable', 'movie', 'and', 'if', 'you', 'are', 'new', 'to', 'the', 'horror', 'genre', 'then', 'you', 'will', 'be', 'in', 'for', 'something', 'good', 'I', 'suppose']\n",
      "===================NLTK Tokenizer STEMMING APPLIED===================\n",
      "['sure', ',', 'it', 'wa', 'a', 'watchabl', 'movi', ',', 'and', 'if', 'you', 'are', 'new', 'to', 'the', 'horror', 'genr', ',', 'then', 'you', 'will', 'be', 'in', 'for', 'someth', 'good', 'i', 'suppos', '.']\n",
      "===================NLTK Tokenizer LEMMATIZATION APPLIED===================\n",
      "['Sure', ',', 'it', 'wa', 'a', 'watchable', 'movie', ',', 'and', 'if', 'you', 'are', 'new', 'to', 'the', 'horror', 'genre', ',', 'then', 'you', 'will', 'be', 'in', 'for', 'something', 'good', 'I', 'suppose', '.']\n",
      "But if you expect a bit more from the movies you sit down to watch then \"The Conjuring: The Devil Made Me Do It\" just doesn't cut it.\n",
      "===================NLTK Tokenizer===================\n",
      "['But', 'if', 'you', 'expect', 'a', 'bit', 'more', 'from', 'the', 'movies', 'you', 'sit', 'down', 'to', 'watch', 'then', '``', 'The', 'Conjuring', ':', 'The', 'Devil', 'Made', 'Me', 'Do', 'It', \"''\", 'just', 'does', \"n't\", 'cut', 'it', '.']\n",
      "===================NLTK Word NGRAM Tokenizer 2 words===================\n",
      "['But if', 'if you', 'you expect', 'expect a', 'a bit', 'bit more', 'more from', 'from the', 'the movies', 'movies you', 'you sit', 'sit down', 'down to', 'to watch', 'watch then', 'then ``', '`` The', 'The Conjuring', 'Conjuring :', ': The', 'The Devil', 'Devil Made', 'Made Me', 'Me Do', 'Do It', \"It ''\", \"'' just\", 'just does', \"does n't\", \"n't cut\", 'cut it', 'it .']\n",
      "===================NLTK Word NGRAM Tokenizer 3 words===================\n",
      "['But if you', 'if you expect', 'you expect a', 'expect a bit', 'a bit more', 'bit more from', 'more from the', 'from the movies', 'the movies you', 'movies you sit', 'you sit down', 'sit down to', 'down to watch', 'to watch then', 'watch then ``', 'then `` The', '`` The Conjuring', 'The Conjuring :', 'Conjuring : The', ': The Devil', 'The Devil Made', 'Devil Made Me', 'Made Me Do', 'Me Do It', \"Do It ''\", \"It '' just\", \"'' just does\", \"just does n't\", \"does n't cut\", \"n't cut it\", 'cut it .']\n",
      "===================Phrase Machine===================\n",
      "===================Rake===================\n",
      "['devil made', 'watch', 'sit', 'movies', 'expect', 'cut', 'conjuring', 'bit']\n",
      "===================NLTK Tokenizer===================\n",
      "['But', 'if', 'you', 'expect', 'a', 'bit', 'more', 'from', 'the', 'movies', 'you', 'sit', 'down', 'to', 'watch', 'then', '``', 'The', 'Conjuring', ':', 'The', 'Devil', 'Made', 'Me', 'Do', 'It', \"''\", 'just', 'does', \"n't\", 'cut', 'it', '.']\n",
      "===================NLTK Tokenizer LOWER CASE===================\n",
      "['but', 'if', 'you', 'expect', 'a', 'bit', 'more', 'from', 'the', 'movies', 'you', 'sit', 'down', 'to', 'watch', 'then', '``', 'the', 'conjuring', ':', 'the', 'devil', 'made', 'me', 'do', 'it', \"''\", 'just', 'does', \"n't\", 'cut', 'it', '.']\n",
      "===================NLTK Tokenizer REMOVE STOP WORDS===================\n",
      "['But', 'expect', 'bit', 'movies', 'sit', 'watch', '``', 'The', 'Conjuring', ':', 'The', 'Devil', 'Made', 'Me', 'Do', 'It', \"''\", \"n't\", 'cut', '.']\n",
      "===================NLTK Tokenizer REMOVED PUNCTUATION===================\n",
      "['But', 'if', 'you', 'expect', 'a', 'bit', 'more', 'from', 'the', 'movies', 'you', 'sit', 'down', 'to', 'watch', 'then', 'The', 'Conjuring', 'The', 'Devil', 'Made', 'Me', 'Do', 'It', 'just', 'doesn', 't', 'cut', 'it']\n",
      "===================NLTK Tokenizer REMOVED TAGS===================\n",
      "['But', 'if', 'you', 'expect', 'a', 'bit', 'more', 'from', 'the', 'movies', 'you', 'sit', 'down', 'to', 'watch', 'then', '``', 'The', 'Conjuring', ':', 'The', 'Devil', 'Made', 'Me', 'Do', 'It', \"''\", 'just', 'does', \"n't\", 'cut', 'it', '.']\n",
      "===================NLTK Tokenizer REMOVED CHARS AND DIGITS===================\n",
      "['But', 'if', 'you', 'expect', 'a', 'bit', 'more', 'from', 'the', 'movies', 'you', 'sit', 'down', 'to', 'watch', 'then', 'The', 'Conjuring', 'The', 'Devil', 'Made', 'Me', 'Do', 'It', 'just', 'doesn', 't', 'cut', 'it']\n",
      "===================NLTK Tokenizer STEMMING APPLIED===================\n",
      "['but', 'if', 'you', 'expect', 'a', 'bit', 'more', 'from', 'the', 'movi', 'you', 'sit', 'down', 'to', 'watch', 'then', '``', 'the', 'conjur', ':', 'the', 'devil', 'made', 'me', 'do', 'it', '``', 'just', 'doe', \"n't\", 'cut', 'it', '.']\n",
      "===================NLTK Tokenizer LEMMATIZATION APPLIED===================\n",
      "['But', 'if', 'you', 'expect', 'a', 'bit', 'more', 'from', 'the', 'movie', 'you', 'sit', 'down', 'to', 'watch', 'then', '``', 'The', 'Conjuring', ':', 'The', 'Devil', 'Made', 'Me', 'Do', 'It', '``', 'just', 'doe', \"n't\", 'cut', 'it', '.']\n"
     ]
    }
   ],
   "source": [
    "#Explore different extractors and difference preprocessing techniques\n",
    "for sentence in sentences:\n",
    "    print(sentence)\n",
    "    print(\"===================NLTK Tokenizer===================\")\n",
    "    print(run_nltk_tokenizer(sentence))\n",
    "    print(\"===================NLTK Word NGRAM Tokenizer 2 words===================\")\n",
    "    print(run_nltk_tokenizer_word_ngrams(sentence,2))\n",
    "    print(\"===================NLTK Word NGRAM Tokenizer 3 words===================\")\n",
    "    print(run_nltk_tokenizer_word_ngrams(sentence,3))\n",
    "    print(\"===================Phrase Machine===================\")\n",
    "    #phrases=run_phrase_machine(sentence)\n",
    "    #for term in phrases[\"counts\"].keys():\n",
    "    #    print(term)\n",
    "    print(\"===================Rake===================\")\n",
    "    print(run_rake(sentence))\n",
    "    print(\"===================NLTK Tokenizer===================\")\n",
    "    print(run_nltk_tokenizer((sentence)))\n",
    "    print(\"===================NLTK Tokenizer LOWER CASE===================\")\n",
    "    print(run_nltk_tokenizer(lower_case(sentence)))\n",
    "    print(\"===================NLTK Tokenizer REMOVE STOP WORDS===================\")\n",
    "    print(remove_stop_words(sentence))   \n",
    "    print(\"===================NLTK Tokenizer REMOVED PUNCTUATION===================\")\n",
    "    print(run_nltk_tokenizer(remove_punctuation(sentence)))\n",
    "    print(\"===================NLTK Tokenizer REMOVED TAGS===================\")\n",
    "    print(run_nltk_tokenizer(remove_tags(sentence)))\n",
    "    print(\"===================NLTK Tokenizer REMOVED CHARS AND DIGITS===================\")\n",
    "    print(run_nltk_tokenizer(remove_special_chars_and_digits(sentence)))\n",
    "    print(\"===================NLTK Tokenizer STEMMING APPLIED===================\")\n",
    "    print(run_nltk_tokenizer(apply_stemming(sentence)))\n",
    "    print(\"===================NLTK Tokenizer LEMMATIZATION APPLIED===================\")\n",
    "    print(run_nltk_tokenizer(apply_lemmatization(sentence)))\n",
    "    #break"
   ]
  },
  {
   "cell_type": "markdown",
   "id": "60b2b627",
   "metadata": {},
   "source": [
    "EDA with a dictionary created using a for loop instead of the above code:"
   ]
  },
  {
   "cell_type": "code",
   "execution_count": 174,
   "id": "80e7a5bd",
   "metadata": {
    "collapsed": true
   },
   "outputs": [
    {
     "data": {
      "text/plain": [
       "{'EMU_Doc1_TheConjuring3': ['I must admit that when I sat down to watch the 2021 addition to \"The Conjuring\" franchise, I was not harboring much of any overly great expectations or hopes, because since the first movie it has been a steady downward slope.',\n",
       "  'Still, as I had the chance to sit down and watch \"The Conjuring: The Devil Made Me Do It\" from writers David Leslie Johnson-McGoldrick and James Wan.',\n",
       "  'So of course I did it.',\n",
       "  'And I have to say that director Michael Chaves managed to deliver a movie that was only slightly entertaining.',\n",
       "  '\"The Conjuring: The Devil Made Me Do It\" was a whole lot of nothing going on, and you can essentially just watch the beginning and the last 25 minutes of the movie and skip on everything in between.',\n",
       "  'The storyline written for \"The Conjuring: The Devil Made Me Do It\" was bland and slow paced, with very little of much excitement or interest happening in between the start and the end of the movie.',\n",
       "  'And that ultimately led to a less than mediocre movie experience for me.',\n",
       "  'And yeah, I am a horror veteran, so \"The Conjuring: The Devil Made Me Do It\" was a walk in park.',\n",
       "  'There were a few jump scare moments to be had here, but they could be seen coming a mile away.',\n",
       "  \"And the storyline wasn't particularly dark, brooding or scary.\",\n",
       "  'So this was not an impressive foray into the horror genre.',\n",
       "  'I will say that the special effects in \"The Conjuring: The Devil Made Me Do It\" were good, and they definitely added something worthwhile to the movie.',\n",
       "  'And \"The Conjuring: The Devil Made Me Do It\" is not a movie that is a make or break experience with its special effects, but they do add a good element to the overall experience of the movie.',\n",
       "  'The acting in the movie was good, but of course we are talking about actor Patrick Wilson and actress Vera Farmiga here, whom singlehandedly have been carrying the franchise with their performances.',\n",
       "  'And true to the formula, they are the ones making it watchable again with the 2021 \"The Conjuring: The Devil Made Me Do It\".',\n",
       "  'It should also be noted that the casting of Eugenie Bondurant as the occultist was a spot on choice, because she was genuinely creepy with her performance.',\n",
       "  \"As I entered this movie with no expectations I can't say that I was disappointed with the end result.\",\n",
       "  'But take heed, this is by no means a milestone in the horror cinema.',\n",
       "  '\"The Conjuring: The Devil Made Me Do It\" came and went without leaving a lasting impression for me, just as the numerous other movies in the franchise - as their spin-off movies - have done.',\n",
       "  \"I can't tell them apart if you were to ask me what the second movie was about, for instance.\",\n",
       "  'My rating of the 2021 \"The Conjuring: The Devil Made Me Do It\" lands on a less than mediocre four out of ten stars.',\n",
       "  'Sure, it was a watchable movie, and if you are new to the horror genre, then you will be in for something good I suppose.',\n",
       "  'But if you expect a bit more from the movies you sit down to watch then \"The Conjuring: The Devil Made Me Do It\" just doesn\\'t cut it.'],\n",
       " 'EMU_Doc2_TheConjuring3': ['While The Conjuring franchise has stood as one of the most successful and impressive horror series from the past few decades,\\xa0The Conjuring: The Devil Made Me Do It\\xa0had enough on paper to put the status of the sequel in question.',\n",
       "  \"Coming as the third film in the main series, the film ditched the legendary\\xa0James Wan\\xa0as director with\\xa0Michael Chaves\\xa0instead stepping up to the role after his work on 2019's\\xa0The Curse of La Llorona\\xa0which is universally known as one of the worst editions in the cinematic universe.\",\n",
       "  'With a shaky main trailer and this change in crew, it was natural to feel iffy walking into the film only for it to surprise greatly with a unique yet captivating story that built on the strengths of the franchise to confidently find a fresh and new direction.',\n",
       "  'Throughout nearly every film within this cinematic universe, one of the brightest spots of the universe has been the cinematic portrayals of The Warrens played by\\xa0Patrick Wilson\\xa0and\\xa0Vera Farmiga.',\n",
       "  \"With an undeniable chemistry and charm, these two have been the blood and soul of the franchise with\\xa0The Conjuring: The Devil Made Me Do\\xa0It\\xa0putting this relationship front and center within the film's drama and focus.\",\n",
       "  'As the couple investigates a mysterious case of possession, they find themselves hunted and targeted with the stakes being more personal than ever.',\n",
       "  'The drive from each actor and character to protect the other and make it out of the situation alive is more than enough to hook the audience and give the film a unique sense of humanity and drama.',\n",
       "  'Where there are still demons and possession around nearly every corner,\\xa0The Conjuring: The Devil Made Me Do It\\xa0has a unique threat that is far more grounded in the human world which gives an incredibly unique dynamic to the tension and horror within the film.',\n",
       "  'In this sense, the film has to be considered a massive success for\\xa0Michael Chaves\\xa0who clearly put a unique touch on the feature that at times feels bold and confident.',\n",
       "  \"Chaves\\xa0isn't simply trying to recreate the magic James Wan brought to the earlier editions of the series but rather is trying to evolve the material and film to stand on its own.\",\n",
       "  'Where this switch in focus does provide some of the strongest moments of the film, it also can cause a sense of disruption within the soul of the movie.',\n",
       "  'The Conjuring: The Devil Made Me Do It\\xa0often sides more with the identity of a mystery crime thriller than a jumpscare horror film with the movie never fully willing to completely reinvent itself.',\n",
       "  \"Where there are some more horrifying sequences towards the end that naturally build and fit into the film's narrative, the majority of the jumpscare sequences to come before the closing feel really out of place and forced.\",\n",
       "  'Clearly the film was worried about losing the core audience that has come to love the terrifying horror up to this point and included these scenes to cheaply attempt to please these fans despite not really making sense in the context of the film.',\n",
       "  'These scenes stand out not just due to the more messy attempts to write them into the narrative but also due to the lesser quality of horror in which they feature.',\n",
       "  'Unlike the wind-up box of the first film or any of the gimmicks within the second, the aesthetic and gimmicks within this feature are instantly forgettable and overall feel lackluster.',\n",
       "  \"Where the other Conjuring films from the main series has truly struck a sense of terror within audiences,\\xa0The Conjuring: The Devil Made Me Do It\\xa0fails to come close to achieving this but considering its focus is in a different place, that isn't nearly as damming as a statement as it might seem.\",\n",
       "  'Where\\xa0The Conjuring: The Devil Made Me Do It\\xa0might not be the most horrifying edition in the Conjuring franchise and universe, it still is a rather successful film taking a more personable and grounded approach that will suck audiences in for a fun yet thrilling adventure held together by likable characters and an overarching theme of love.',\n",
       "  'Where some diehard fans of the franchise might reject this new direction, for plenty it will prove effective and it seems like even with Wan stepping away from the franchise he has worked to build the franchise has the potential to continue to give worthwhile sequels and battles with the paranormal.'],\n",
       " 'EMU_Doc3_TheConjuring3': ['We’re well into the world and the lore of the Warrens.',\n",
       "  'Ed and Lorraine, the fictional versions of the real-life paranormal investigators, have held our hands through some of the most terrifying haunts and spared would-be victims of demons using their skills and love.',\n",
       "  'The third in the prime canon, (and the eighth in\\xa0The Conjuring Universe) is here with some more of the same, and that’s exactly what I wanted.',\n",
       "  'The Conjuring: The Devil Made Me Do It\\xa0tackles the grim case of Arne Johnson.',\n",
       "  'The Warren’s (Vera Farmiga and Patrick Wilson) visit a farmhouse to assist in exorcising a demon from a young boy named David (Julian Hillard).',\n",
       "  'When they’re seemingly bested by the beast, David’s boarding brother, Arne (Ruairi O’Connor), offers himself to the demon as a vessel.',\n",
       "  'With no one noticing how the ordeal concludes, they return to normal life expecting the sunshine and birds chirping ending has arrived.',\n",
       "  'But Arne, now in the arms of a demonic presence, kills the landlord and swears the devil made him do it.',\n",
       "  'With the support of the Warren’s and his girlfriend, Debbie (Sarah Catherine Hook), Arne intends to present his criminal defence as such.',\n",
       "  'The Warrens set off on a path of discovering the nature of this curse and, in doing so, get incredibly close to the spirit in a way that puts them in the line of hellfire.',\n",
       "  'Convincing skeptics and law enforcement on the way, they uncover connections to other mysterious deaths and the work of Satanist cults in bringing these horrors to life.',\n",
       "  'What jumps off from the exorcism platform is another installment in a familiar franchise.',\n",
       "  'For those who find comfort in the demonic-techno-babble space, this movie will feel like haunted home.',\n",
       "  'It follows a mostly similar formula to religious horror flicks, specifically its own franchise cohorts, but brings just enough freshness to the format to not feel like a rehash.',\n",
       "  'Director, Michael Chaves, has done a beautiful job taking enough of what James Wan did with the first two installments while still making this film is own.',\n",
       "  'Wan is known for the resurrection of the jump-scare, perfecting it in this franchise and\\xa0Insidious, and Chaves stays true to that style while forging his own path.',\n",
       "  'He uses lighting, quick cuts, and spooky apparitions to keep the tone familiar enough while shedding the door-slam-jump-scares of his predecessor.',\n",
       "  'Chaves nods at his cohorts, with a shot that feels plucked from\\xa0The Exorcist, another reminiscent of\\xa0Evil Dead,\\xa0and moments that feel like\\xa0The Autopsy of Jane Doe.',\n",
       "  'It’s refreshing to allow other favourites to slip into a franchise that’s already created its own distinct tone.',\n",
       "  'It’s hard to not miss Wan, but Chaves does a good job justifying bringing on fresh (rotting) meat.',\n",
       "  'Wan is not completely absent, however, and has story credit along with screenwriter, David Leslie Johnson-McGoldrick (who also worked with Wan on\\xa0Aquaman\\xa0and\\xa0The Conjuring 2).',\n",
       "  'This franchise truly belongs in the warm embrace of Farmiga and Wilson who continue to excel.',\n",
       "  'Everything is held together by their warmth and love, and it remains the thread and motivation that keeps everyone alive.',\n",
       "  'Wilson’s concern for his wife’s well-being would make anyone clutch their own beating heart, and their relationship is never better exemplified than when Lorraine enters a dangerous tunnel and asks a concerned Ed to hold her purse.',\n",
       "  'Not to be outdone, O’Connor brings jarring physicality to his role as a young man possessed that is reminiscent of other religious horror flicks that force you to sympathize with an inability to eat, sleep, or quiet the voices.',\n",
       "  'Hilliard (The Haunting of Hill House,\\xa0WandaVision), though he doesn’t spend a tonne of time on screen, gives the dynamic and heartbreaking dual performance of a tiny demon and an adorable scamp.',\n",
       "  'Thought you’ll be left begging for more, John Noble’s turn as a tortured former priest with a host of warnings for the Warren family, brings a subtle heartbreak to his role that makes him so much more than a walking exposition dump.',\n",
       "  'Eugenie Bondurant as a slender apparition is a welcome addition to the long list of Warren adversaries.',\n",
       "  'Truly, everyone is acting at their best which raises up this otherwise by-the-numbers possession story.',\n",
       "  'The pink goat in the room is the real-life story of Arne Johnson.',\n",
       "  'The hook of these films has always been using the case files of the Warren’s, stories that have been adapted for lots of spooky favourites like\\xa0The Amityville Horror\\xa0and\\xa0The Haunting in Connecticut.',\n",
       "  'By taking on a more petrifying case, the stakes have been raised to a point where these characters are in impending danger.',\n",
       "  'This time, the demons have taken human life, and the beloved believers are desperately trying to stop it from happening again.',\n",
       "  'The addition of human antagonists pushes this franchise into a darker place which does just enough to revitalize the common premises woven throughout the universe.',\n",
       "  'The Conjuring\\xa0opened the gates to tell us tales of hauntings, poltergeists, and demons that are based just enough in reality to make us think it could happen to us.',\n",
       "  'By grounding the spooks in tales of love, they’ve put a spin on the familiar that makes us want to hug the paranormal investigator who plays guitar.',\n",
       "  'The Conjuring: The Devil Made Me Do It\\xa0is another take on the same that breathes enough new life into the genre to avoid it ever becoming a rotting corpse.'],\n",
       " 'EMU_Doc4_TheConjuring3': [\"James Wan's 2013 feature\\xa0The Conjuring\\xa0was something special.\",\n",
       "  'The haunted house thriller inspired by the real-life investigation of Ed and Lorraine Warren struck a chord with modern audiences and critics alike.',\n",
       "  'Instead of crafting a CGI-heavy shock\\xa0fest, Wan gave the film humor, heart, genuine scares, and characters that felt real.',\n",
       "  'The same can be said for the impressive follow-up which arrived in theatres in 2016.',\n",
       "  'And now, after a year of dealing with rescheduling due to COVID-19, the third installment is finally here.',\n",
       "  'While\\xa0The Conjuring: The Devil Made Me Do It\\xa0finds the return of both Vera Farmiga and Patrick Wilson as Lorraine and Ed, it is the first time Wan has not been directing the fantastic duo – well, aside from their brief inclusion in the enjoyable\\xa0Annabelle Comes Home.',\n",
       "  \"This time,\\xa0The Curse of la Llorona's Michael Chaves is ready to bring a little bit of supernatural horror to a theatre, or a television, near you with its theatrical and\\xa0HBO Max release on Friday.\",\n",
       "  'It all begins with an exorcism gone wrong.',\n",
       "  \"We've seen Ed and Lorraine's success, but here we see what happens when the demonic entity isn't fully vanquished.\",\n",
       "  \"When a young boy named David Glatzel (Julian Hilliard) barely survives a horrific possession, things become momentarily quiet for the lad, as well as his sister Debbie (Sarah Catherine Hook) and her boyfriend Arne Cheyanne Jackson (Ruairi O'Connor).\",\n",
       "  'Yet this family and the Warrens have something far more sinister waiting after a tragic event occurs.',\n",
       "  'After\\xa0Arne murders\\xa0his landlord, he\\xa0is discovered\\xa0wandering the streets covered in blood.',\n",
       "  'What happened and why did he do it?',\n",
       "  'This crime led to the first U.S. court case where a defendant claimed he was the victim of demonic possession.',\n",
       "  'Was Arne truly becoming host to something evil?',\n",
       "  'Or are there more secrets to be discovered as they come closer to that very answer?',\n",
       "  \"I'll leave out the details as this case leads the Warrens on a slightly different type of investigation into the unknown.\",\n",
       "  'As a fan of\\xa0The Conjuring\\xa0film series, I was concerned bringing in another director with a different vision may not be the best choice for the third film.',\n",
       "  \"Thankfully, Michael Chaves has not only continued in the tradition of the first two but he's also added a unique element into the mix, one that brings a bit of devilish fun to the proceedings.\",\n",
       "  'Chaves creates a moody and dread-filled horror show, one that works beautifully within the house the Wan built.',\n",
       "  'Much like the previous films, Michael smartly navigates between the human drama and the more horrific images on display.',\n",
       "  'And there are certainly a few spooks\\xa0and scares to satisfy fans of the series – with the use of fantastic practical effects that will leave you in awe, especially thanks to the incredible contortion work by stunt double Emerald Gordon Wulf.',\n",
       "  'The opening sequence alone is a gut punch and is easily one of the best moments in The Conjuring Universe.',\n",
       "  'As well, the filmmaker manages to bring the same level of empathy to the people existing on-screen.',\n",
       "  'And then there are the franchise regulars.',\n",
       "  'Not surprisingly, Vera Farmiga and Patrick Wilson shine every moment they’re on-screen in this haunting sequel.',\n",
       "  'The two actors continue to bring something truly refreshing to these big-screen versions of Ed and Lorraine.',\n",
       "  \"Certainly, there are some that question whether or not the real-life Warrens did more good than harm – and perhaps that's something that may curb the excitement for a few\\xa0genre fans.\",\n",
       "  'Yet in this cinematic landscape, both actors continue to bring grace, humanity, and warmth to the characters they play.',\n",
       "  'The care and love that they express for each other on-screen translate beautifully in this continuation.',\n",
       "  \"As the two grew in the second film, it's clear that both Ms. Farmiga and Mr. Wilson have a deep respect for each other, as well as the roles they've taken on.\",\n",
       "  'And yes, the third time is a charm.',\n",
       "  'The film brings the Warrens into contact with the side story from the very beginning.',\n",
       "  'And what a\\xa0story it is.',\n",
       "  \"Sarah Catherine Hook and Ruairi O'Connor are terrific as a young couple facing off against this dark and powerful force.\",\n",
       "  \"The two are very effective, and they play off the film's main protagonist especially well.\",\n",
       "  'Again, the focus on the characters makes it far easier to sympathize with the strange goings-on.',\n",
       "  'In addition, young Julian Hilliard is excellent\\xa0as a\\xa0young boy battling for his very soul.',\n",
       "  \"It's also nice to see some of the regulars return including Shannon Kook as Drew who works with the Warrens, as well as Steve Coulter as Father Gordon.\",\n",
       "  \"It's also nice\\xa0to see the same actress take on the role of Judy Warren with Sterling Jerins' return – McKenna Grace took on the role in the Gary Dauberman directed spin-off\\xa0Annebelle Comes Home.\",\n",
       "  'Much like the previous films, this is a wickedly scary return, with excellent performances from both Farmiga and Wilson.',\n",
       "  'The Conjuring: The Devil Made Me Do It\\xa0is a smart and well-crafted horror sequel.',\n",
       "  'While there may be a small handful of extra jump scares, many of them work rather well.',\n",
       "  'Happily, the third feature still makes excellent\\xa0use of practical effects and offers a villain that is likely to give you the creeps.',\n",
       "  'Three films in and the original Conjuring franchise still works.',\n",
       "  'This paranormal tale manages to bring something more to your basic big-screen horror show.',\n",
       "  \"Even if you might be one of the many ready to pounce and say that without Wan, this series won't work, those willing to resist that bias will surely be entertained as his influence is always clear.\",\n",
       "  \"While the Satanic element may be a bit surprising – and perhaps there's a slight\\xa0tongue-in-cheekiness on\\xa0occasion – there is much to delight in with this frightfully fun sequel.\",\n",
       "  'The Conjuring: The Devil Made Me Do It\\xa0continues to bring a fantastic blend of horror and heart to genre fans everywhere.'],\n",
       " 'EMU_Doc5_TheConjuring3': ['Two\\xa0Conjuring\\xa0films and several spinoffs established a substantial following and a few key expectations.',\n",
       "  'Expect horror’s favorite cinematic couple to encounter terror in notorious haunted house cases, at least one memorable supernatural entity with spinoff appeal, and an endless barrage of effective chills that keep viewers as invested as the central romance.',\n",
       "  'The newest\\xa0Conjuring\\xa0movie subverts many expectations for its third outing to ensure this franchise stays fresh and unpredictable.',\n",
       "  'The Conjuring: The Devil Made Me Do It\\xa0marks a new, exhilarating direction for the series, dialing up the intensity to deliver the darkest entry yet.',\n",
       "  'Opening with a climactic scene that establishes crucial plot points that will run throughout,\\xa0The Devil Made Me Do It\\xa0tackles the case of Arne Johnson (Ruairi O’Connor), who murdered his landlord in 1981.',\n",
       "  'His defense?',\n",
       "  'Arne was possessed.',\n",
       "  'Ed (Patrick Wilson) and Lorraine (Vera Farmiga) were heavily involved with a case involving the family of Johnson’s fiancée, Debbie Glatzel (Sarah Catherine Hook).',\n",
       "  'A significant health crisis took their attention away from the Glatzels until tragedy struck.',\n",
       "  'Now, with Arne facing death row, the Warrens must team up with the local authorities to get to the bottom of it all before it’s too late.',\n",
       "  'At this point of the series, it’s clear that this is no longer\\xa0James Wan‘s\\xa0franchise but Wilson and Farmiga’s.',\n",
       "  'Their fictionalized versions of the Warrens bring emotional resonance to these films, and it’s this iteration of Ed and Lorraine that connects so much with audiences.',\n",
       "  'They know their characters well, too.',\n",
       "  'Wan, who has story credit here, knows it.',\n",
       "  'He and screenwriter\\xa0David Leslie Johnson-McGoldrick\\xa0put even greater emphasis on their romance, raising the stakes even higher for them in the process.',\n",
       "  'Lorraine does the heaviest lifting of all as her powers get tested to their limits, and her adversary presents a diabolical dichotomy.',\n",
       "  'This sequel brings the scary-good fun, but it’s also a poignant love story.',\n",
       "  'Director\\xa0Michael Chaves\\xa0shows a keen understanding of the\\xa0Conjuring\\xa0films, at once paying homage to both the series and classic horror while fearlessly taking bold swings.',\n",
       "  'The filmmaker’s preference in keeping as much on camera as possible lends to several thrilling and innovative scare moments.',\n",
       "  'The nature of this particular case opens up the world beyond the confines of a haunted house, creating many memorable set pieces as well.',\n",
       "  'This movie might showcase Wilson and Farmiga, but the supporting cast further enriches the sequel with fantastic performances.',\n",
       "  'O’Connor brings surprising physicality to his tormented character, and\\xa0Julian Hilliard\\xa0once again charms as a mature soul trapped within an innocent.',\n",
       "  'Look for\\xa0John Noble\\xa0to stand out as a haunted character that makes exposition delivery so heartbreaking and compelling.',\n",
       "  'The Devil Made Me Do It\\xa0draws basis from a true-crime case with actual victims.',\n",
       "  'The previous entries featured zero human victims, which already establishes the darker, more mature tone here.',\n",
       "  'Johnson-McGoldrick, Wan, and Chaves take it a step further by dabbling with an even darker threat that removes any sense of safety for the protagonists and supporting players.',\n",
       "  'The Warrens’ unwavering devotion to each other offsets the body count and grim subject matter.',\n",
       "  'The result is a thrilling new entry full of surprises and hair-raising intensity that zips along and leaves you clamoring for more.',\n",
       "  'Chaves seamlessly takes the reins from Wan and runs with it, bringing a wholly different experience that still feels like a warm reunion with horror’s favorite couple.'],\n",
       " 'EMU_Doc6_TheConjuring3': ['Right from the first movie, James Wan had bigger plans for\\xa0The Conjuring\\xa0universe than just a straightforward series of horror movies.',\n",
       "  \"The Conjuring\\xa0spawned the\\xa0Annabelle\\xa0franchise and then\\xa0The Conjuring 2\\xa0saw the series go into\\xa0full MCU mode, including several different baddies intended for future spin-offs (although so far we've only had\\xa0The Nun).\",\n",
       "  \"We've even had a surprise\\xa0Conjuring\\xa0universe\\xa0movie in\\xa0The Curse of La Llorona, thanks to an unexpected crossover character.\",\n",
       "  \"It's easy to forget that the basis of the series was in the real-life experiences of demonologists Ed and Lorraine Warren.\",\n",
       "  \"The third movie in the 'main' series,\\xa0The Conjuring: The Devil Made Me Do It, however, takes it back to basics – and it proves to be a terrifying fresh direction.\",\n",
       "  \"Gone (mostly) are the\\xa0nods to previous movies\\xa0and any set-up for future ones, with the movie solely focusing on the darkest case of the Warrens' career: the trial of Arne Cheyenne Johnson.\",\n",
       "  'Back in 1981, Johnson killed his landlord and when it came to the trial, he claimed demonic possession as a defence to his actions.',\n",
       "  \"It was believed the demon came from a previous exorcism of David Glatzel, the younger brother of Johnson's girlfriend Debbie, where both he and the Warrens were in attendance.\",\n",
       "  \"The Conjuring: The Devil Made Me Do It's\\xa0intense opening\\xa0will terrify you whether you believe in demons or not.\",\n",
       "  \"It centres on the exorcism of David Glatzel and sees director Michael Chaves unashamedly lean into\\xa0The Exorcist, right down to the arrival of the priest, and it'll satisfy any horror fan.\",\n",
       "  \"With some impressive practical effects, it's a breathless start and hints that this isn't a typical\\xa0Conjuring\\xa0movie as the Warrens don't succeed.\",\n",
       "  \"The effects of that failure see Johnson (played by Ruairi O'Connor) plagued by the same demon that had a hold on David Glatzel, eventually leading to Johnson fatally stabbing his landlord.\",\n",
       "  \"It's here when the Warrens got back involved (both in real life and in the movie), but\\xa0The Conjuring: The Devil Made Me Do It\\xa0doesn't become a courtroom drama.\",\n",
       "  \"In real life, the defence was thrown out fairly quickly, which doesn't leave much of a movie.\",\n",
       "  'Chaves and writer David Leslie Johnson-McGoldrick instead turn the movie into\\xa0CSI: Conjuring\\xa0as the Warrens investigate the apparent possession of Johnson.',\n",
       "  'As in the previous\\xa0Conjuring\\xa0movies, the plot sets up the scares and also delves into the relationship between Ed and Lorraine Warren.',\n",
       "  \"Patrick Wilson and Vera Farmiga are terrific, unsurprisingly, and it's pleasing that the third movie sees Farmiga take on a more central role.\",\n",
       "  'If it\\'s\\xa0not quite a \"love story\" as Farmiga says, there are still some sweet moments between the two that add to the heightened emotion of the finale.',\n",
       "  \"What's impressive is that we know both of them are going to be OK, yet their committed performances mean we're always nervous.\",\n",
       "  'Chaves puts them in some brilliantly-crafted set pieces, including an unforgettable morgue sequence, that test the pair to their limits and they never fail.',\n",
       "  \"Horror performances aren't recognised enough, and Wilson and Farmiga deserve every plaudit going.\",\n",
       "  'While their investigation is mostly fictional, it does show some fascinating insight into how the Warrens started to work more with police on these kinds of cases.',\n",
       "  \"It brings a new angle to the series as we're not seeing the Warrens investigate a haunting house as it happens, while Chaves also adds moments of levity that we're just not used to seeing in this series.\",\n",
       "  \"Chaves is clearly a horror fan too and doesn't forget to keep the scares coming at a regular pace, even when Lorraine Warren is busy being a paranormal detective.\",\n",
       "  'There are nods to several horror classics and rather than feeling like a rip-off, they feel like a loving homage and add an extra level to the set pieces that will leave you peering into every shadow.',\n",
       "  \"If you're being especially critical, you might also take umbrage with the movie using a real-life case of murder as the jumping point for a fictional horror tale, one that has no nuance in terms of what happened to Johnson.\",\n",
       "  \"This movie, as the others have in the series, treats demons as very real, because that's how the Warrens viewed it and the\\xa0Conjuring\\xa0series is their story.\",\n",
       "  \"That's unlikely to bother fans of the series though as it's what they expect, although\\xa0The Conjuring: The Devil Made Me Do It\\xa0still brings them something new too.\",\n",
       "  'You might not believe that the devil made him do it, but you will be terrified.'],\n",
       " 'EMU_Doc7_TheConjuring3': ['Money is no issue for\\xa0The Conjuring\\xa0films.',\n",
       "  'The series is one of the biggest, most convoluted studio IPs that doesn’t derive from comic books, and the core films of James Wan’s demonic Catholic cinematic universe are some of the most expensive looking horror films being made today.',\n",
       "  'They’re wonderfully period accurate with beautiful touches, incredible camera rigging, and detailed costuming.',\n",
       "  'Extravagant set pieces be damned, though – including a well-executed scene involving a luxurious waterbed –\\xa0The Conjuring: The Devil Made Me Do It\\xa0doesn’t live up to the bone-chilling focus, simplicity, and direction of Wan’s first film in this bloated eight-part series.',\n",
       "  'The Devil Made Me Do It\\xa0director Michael Chaves replicates Wan’s flair the best he can, with sweeping wide shots of gorgeous houses and quiet, misleading spooky sequences that erect into clutch-your-pearls jump scares.',\n",
       "  'There’s even a visual callback to the first film’s signature scare, an attempt to recreate the tension of Lili Taylor’s infamous basement clap game by stuffing Vera Farmiga, who plays medium Lorraine Warren, in a tiny crawlspace under the obligatory cursed family home.',\n",
       "  'Chaves is a smooth copycat, much better at recreating Wan’s vision than the\\xa0Annabelle\\xa0and\\xa0Nun\\xa0spinoffs that swirl around the main series, to a point where it’s debatable as to how much of the directorial reigns Chaves held, and if\\xa0The Devil Made Me Do It\\xa0was even half as good as its genre neighbor,\\xa0Poltergeist, this could be a film where people debated the truth behind the director credit for decades.',\n",
       "  'But to buy into\\xa0The Devil Made Me Do It, Chaves, Wan, and co-writer David Leslie Johnson-McGoldrick ask you to buy into the innocence of a small-town upstanding gentleman, Arne (O’Connor), who couldn’t have possibly murdered the boss and landlord of his girlfriend, Debbie Glatzel (Hook).',\n",
       "  'The series being based on the case files of the real-life Warrens, two notorious con artists who profited off desperate people, was never much of a distraction until this particular entry.',\n",
       "  'The Devil Made Me Do It\\xa0showcases Ed Warren (Wilson) and wife Lorraine hopping around the judicial system, proving the existence of demons, and defeating skepticism in ways that Dana Scully and Fox Mulder could never.',\n",
       "  'Set in the thick of the Satanic Panic, the Warrens sincere case of Arne’s innocence is disturbing, negligent, and even dangerous.',\n",
       "  'The Devil Made Me Do It\\xa0twists reality (in truth, the demon defense was not accepted in court), and plays it up as fact, something that’s not often an issue but in an age where conspiracy is increasingly running amok, this entry feels a bit more misguided.',\n",
       "  'The Devil Made Me Do It’s mystery is weighed down in explosive set pieces and grander acts of devotion, both religious and martial, which loses the focus of the (albeit dull) setup.',\n",
       "  \"An overlong climax that channels both\\xa0The Exorcist\\xa0and\\xa0The Shining\\xa0is tired by tropes, snapping back and forth between Arne’s battle against the evil forces that still possess him in jail and the Warrens' even grander battle against the Big Bad Occult-Obsessed Witch who is the baddie pulling the strings.\",\n",
       "  'There’s an explicit theme of “love conquers all,” as seen in both Debbie and Arne’s loyalty and the Warrens’ ongoing blistering passion.',\n",
       "  'It’s a thread that clicks more in the preceding films, and one that is exhausted in this entry.',\n",
       "  'It’s disappointing to stop rooting for a blockbuster behemoth horror series, but\\xa0The Conjuring\\xa0movies’ quality and talon-tight hold has rapidly deflated over time.',\n",
       "  'The films have lost sight of what made them grand, escapist, and celebrated, and burning the “based on true events” marquee to evoke sympathy in this particular case is disengaging.'],\n",
       " 'EMU_Doc8_TheConjuring3': ['When a film trots out the phrase “based on a true story,” that can mean a lot of things, from a meticulous recreation of well-documented events (albeit with some dramatic license) to a largely constructed fiction that borrows a couple of ostensibly true elements from a preexisting story.',\n",
       "  'But if the “true story” in question already has a complicated relationship with veracity?',\n",
       "  'Well … then you get “The Conjuring” films.',\n",
       "  'The latest installment in the increasingly sprawling horror franchise is “The Conjuring: The Devil Made Me Do It.” It’s the third “Conjuring” film proper, though there have been a number of spin-off/tangentially connected movies as well.',\n",
       "  'Directed by Michael Chaves from a screenplay by David Leslie Johnson-McGoldrick, it’s a continuation of the supernatural adventures of paranormal investigators Ed and Lorraine Warren.',\n",
       "  'As with any franchise, the law of diminishing returns is in play; this one is no exception.',\n",
       "  'While it does feature some solid performances and a couple of decent jump scares, the truth is that this new offering doesn’t reach the level of the previous two films in the series.',\n",
       "  'In 1981, Ed (Patrick Wilson, “Midway”) and Lorraine (Vera Farmiga, “Godzilla: King of the Monsters”) Warren are participating in an exorcism, attempting to rid eight-year-old David Glatzel (Jullian Hilliard, TV’s “WandaVision”) of the demonic presence possessing him.',\n",
       "  'His parents are there by his side, as are his sister Debbie (Sarah Catherine Hook in her feature debut) and Debbie’s boyfriend Arne (Ruairi O’Connor, “The Postcard Killings”).',\n",
       "  'But when things go awry and David starts hurting people, chaos ensues.',\n",
       "  'And in the midst of that chaos – which includes Ed suffering a serious heart attack and David’s dad getting stabbed in the leg – Arne takes it upon himself to try and rectify the situation.',\n",
       "  'He invites the demon inside David to take him instead.',\n",
       "  'You can probably guess how well that plays out.',\n",
       "  'It isn’t long before Arne’s own situation begins to spiral.',\n",
       "  'And when the demon inside him drives him to commit a horrific act of violence, he finds himself imprisoned, in shackles and awaiting a trial for a crime that, depending on your perspective, he didn’t actually commit.',\n",
       "  'The Warrens begin investigating the situation in an effort to free Arne and prove, for the first time in a courtroom, that it was in fact the devil that made him do it.',\n",
       "  '“The Conjuring: The Devil Made Me Do It” bills itself as based on a true story.',\n",
       "  'That phrasing is even trickier than usual here because of the reputation of the real-life Ed and Lorraine Warren as deluded dupes at best and grifting charlatans at worst.',\n",
       "  'Is this film based on the “true story” as put forth by the Warrens?',\n",
       "  'Sure.',\n",
       "  'Is that story ACTUALLY true?',\n",
       "  'All signs point to no.',\n",
       "  'That said, the veracity of the source material has little to do with the movie itself, at least in this case.',\n",
       "  'The relative truth or untruth of the account doesn’t matter – it’s a movie, after all.',\n",
       "  'And a horror movie at that.',\n",
       "  'If it’s effective as a film, the rest is immaterial.',\n",
       "  'Unfortunately, it isn’t.',\n",
       "  'There’s something absent from “TDMMDI,” the spark that made the first film (and to a slightly lesser extent, the second) work.',\n",
       "  'As portrayed on-screen, the work done by the Warrens is spooky and terrifying and dangerous, charged with a sense of precariousness.',\n",
       "  'It’s a balancing act, with the Warrens standing at the fulcrum preventing others from being trapped forever in darkness.',\n",
       "  'But that sense of balance never fully comes through here.',\n",
       "  'This film is absolutely lousy with standard-issue tropes.',\n",
       "  'The exorcism and possession scenes are grisly, but grisly in the same way they’ve been shown on film for decades now.',\n",
       "  'The various subplots all feel rote, as if they’ve simply been copied from other (and better) films.',\n",
       "  'There’s just nothing much about this film that feels new.',\n",
       "  'Even if you leave aside the fact that this is the third film in the series and the eighth (!)',\n",
       "  'in the franchise overall, there has to be room for something new.',\n",
       "  'Instead, it’s all retread and rehash, a churn of greatest hits that is less than the sum of its parts.',\n",
       "  'None of the blame for this should be placed on the cast, though.',\n",
       "  'Frankly, the only reason this film works as much as it does is because of the work being put in by Patrick Wilson and especially Vera Farmiga.',\n",
       "  'Both are talented actors who have never quite received the credit those talents warrant, though their presence in this franchise likely helps their bottom lines even if it doesn’t burnish their reputations.',\n",
       "  'Still, they bring a screwball-adjacent energy to the Warrens, which works well even in the horror context; their chemistry is enough to keep the film afloat as it thrashes through its convoluted-yet-familiar narrative beats.',\n",
       "  'The supporting cast does fine work as well, if not quite to the level of Wilson and Farmiga.',\n",
       "  'Playing the possessed in these sorts of films is a weird and complicated gig, but both Hilliard and O’Connor handle it well.',\n",
       "  'O’Connor’s general gormlessness serves as a nice counterpoint to when things get nuts.',\n",
       "  'If her work here in her feature debut is any indication, Hook might be one to watch – it’s a thankless role, but she handles herself well.',\n",
       "  'John Noble, Eugenie Bondurant and Ronnie Gene Blevins also do solid work in roles that I won’t delve into; spoiler, you know?',\n",
       "  'No, this film falls short due to the generally uninspired direction of Chaves and the murky messiness of Johnson-McGoldrick’s script.',\n",
       "  'It’s expected that a film series will gradually dip in quality, but this is far more of a drop-off than you might anticipate.',\n",
       "  'It more or less maintains the standard “The Conjuring” ethos, but fails to find any sort of real resonance.',\n",
       "  '“The Conjuring: The Devil Made Me Do It” is a mediocre extension of a cinematic universe that may have reached its sell-by date.',\n",
       "  'There are flashes, but for the most part, it simply fails to engage.',\n",
       "  'Big picture, one could argue it’s OK, but hey – the devil is in the details.'],\n",
       " 'EMU_Doc9_TheConjuring3': ['The so-called \"Conjuring universe\" is so successful, it’s scary.',\n",
       "  'The franchise of horror films built around the exploits of married ghostbusters Ed and Lorraine Warren has scared up a tidy $1.8 billion in box office revenues since the first\\xa0Conjuring\\xa0movie debuted in 2013.',\n",
       "  'The Conjuring: The Devil Made Me Do It, is the third official film in the series, which also encompasses three\\xa0Annabelle\\xa0movies and\\xa0The Nun.',\n",
       "  'It’s also perhaps the least likable of the series.',\n",
       "  'Proximity may have something to do with that.',\n",
       "  'The best film of the bunch was the last one,\\xa0Annabelle Comes Home, a fun haunted-house romp reminiscent of some goofy William Castle thrillers of yesteryear.',\n",
       "  'Part of its appeal was that it jettisoned the religious overtones that run through many of the other films.',\n",
       "  'Conjuring 3, by comparison, seems a bloviating affair, layering a few\\xa0Exorcist\\xa0references for all to see, but never once matching that 1973 classic for its take-no-prisoners approach to screen horror.',\n",
       "  'As the film begins, in the year 1981, we find Ed (Patrick Wilson) and Lorraine (Vera Farmiga) at a remote farmhouse attempting to exorcise a malevolent spirit that has taken hold of a young boy (Julian Hilliard), bending the kid like a Stretch Armstrong doll.',\n",
       "  'Also in attendance is the kid’s older sister Debbie (Sarah Catherine Hook) and her boyfriend Arne (Ruairi O’Connor) who, in an effort to impress his girlfriend, invites the demon to possess him instead.',\n",
       "  'The demon obliges, but in the chaos, only Ed notices, and he is quickly sidelined by a badly timed heart attack.',\n",
       "  'When he regains consciousness, he tells Lorraine to warn the family.',\n",
       "  'Alas, by this time, Arne has apparently been possessed and has attacked his landlord, who is so obnoxious, one can’t help think there might be a viable defence for justifiable homicide.',\n",
       "  'Nope, Arne’s defence attorney opts to plead \"not guilty by reason of demonic possession\" at Ed and Lorraine’s urging.',\n",
       "  'Ed reasons that since God comes up during a swearing-in ceremony, it’s high time the devil got his due in the legal system.',\n",
       "  '(A reminder: This is actually based on a real case.)',\n",
       "  'Now the couple just has to find some kind of proof of possession, a journey that will see them investigate another murder and consult with the retired priest Kastner (John Noble), who happens to have a basement filled with evil artifacts to rival Ed and Lorraine’s own demonic rec room.',\n",
       "  'Kastner seems to know what the Warrens are up against and warns them: \"A master Satanist is not an adversary to be taken lightly.” Indeed, when the \"occultist\" reveals herself (Eugenie Bondurant is thin as a razor and just as intimidating) the stage is set for a double-whammy climax involving Arne in the penitentiary while Ed and Lorraine confront their evil adversary.',\n",
       "  'Director Michael Chaves arrives at this film after directing the disappointing\\xa0The Curse of la Llorona, a Hollywood-ized take on a chilling figure from Mexican horror mythology.',\n",
       "  'While he delivers plenty of the requisite ooga-booga with technical skill, the film never really achieves the friction to create an authentic frisson of fear.',\n",
       "  'In the role of exorcism’s \"it couple,\" Wilson is his likable sincere self, and one could forgive Farmiga anything because she’s always good, even as the telepathically endowed Lorraine.',\n",
       "  'But even they’re starting to induce pain like that spiked cilice Paul Bettany wore on his thigh in the role of a zealous Catholic assassin in\\xa0The Da Vinci Code: a constant reminder of the\\xa0Conjuring’s\\xa0dogmatic premise that there’s no evil that can’t be dispersed with a spritz of holy water.'],\n",
       " 'EMU_Doc10_TheConjuring3': ['I remember seeing James Wan’s The Conjuring for the first time in 2017 and being completely petrified during the entire runtime to the point where I couldn’t sleep at night.',\n",
       "  'The film was so effective at utilizing familiar horror cues, such as jump scares, and reinventing them in a way where it would fit its increasingly eerie atmosphere and become amazingly scary.',\n",
       "  'Wan is extremely literate with classic horror and knows exactly how to subvert tropes to pull the audience in, and his two Conjuring films are the only good pictures in this ever-expansive “cinematic universe” filled with pedantic spinoff films such as the Annabelle trilogy (with a\\xa0somewhat decent middle chapter\\xa0by David F. Sandberg), the dreadful\\xa0The Nun\\xa0and the awfully generic\\xa0The Curse of La Llorona.',\n",
       "  'When it was announced that La Llorona filmmaker Michael Chaves would helm the latest installment in the saga of Ed and Lorraine Warren, The Conjuring: The Devil Made Me Do It, warning signs were already flashing in the back of my mind.',\n",
       "  'Not only was La Llorona a terribly ordinary horror film filled with the most predictable and unimaginative jump scares you can possibly think of, it also had a drab digital aesthetic and an extremely convoluted story.',\n",
       "  'The streak continues for Chaves, as The Devil Made Me Do It manages to turn the most exciting supernatural horror I’ve seen since Richard Donner’s The Omen into a tedious jump scare-filled picture that’s not only uninterested in what it wants to say, but is also exceedingly unscary.',\n",
       "  'The film does start promisingly, however, with a cathartic exorcism scene with many cues recalling William Friedkin’s The Exorcist, such as the famous shot of a hat-wearing priest looking out at the house where he’ll perform the exorcism.',\n",
       "  'Unlike Father Merrin, the priest (barely) survives the exorcism and causes Ed Warren (Patrick Wilson) to have a heart attack.',\n",
       "  'After the possessed child, David Glatzel (Julian Hilliard), performs gruesome contortions with his body and almost kills Ed, Arne Johnson (Ruairi O’Connor), asks the demon to take him instead of David, which it does.',\n",
       "  'Ed and Lorraine (Vera Farmiga) now investigate the origins of the demon that possessed David and Arne, which is quickly revealed to be a curse.',\n",
       "  'This opening scene supposedly sets the stage for what’s to come: effective scares with several “oh my god” moments sprinkled throughout.',\n",
       "  'However, after its traditional text crawl, the movie stops dead in its tracks and starts becoming the most generic horror film I’ve seen since The Curse of La Llorona.',\n",
       "  'After its opening scene, The Devil Made Me Do It rapidly turns into predictable fluff, with jump scares featuring horribly loud musical cues and fake outs you see coming a mile away.',\n",
       "  'Here’s the thing: there is nothing more annoying than a predictable jump scare.',\n",
       "  'Jump scares aren’t scary — they’re either obnoxiously loud, formularized or both.',\n",
       "  'The only film that was able to achieve the overuse of jump scares in recent memory was Andy Muschietti’s 2017 remake of It, but only after it established Pennywise as a terrifying creature.',\n",
       "  'The projector scene is a classic example of that—you can see the scare coming a mile away, but you don’t expect to see Pennywise leaping out of the screen and running to attack the children.',\n",
       "  'The Devil Made Me Do It strictly uses the jump scare with the intent of giving the audience an adrenaline rush, and make them think that it’s scary, but when you exactly know when it’s going to happen, without any suspension of disbelief, it then becomes very hard to impress, even if the film desperately wants to.',\n",
       "  'The Devil Made Me Do It wants to impress with jump scares, because it doesn’t have a compelling story to tell.',\n",
       "  'It has a shell of an interesting story, but never fully fleshes it out and, as a result, becomes confusing.',\n",
       "  'I’ll admit that, during the final act, I had absolutely no clue what was going on with Ed and Lorraine.',\n",
       "  'The film is so busy setting up the next jump scare that it completely forgets about crafting a great story to invest the audience in.',\n",
       "  'Heck, before any legitimate scares happened, the first Conjuring film sets up interesting characters and a somewhat decent story before blowing the audience away and traumatizing them in the process.',\n",
       "  'The only ones that truly seem to care in this instalment are, of course, Patrick Wilson and Vera Farmiga as the Warrens.',\n",
       "  'Their chemistry is as good as it ever was, and they’re also the only convincing actors in the entire film.',\n",
       "  'Every other character is either thinly developed and/or performed in a way you’ll immediately forget about after walking out of the theatre.',\n",
       "  'Everyone seems so uninterested in trying to figure out the film’s non-mystery that it becomes very easy for us audience members to check out and stop giving a damn.',\n",
       "  'It really is a shame, because the previous Conjuring films (not the spinoffs) cared about the story they were telling — always setting up the story before the scares, and building it in a way that it became incredibly effective once the pin drops would happen, because the audience would be invested in the story.',\n",
       "  'In The Devil Made Me Do It, the scares happen too quickly, too many times, without any story being initially set-up.',\n",
       "  'Jump scares aren’t scary, as I’ve previously mentioned, and The Conjuring: The Devil Made Me Do It really wants you to think they are terrifying.',\n",
       "  'Yet, there’s nothing terrifying about speakers cranking up to 11, in a Merzbow-like sound design, in which the film’s quieter sequences have barely perceptible dialogues, almost as if the characters are whispering to one another, but the so-called “scary scenes” are overbearingly loud.',\n",
       "  'If this film will be your return to theatres, be forewarned that it could be the loudest film you’ll see all year.',\n",
       "  'The Conjuring: The Devil Made Me Do It is only loud for the sake of being loud, because it’s apparently cooler to experience loud noises on the big screen and have a collective experience of the most formulaic haunted house sounds you could ever imagine.',\n",
       "  'Yes, Patrick Wilson and Vera Farmiga are excellent, but it’s clearly not enough to save the movie from being something else other than an unimaginative bore, filled with cheap “scares” and an uninteresting story that’s not even being fleshed out for its audience.',\n",
       "  'It’s finally time to retire this franchise once and for all, unless Wan miraculously comes back.',\n",
       "  'If not, lock it in the Warrens’ MacGuffin room forever and ever, until someone (unfortunately) opens it again.']}"
      ]
     },
     "execution_count": 174,
     "metadata": {},
     "output_type": "execute_result"
    }
   ],
   "source": [
    "# for loop version\n",
    "\n",
    "reviews = {}\n",
    "for row in text_df.iloc:\n",
    "    key = row.FileName\n",
    "    value = run_nltk_sent_tokenizer(row.Review)\n",
    "    reviews[key] = value\n",
    "reviews"
   ]
  },
  {
   "cell_type": "code",
   "execution_count": 175,
   "id": "df7b44b8",
   "metadata": {},
   "outputs": [
    {
     "name": "stdout",
     "output_type": "stream",
     "text": [
      "this is the file name: EMU_Doc1_TheConjuring3\n",
      "I must admit that when I sat down to watch the 2021 addition to \"The Conjuring\" franchise, I was not harboring much of any overly great expectations or hopes, because since the first movie it has been a steady downward slope.\n",
      "===================NLTK Tokenizer===================\n",
      "['I', 'must', 'admit', 'that', 'when', 'I', 'sat', 'down', 'to', 'watch', 'the', '2021', 'addition', 'to', '``', 'The', 'Conjuring', \"''\", 'franchise', ',', 'I', 'was', 'not', 'harboring', 'much', 'of', 'any', 'overly', 'great', 'expectations', 'or', 'hopes', ',', 'because', 'since', 'the', 'first', 'movie', 'it', 'has', 'been', 'a', 'steady', 'downward', 'slope', '.']\n",
      "I must admit that when I sat down to watch the 2021 addition to \"The Conjuring\" franchise, I was not harboring much of any overly great expectations or hopes, because since the first movie it has been a steady downward slope.\n",
      "===================NLTK Tokenizer===================\n",
      "['I', 'must', 'admit', 'that', 'when', 'I', 'sat', 'down', 'to', 'watch', 'the', '2021', 'addition', 'to', '``', 'The', 'Conjuring', \"''\", 'franchise', ',', 'I', 'was', 'not', 'harboring', 'much', 'of', 'any', 'overly', 'great', 'expectations', 'or', 'hopes', ',', 'because', 'since', 'the', 'first', 'movie', 'it', 'has', 'been', 'a', 'steady', 'downward', 'slope', '.']\n"
     ]
    }
   ],
   "source": [
    "for key in reviews:\n",
    "    print(\"this is the file name: \" + key)\n",
    "    for sentence in reviews[key]:\n",
    "        print(sentence)\n",
    "        print(\"===================NLTK Tokenizer===================\")\n",
    "        print(run_nltk_tokenizer(sentence))       \n",
    "        break\n",
    "    break\n",
    "    \n",
    "for sentence in reviews['EMU_Doc1_TheConjuring3']:\n",
    "    print(sentence)\n",
    "    print(\"===================NLTK Tokenizer===================\")\n",
    "    print(run_nltk_tokenizer(sentence)) \n",
    "    break"
   ]
  }
 ],
 "metadata": {
  "kernelspec": {
   "display_name": "Python 3",
   "language": "python",
   "name": "python3"
  },
  "language_info": {
   "codemirror_mode": {
    "name": "ipython",
    "version": 3
   },
   "file_extension": ".py",
   "mimetype": "text/x-python",
   "name": "python",
   "nbconvert_exporter": "python",
   "pygments_lexer": "ipython3",
   "version": "3.8.8"
  }
 },
 "nbformat": 4,
 "nbformat_minor": 5
}
